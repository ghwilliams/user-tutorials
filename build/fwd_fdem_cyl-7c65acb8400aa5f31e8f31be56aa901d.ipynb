{
 "cells": [
  {
   "cell_type": "markdown",
   "metadata": {},
   "source": [
    "```{admonition} Intermediate notebook\n",
    ":class: caution\n",
    "This tutorial focusses on intermediate level functionality within SimPEG. Basic functionality within SimPEG is not discussed in detail, as we assume the user is already familiar. \n",
    "```"
   ]
  },
  {
   "cell_type": "markdown",
   "metadata": {},
   "source": [
    "```{admonition} Medium-weight notebook\n",
    ":class: caution\n",
    "Requires moderate computational resources. Run-times may exceed several minutes and require up to 8 GB of available RAM.\n",
    "```"
   ]
  },
  {
   "cell_type": "markdown",
   "metadata": {},
   "source": [
    "\n",
    "# 3D Forward Simulation of FDEM Data on Cylindrical Mesh for a Galvanic Source\n",
    "\n",
    "Here we use the module *SimPEG.electromagnetics.frequency_domain* to simulate the\n",
    "FDEM response for a borehole survey using a cylindrical mesh and radially symmetric\n",
    "conductivity model. For this tutorial, we focus on the following:\n",
    "\n",
    "    - How to define the transmitters and receivers\n",
    "    - How to define the survey\n",
    "    - How to solve the FDEM problem on cylindrical meshes\n",
    "    - The units of the conductivity/resistivity model and resulting data\n",
    "\n",
    "\n",
    "Please note that we have used a coarse mesh to shorten the time of the simulation.\n",
    "Proper discretization is required to simulate the fields at each frequency with\n",
    "sufficient accuracy.\n"
   ]
  },
  {
   "cell_type": "markdown",
   "metadata": {},
   "source": [
    "## Import modules\n",
    "\n",
    "\n"
   ]
  },
  {
   "cell_type": "code",
   "execution_count": null,
   "metadata": {},
   "outputs": [],
   "source": [
    "from discretize import CylindricalMesh\n",
    "from discretize.utils import mkvc\n",
    "\n",
    "from SimPEG import maps\n",
    "import SimPEG.electromagnetics.frequency_domain as fdem\n",
    "\n",
    "import numpy as np\n",
    "import matplotlib as mpl\n",
    "import matplotlib.pyplot as plt\n",
    "\n",
    "try:\n",
    "    from pymatsolver import Pardiso as Solver\n",
    "except ImportError:\n",
    "    from SimPEG import SolverLU as Solver\n",
    "\n",
    "write_file = False\n",
    "\n",
    "# sphinx_gallery_thumbnail_number = 2"
   ]
  },
  {
   "cell_type": "markdown",
   "metadata": {},
   "source": [
    "## Create Airborne Survey\n",
    "\n",
    "Here we define a x-offset borehole survey that consists of a single vertical line\n",
    "of source-receiver pairs which measred the secondary magnetic flux density\n",
    "over a range of frequencies.\n",
    "\n",
    "\n"
   ]
  },
  {
   "cell_type": "code",
   "execution_count": null,
   "metadata": {},
   "outputs": [],
   "source": [
    "# Frequencies being predicted (10 Hz to 10000 Hz)\n",
    "frequencies = np.logspace(1, 4, 16)\n",
    "\n",
    "# Defining transmitter locations\n",
    "xtx, ytx, ztx = np.meshgrid([0], [0], np.linspace(0, -500, 21))\n",
    "source_locations = np.c_[mkvc(xtx), mkvc(ytx), mkvc(ztx)]\n",
    "ntx = np.size(xtx)\n",
    "\n",
    "# Define receiver locations\n",
    "xrx, yrx, zrx = np.meshgrid([100], [0], np.linspace(0, -500, 21))\n",
    "receiver_locations = np.c_[mkvc(xrx), mkvc(yrx), mkvc(zrx)]\n",
    "\n",
    "source_list = []  # Create empty list to store sources\n",
    "\n",
    "# Each unique location and frequency defines a new transmitter\n",
    "for ii in range(ntx):\n",
    "    # Define receivers of different types at each location. Real and imaginary\n",
    "    # measurements require separate receivers. You can define the orientation of\n",
    "    # the transmitters and receivers for different survey geometries.\n",
    "    bzr_receiver = fdem.receivers.PointMagneticFluxDensitySecondary(\n",
    "        receiver_locations[ii, :], \"z\", \"real\"\n",
    "    )\n",
    "    bzi_receiver = fdem.receivers.PointMagneticFluxDensitySecondary(\n",
    "        receiver_locations[ii, :], \"z\", \"imag\"\n",
    "    )\n",
    "    receivers_list = [bzr_receiver, bzi_receiver]  # must be a list\n",
    "\n",
    "    for jj in range(len(frequencies)):\n",
    "        # Must define the transmitter properties and associated receivers\n",
    "        source_list.append(\n",
    "            fdem.sources.MagDipole(\n",
    "                receivers_list, frequencies[jj], source_locations[ii], orientation=\"z\"\n",
    "            )\n",
    "        )\n",
    "\n",
    "# Define the survey\n",
    "survey = fdem.Survey(source_list)"
   ]
  },
  {
   "cell_type": "markdown",
   "metadata": {},
   "source": [
    "## Create Cylindrical Mesh\n",
    "\n",
    "Here we create the cylindrical mesh that will be used for this tutorial\n",
    "example. We chose to design a coarser mesh to decrease the run time.\n",
    "When designing a mesh to solve practical frequency domain problems:\n",
    "\n",
    "    - Your smallest cell size should be 10%-20% the size of your smallest skin depth\n",
    "    - The thickness of your padding needs to be 2-3 times biggest than your largest skin depth\n",
    "    - The skin depth is ~500*np.sqrt(rho/f)\n",
    "\n",
    "\n",
    "\n"
   ]
  },
  {
   "cell_type": "code",
   "execution_count": null,
   "metadata": {},
   "outputs": [],
   "source": [
    "hr = [(10.0, 30), (10.0, 10, 1.5)]  # discretization in the radial direction\n",
    "hz = [\n",
    "    (10.0, 10, -1.5),\n",
    "    (10.0, 200),\n",
    "    (10.0, 10, 1.5),\n",
    "]  # discretization in vertical direction\n",
    "\n",
    "mesh = CylindricalMesh([hr, 1, hz], x0=\"00C\")"
   ]
  },
  {
   "cell_type": "markdown",
   "metadata": {},
   "source": [
    "## Create Conductivity/Resistivity Model and Mapping\n",
    "\n",
    "Here, we create the model that will be used to predict frequency domain\n",
    "data and the mapping from the model to the mesh. The model\n",
    "consists of several layers. For this example, we will have only flat topography.\n",
    "\n",
    "\n"
   ]
  },
  {
   "cell_type": "code",
   "execution_count": null,
   "metadata": {},
   "outputs": [],
   "source": [
    "# Conductivity in S/m (or resistivity in Ohm m)\n",
    "air_conductivity = 1e-8\n",
    "background_conductivity = 1e-1\n",
    "layer_conductivity_1 = 1e0\n",
    "layer_conductivity_2 = 1e-2\n",
    "\n",
    "# Find cells that are active in the forward modeling (cells below surface)\n",
    "ind_active = mesh.cell_centers[:, 2] < 0\n",
    "\n",
    "# Define mapping from model to active cells\n",
    "model_map = maps.InjectActiveCells(mesh, ind_active, air_conductivity)\n",
    "\n",
    "# Define the model\n",
    "model = background_conductivity * np.ones(ind_active.sum())\n",
    "ind = (mesh.cell_centers[ind_active, 2] > -200.0) & (\n",
    "    mesh.cell_centers[ind_active, 2] < -0\n",
    ")\n",
    "model[ind] = layer_conductivity_1\n",
    "ind = (mesh.cell_centers[ind_active, 2] > -400.0) & (\n",
    "    mesh.cell_centers[ind_active, 2] < -200\n",
    ")\n",
    "model[ind] = layer_conductivity_2\n",
    "\n",
    "# Plot Conductivity Model\n",
    "mpl.rcParams.update({\"font.size\": 14})\n",
    "fig = plt.figure(figsize=(5, 6))\n",
    "\n",
    "plotting_map = maps.InjectActiveCells(mesh, ind_active, np.nan)\n",
    "log_model = np.log10(model)\n",
    "\n",
    "ax1 = fig.add_axes([0.14, 0.1, 0.6, 0.85])\n",
    "mesh.plot_image(\n",
    "    plotting_map * log_model,\n",
    "    ax=ax1,\n",
    "    grid=False,\n",
    "    clim=(np.log10(layer_conductivity_2), np.log10(layer_conductivity_1)),\n",
    ")\n",
    "ax1.set_title(\"Conductivity Model\")\n",
    "\n",
    "ax2 = fig.add_axes([0.76, 0.1, 0.05, 0.85])\n",
    "norm = mpl.colors.Normalize(\n",
    "    vmin=np.log10(layer_conductivity_2), vmax=np.log10(layer_conductivity_1)\n",
    ")\n",
    "cbar = mpl.colorbar.ColorbarBase(\n",
    "    ax2, norm=norm, orientation=\"vertical\", format=\"$10^{%.1f}$\"\n",
    ")\n",
    "cbar.set_label(\"Conductivity [S/m]\", rotation=270, labelpad=15, size=12)"
   ]
  },
  {
   "cell_type": "markdown",
   "metadata": {},
   "source": [
    "## Simulation: Predicting FDEM Data\n",
    "\n",
    "Here we define the formulation for solving Maxwell's equations. Since we are\n",
    "measuring the magnetic flux density and working with a conductivity model,\n",
    "the EB formulation is the most natural. We must also remember to define\n",
    "the mapping for the conductivity model. If you defined a resistivity model,\n",
    "use the kwarg *rhoMap* instead of *sigmaMap*\n",
    "\n",
    "\n"
   ]
  },
  {
   "cell_type": "code",
   "execution_count": null,
   "metadata": {},
   "outputs": [],
   "source": [
    "simulation = fdem.simulation.Simulation3DMagneticFluxDensity(\n",
    "    mesh, survey=survey, sigmaMap=model_map, solver=Solver\n",
    ")"
   ]
  },
  {
   "cell_type": "markdown",
   "metadata": {},
   "source": [
    "## Predict and Plot Data\n",
    "\n",
    "Here we show how the simulation is used to predict data.\n",
    "\n",
    "\n"
   ]
  },
  {
   "cell_type": "code",
   "execution_count": null,
   "metadata": {},
   "outputs": [],
   "source": [
    "# Compute predicted data for the given model.\n",
    "dpred = simulation.dpred(model)\n",
    "\n",
    "# Data are organized by transmitter location, then component, then frequency. We had nFreq\n",
    "# transmitters and each transmitter had 2 receivers (real and imaginary component). So\n",
    "# first we will pick out the real and imaginary data\n",
    "bz_real = dpred[0 : len(dpred) : 2]\n",
    "bz_imag = dpred[1 : len(dpred) : 2]\n",
    "\n",
    "# Then we will will reshape the data.\n",
    "bz_real = np.reshape(bz_real, (ntx, len(frequencies)))\n",
    "bz_imag = np.reshape(bz_imag, (ntx, len(frequencies)))\n",
    "\n",
    "# Plot secondary field along the profile at f = 10000 Hz\n",
    "fig = plt.figure(figsize=(5, 5))\n",
    "ax1 = fig.add_axes([0.2, 0.15, 0.75, 0.75])\n",
    "frequencies_index = 0\n",
    "ax1.plot(bz_real[:, frequencies_index], receiver_locations[:, -1], \"b-\", lw=3)\n",
    "ax1.plot(bz_imag[:, frequencies_index], receiver_locations[:, -1], \"b--\", lw=3)\n",
    "ax1.set_xlabel(\"Bz secondary [T]\")\n",
    "ax1.set_ylabel(\"Elevation [m]\")\n",
    "ax1.set_title(\"Response at 10000 Hz\")\n",
    "ax1.legend([\"Real\", \"Imaginary\"], loc=\"upper right\")\n",
    "\n",
    "# Plot FEM response for all frequencies\n",
    "fig = plt.figure(figsize=(5, 5))\n",
    "ax1 = fig.add_axes([0.2, 0.15, 0.75, 0.75])\n",
    "location_index = 0\n",
    "ax1.semilogx(frequencies, bz_real[location_index, :], \"b-\", lw=3)\n",
    "ax1.semilogx(frequencies, bz_imag[location_index, :], \"b--\", lw=3)\n",
    "ax1.set_xlim((np.min(frequencies), np.max(frequencies)))\n",
    "ax1.set_xlabel(\"Frequency [Hz]\")\n",
    "ax1.set_ylabel(\"Bz secondary [T]\")\n",
    "ax1.set_title(\"Response at Smallest Offset\")\n",
    "ax1.legend([\"Real\", \"Imaginary\"], loc=\"upper left\")"
   ]
  }
 ],
 "metadata": {
  "kernelspec": {
   "display_name": "Python 3 (ipykernel)",
   "language": "python",
   "name": "python3"
  },
  "language_info": {
   "codemirror_mode": {
    "name": "ipython",
    "version": 3
   },
   "file_extension": ".py",
   "mimetype": "text/x-python",
   "name": "python",
   "nbconvert_exporter": "python",
   "pygments_lexer": "ipython3",
   "version": "3.10.9"
  }
 },
 "nbformat": 4,
 "nbformat_minor": 1
}
