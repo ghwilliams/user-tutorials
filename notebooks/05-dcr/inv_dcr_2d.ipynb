{
 "cells": [
  {
   "cell_type": "markdown",
   "metadata": {},
   "source": [
    "\n",
    "# 2.5D DC Resistivity Inversion with Sparse Norms\n",
    "\n",
    "Here we invert a line of DC resistivity data to recover an electrical\n",
    "conductivity model. We formulate the inverse problem as a least-squares\n",
    "optimization problem. For this tutorial, we focus on the following:\n",
    "\n",
    "    - Defining the survey\n",
    "    - Generating a mesh based on survey geometry\n",
    "    - Including surface topography\n",
    "    - Defining the inverse problem (data misfit, regularization, directives)\n",
    "    - Applying sensitivity weighting\n",
    "    - Plotting the recovered model and data misfit\n"
   ]
  },
  {
   "cell_type": "markdown",
   "metadata": {},
   "source": [
    "## Import modules\n",
    "\n",
    "\n"
   ]
  },
  {
   "cell_type": "code",
   "execution_count": null,
   "metadata": {},
   "outputs": [],
   "source": [
    "import os\n",
    "import numpy as np\n",
    "import matplotlib as mpl\n",
    "import matplotlib.pyplot as plt\n",
    "from matplotlib.colors import LogNorm\n",
    "import tarfile\n",
    "\n",
    "from discretize import TreeMesh\n",
    "from discretize.utils import mkvc, refine_tree_xyz, active_from_xyz\n",
    "\n",
    "from SimPEG.utils import model_builder\n",
    "from SimPEG import (\n",
    "    maps,\n",
    "    data_misfit,\n",
    "    regularization,\n",
    "    optimization,\n",
    "    inverse_problem,\n",
    "    inversion,\n",
    "    directives,\n",
    "    utils,\n",
    ")\n",
    "from SimPEG.electromagnetics.static import resistivity as dc\n",
    "from SimPEG.electromagnetics.static.utils.static_utils import (\n",
    "    plot_pseudosection,\n",
    "    apparent_resistivity_from_voltage,\n",
    ")\n",
    "from SimPEG.utils.io_utils.io_utils_electromagnetics import read_dcip2d_ubc\n",
    "\n",
    "try:\n",
    "    from pymatsolver import Pardiso as Solver\n",
    "except ImportError:\n",
    "    from SimPEG import SolverLU as Solver\n",
    "\n",
    "mpl.rcParams.update({\"font.size\": 16})\n",
    "# sphinx_gallery_thumbnail_number = 3"
   ]
  },
  {
   "cell_type": "markdown",
   "metadata": {},
   "source": [
    "## Define File Names\n",
    "\n",
    "Here we provide the file paths to assets we need to run the inversion. The\n",
    "path to the true model conductivity and chargeability models are also\n",
    "provided for comparison with the inversion results. These files are stored as a\n",
    "tar-file on our google cloud bucket:\n",
    "\"https://storage.googleapis.com/simpeg/doc-assets/dcr2d.tar.gz\"\n",
    "\n",
    "\n"
   ]
  },
  {
   "cell_type": "code",
   "execution_count": null,
   "metadata": {},
   "outputs": [],
   "source": [
    "# URL to download from repository assets\n",
    "data_source = \"https://github.com/simpeg/user-tutorials/raw/main/assets/05-dcr/fwd_dcr_1d.tar.gz\"\n",
    "\n",
    "# download the data\n",
    "downloaded_data = utils.download(data_source, overwrite=True)\n",
    "\n",
    "# unzip the tarfile\n",
    "tar = tarfile.open(downloaded_data, \"r\")\n",
    "tar.extractall()\n",
    "tar.close()\n",
    "\n",
    "# path to the directory containing our data\n",
    "dir_path = downloaded_data.split(\".\")[0] + os.path.sep\n",
    "\n",
    "# files to work with\n",
    "topo_filename = dir_path + \"topo_xyz.txt\"\n",
    "data_filename = dir_path + \"dc_data.obs\""
   ]
  },
  {
   "cell_type": "markdown",
   "metadata": {},
   "source": [
    "## Load Data, Define Survey and Plot\n",
    "\n",
    "Here we load the observed data, define the DC and IP survey geometry and\n",
    "plot the data values using pseudo-sections.\n",
    "**Warning**: In the following example, the observations file is assumed to be\n",
    "sorted by sources\n",
    "\n",
    "\n"
   ]
  },
  {
   "cell_type": "code",
   "execution_count": null,
   "metadata": {},
   "outputs": [],
   "source": [
    "# Load data\n",
    "topo_xyz = np.loadtxt(str(topo_filename))\n",
    "dc_data = read_dcip2d_ubc(data_filename, \"volt\", \"general\")"
   ]
  },
  {
   "cell_type": "markdown",
   "metadata": {},
   "source": [
    "## Plot Observed Data in Pseudo-Section\n",
    "\n",
    "Here, we demonstrate how to plot 2D data in pseudo-section.\n",
    "First, we plot the actual data (voltages) in pseudo-section as a scatter plot.\n",
    "This allows us to visualize the pseudo-sensitivity locations for our survey.\n",
    "Next, we plot the data as apparent conductivities in pseudo-section with a filled\n",
    "contour plot.\n",
    "\n",
    "\n"
   ]
  },
  {
   "cell_type": "code",
   "execution_count": null,
   "metadata": {},
   "outputs": [],
   "source": [
    "# Plot voltages pseudo-section\n",
    "fig = plt.figure(figsize=(12, 5))\n",
    "ax1 = fig.add_axes([0.1, 0.15, 0.75, 0.78])\n",
    "plot_pseudosection(\n",
    "    dc_data,\n",
    "    plot_type=\"scatter\",\n",
    "    ax=ax1,\n",
    "    scale=\"log\",\n",
    "    cbar_label=\"V/A\",\n",
    "    scatter_opts={\"cmap\": mpl.cm.viridis},\n",
    ")\n",
    "ax1.set_title(\"Normalized Voltages\")\n",
    "plt.show()\n",
    "\n",
    "# Get apparent conductivities from volts and survey geometry\n",
    "apparent_conductivities = 1 / apparent_resistivity_from_voltage(\n",
    "    dc_data.survey, dc_data.dobs\n",
    ")\n",
    "\n",
    "# Plot apparent conductivity pseudo-section\n",
    "fig = plt.figure(figsize=(12, 5))\n",
    "ax1 = fig.add_axes([0.1, 0.15, 0.75, 0.78])\n",
    "plot_pseudosection(\n",
    "    dc_data.survey,\n",
    "    apparent_conductivities,\n",
    "    plot_type=\"contourf\",\n",
    "    ax=ax1,\n",
    "    scale=\"log\",\n",
    "    cbar_label=\"S/m\",\n",
    "    mask_topography=True,\n",
    "    contourf_opts={\"levels\": 20, \"cmap\": mpl.cm.viridis},\n",
    ")\n",
    "ax1.set_title(\"Apparent Conductivity\")\n",
    "plt.show()"
   ]
  },
  {
   "cell_type": "markdown",
   "metadata": {},
   "source": [
    "## Assign Uncertainties\n",
    "\n",
    "Inversion with SimPEG requires that we define the uncertainties on our data.\n",
    "This represents our estimate of the standard deviation of the\n",
    "noise in our data. For DC data, the uncertainties are 5% of the absolute value."
   ]
  },
  {
   "cell_type": "code",
   "execution_count": null,
   "metadata": {},
   "outputs": [],
   "source": [
    "dc_data.standard_deviation = 0.05 * np.abs(dc_data.dobs)"
   ]
  },
  {
   "cell_type": "markdown",
   "metadata": {},
   "source": [
    "## Create Tree Mesh\n",
    "\n",
    "Here, we create the Tree mesh that will be used invert the DC data\n",
    "\n",
    "\n"
   ]
  },
  {
   "cell_type": "code",
   "execution_count": null,
   "metadata": {},
   "outputs": [],
   "source": [
    "dh = 4  # base cell width\n",
    "dom_width_x = 3200.0  # domain width x\n",
    "dom_width_z = 2400.0  # domain width z\n",
    "nbcx = 2 ** int(np.round(np.log(dom_width_x / dh) / np.log(2.0)))  # num. base cells x\n",
    "nbcz = 2 ** int(np.round(np.log(dom_width_z / dh) / np.log(2.0)))  # num. base cells z\n",
    "\n",
    "# Define the base mesh\n",
    "hx = [(dh, nbcx)]\n",
    "hz = [(dh, nbcz)]\n",
    "mesh = TreeMesh([hx, hz], x0=\"CN\")\n",
    "\n",
    "# Mesh refinement based on topography\n",
    "mesh = refine_tree_xyz(\n",
    "    mesh,\n",
    "    topo_xyz[:, [0, 2]],\n",
    "    octree_levels=[0, 0, 4, 4],\n",
    "    method=\"surface\",\n",
    "    finalize=False,\n",
    ")\n",
    "\n",
    "# Mesh refinement near transmitters and receivers. First we need to obtain the\n",
    "# set of unique electrode locations.\n",
    "electrode_locations = np.c_[\n",
    "    dc_data.survey.locations_a,\n",
    "    dc_data.survey.locations_b,\n",
    "    dc_data.survey.locations_m,\n",
    "    dc_data.survey.locations_n,\n",
    "]\n",
    "\n",
    "unique_locations = np.unique(\n",
    "    np.reshape(electrode_locations, (4 * dc_data.survey.nD, 2)), axis=0\n",
    ")\n",
    "\n",
    "mesh = refine_tree_xyz(\n",
    "    mesh, unique_locations, octree_levels=[4, 4], method=\"radial\", finalize=False\n",
    ")\n",
    "\n",
    "# Refine core mesh region\n",
    "xp, zp = np.meshgrid([-600.0, 600.0], [-400.0, 0.0])\n",
    "xyz = np.c_[mkvc(xp), mkvc(zp)]\n",
    "mesh = refine_tree_xyz(\n",
    "    mesh, xyz, octree_levels=[0, 0, 2, 8], method=\"box\", finalize=False\n",
    ")\n",
    "\n",
    "mesh.finalize()"
   ]
  },
  {
   "cell_type": "markdown",
   "metadata": {},
   "source": [
    "## Project Surveys to Discretized Topography\n",
    "\n",
    "It is important that electrodes are not model as being in the air. Even if the\n",
    "electrodes are properly located along surface topography, they may lie above\n",
    "the discretized topography. This step is carried out to ensure all electrodes\n",
    "like on the discretized surface.\n",
    "\n",
    "\n"
   ]
  },
  {
   "cell_type": "code",
   "execution_count": null,
   "metadata": {},
   "outputs": [],
   "source": [
    "# Create 2D topography. Since our 3D topography only changes in the x direction,\n",
    "# it is easy to define the 2D topography projected along the survey line. For\n",
    "# arbitrary topography and for an arbitrary survey orientation, the user must\n",
    "# define the 2D topography along the survey line.\n",
    "topo_2d = np.unique(topo_xyz[:, [0, 2]], axis=0)\n",
    "\n",
    "# Find cells that lie below surface topography\n",
    "ind_active = active_from_xyz(mesh, topo_2d)\n",
    "\n",
    "# Extract survey from data object\n",
    "survey = dc_data.survey\n",
    "\n",
    "# Shift electrodes to the surface of discretized topography\n",
    "survey.drape_electrodes_on_topography(mesh, ind_active, option=\"top\")\n",
    "\n",
    "# Reset survey in data object\n",
    "dc_data.survey = survey"
   ]
  },
  {
   "cell_type": "markdown",
   "metadata": {},
   "source": [
    "## Starting/Reference Model and Mapping on Tree Mesh\n",
    "\n",
    "Here, we would create starting and/or reference models for the DC inversion as\n",
    "well as the mapping from the model space to the active cells. Starting and\n",
    "reference models can be a constant background value or contain a-priori\n",
    "structures. Here, the starting model is the natural log of 0.01 S/m.\n",
    "\n",
    "\n"
   ]
  },
  {
   "cell_type": "code",
   "execution_count": null,
   "metadata": {},
   "outputs": [],
   "source": [
    "# Define conductivity model in S/m (or resistivity model in Ohm m)\n",
    "air_conductivity = np.log(1e-8)\n",
    "background_conductivity = np.log(1e-2)\n",
    "\n",
    "active_map = maps.InjectActiveCells(mesh, ind_active, np.exp(air_conductivity))\n",
    "nC = int(ind_active.sum())\n",
    "\n",
    "conductivity_map = active_map * maps.ExpMap()\n",
    "\n",
    "# Define model\n",
    "starting_conductivity_model = background_conductivity * np.ones(nC)"
   ]
  },
  {
   "cell_type": "markdown",
   "metadata": {},
   "source": [
    "## Define the Physics of the DC Simulation\n",
    "\n",
    "Here, we define the physics of the DC resistivity problem.\n",
    "\n",
    "\n"
   ]
  },
  {
   "cell_type": "code",
   "execution_count": null,
   "metadata": {},
   "outputs": [],
   "source": [
    "# Define the problem. Define the cells below topography and the mapping\n",
    "simulation = dc.simulation_2d.Simulation2DNodal(\n",
    "    mesh, survey=survey, sigmaMap=conductivity_map, solver=Solver, storeJ=True\n",
    ")"
   ]
  },
  {
   "cell_type": "markdown",
   "metadata": {},
   "source": [
    "## Define DC Inverse Problem\n",
    "\n",
    "The inverse problem is defined by 3 things:\n",
    "\n",
    "    1) Data Misfit: a measure of how well our recovered model explains the field data\n",
    "    2) Regularization: constraints placed on the recovered model and a priori information\n",
    "    3) Optimization: the numerical approach used to solve the inverse problem\n",
    "\n",
    "\n",
    "\n"
   ]
  },
  {
   "cell_type": "code",
   "execution_count": null,
   "metadata": {},
   "outputs": [],
   "source": [
    "# Define the data misfit. Here the data misfit is the L2 norm of the weighted\n",
    "# residual between the observed data and the data predicted for a given model.\n",
    "# Within the data misfit, the residual between predicted and observed data are\n",
    "# normalized by the data's standard deviation.\n",
    "dmis = data_misfit.L2DataMisfit(data=dc_data, simulation=simulation)\n",
    "\n",
    "# Define the regularization (model objective function). Here, 'p' defines the\n",
    "# the norm of the smallness term, 'qx' defines the norm of the smoothness\n",
    "# in x and 'qz' defines the norm of the smoothness in z.\n",
    "regmap = maps.IdentityMap(nP=int(ind_active.sum()))\n",
    "\n",
    "reg = regularization.Sparse(\n",
    "    mesh,\n",
    "    indActive=ind_active,\n",
    "    reference_model=starting_conductivity_model,\n",
    "    mapping=regmap,\n",
    "    gradientType=\"total\",\n",
    "    alpha_s=0.01,\n",
    "    alpha_x=1,\n",
    "    alpha_y=1,\n",
    ")\n",
    "\n",
    "reg.reference_model_in_smooth = True  # Include reference model in smoothness\n",
    "\n",
    "p = 0\n",
    "qx = 1\n",
    "qz = 1\n",
    "reg.norms = [p, qx, qz]\n",
    "\n",
    "# Define how the optimization problem is solved. Here we will use an inexact\n",
    "# Gauss-Newton approach.\n",
    "opt = optimization.InexactGaussNewton(maxIter=40)\n",
    "\n",
    "# Here we define the inverse problem that is to be solved\n",
    "inv_prob = inverse_problem.BaseInvProblem(dmis, reg, opt)"
   ]
  },
  {
   "cell_type": "markdown",
   "metadata": {},
   "source": [
    "## Define DC Inversion Directives\n",
    "\n",
    "Here we define any directives that are carried out during the inversion. This\n",
    "includes the cooling schedule for the trade-off parameter (beta), stopping\n",
    "criteria for the inversion and saving inversion results at each iteration.\n",
    "\n",
    "\n"
   ]
  },
  {
   "cell_type": "code",
   "execution_count": null,
   "metadata": {},
   "outputs": [],
   "source": [
    "# Apply and update sensitivity weighting as the model updates\n",
    "update_sensitivity_weighting = directives.UpdateSensitivityWeights()\n",
    "\n",
    "# Reach target misfit for L2 solution, then use IRLS until model stops changing.\n",
    "update_IRLS = directives.Update_IRLS(\n",
    "    max_irls_iterations=25, minGNiter=1, chifact_start=1.0\n",
    ")\n",
    "\n",
    "# Defining a starting value for the trade-off parameter (beta) between the data\n",
    "# misfit and the regularization.\n",
    "starting_beta = directives.BetaEstimate_ByEig(beta0_ratio=1e1)\n",
    "\n",
    "# Options for outputting recovered models and predicted data for each beta.\n",
    "save_iteration = directives.SaveOutputEveryIteration(save_txt=False)\n",
    "\n",
    "# Update preconditioner\n",
    "update_jacobi = directives.UpdatePreconditioner()\n",
    "\n",
    "directives_list = [\n",
    "    update_sensitivity_weighting,\n",
    "    update_IRLS,\n",
    "    starting_beta,\n",
    "    save_iteration,\n",
    "    update_jacobi,\n",
    "]"
   ]
  },
  {
   "cell_type": "markdown",
   "metadata": {},
   "source": [
    "## Running the DC Inversion\n",
    "\n",
    "To define the inversion object, we need to define the inversion problem and\n",
    "the set of directives. We can then run the inversion.\n",
    "\n",
    "\n"
   ]
  },
  {
   "cell_type": "code",
   "execution_count": null,
   "metadata": {},
   "outputs": [],
   "source": [
    "# Here we combine the inverse problem and the set of directives\n",
    "dc_inversion = inversion.BaseInversion(inv_prob, directiveList=directives_list)\n",
    "\n",
    "# Run inversion\n",
    "recovered_conductivity_model = dc_inversion.run(starting_conductivity_model)"
   ]
  },
  {
   "cell_type": "markdown",
   "metadata": {},
   "source": [
    "## Recreate True Conductivity Model\n",
    "\n",
    "\n"
   ]
  },
  {
   "cell_type": "code",
   "execution_count": null,
   "metadata": {},
   "outputs": [],
   "source": [
    "true_background_conductivity = 1e-2\n",
    "true_conductor_conductivity = 1e-1\n",
    "true_resistor_conductivity = 1e-3\n",
    "\n",
    "true_conductivity_model = true_background_conductivity * np.ones(len(mesh))\n",
    "\n",
    "ind_conductor = model_builder.getIndicesSphere(np.r_[-120.0, -180.0], 60.0, mesh.gridCC)\n",
    "true_conductivity_model[ind_conductor] = true_conductor_conductivity\n",
    "\n",
    "ind_resistor = model_builder.getIndicesSphere(np.r_[120.0, -180.0], 60.0, mesh.gridCC)\n",
    "true_conductivity_model[ind_resistor] = true_resistor_conductivity\n",
    "\n",
    "true_conductivity_model[~ind_active] = np.NaN"
   ]
  },
  {
   "cell_type": "markdown",
   "metadata": {},
   "source": [
    "## Plotting True and Recovered Conductivity Model\n",
    "\n",
    "\n"
   ]
  },
  {
   "cell_type": "code",
   "execution_count": null,
   "metadata": {},
   "outputs": [],
   "source": [
    "# Get L2 and sparse recovered model in base 10\n",
    "l2_conductivity = conductivity_map * inv_prob.l2model\n",
    "l2_conductivity[~ind_active] = np.NaN\n",
    "\n",
    "recovered_conductivity = conductivity_map * recovered_conductivity_model\n",
    "recovered_conductivity[~ind_active] = np.NaN\n",
    "\n",
    "# Plot True Model\n",
    "norm = LogNorm(vmin=1e-3, vmax=1e-1)\n",
    "\n",
    "fig = plt.figure(figsize=(9, 15))\n",
    "ax1 = 3 * [None]\n",
    "ax2 = 3 * [None]\n",
    "title_str = [\n",
    "    \"True Conductivity Model\",\n",
    "    \"Smooth Recovered Model\",\n",
    "    \"Sparse Recovered Model\",\n",
    "]\n",
    "plotting_model = [\n",
    "    true_conductivity_model,\n",
    "    l2_conductivity,\n",
    "    recovered_conductivity,\n",
    "]\n",
    "\n",
    "for ii in range(0, 3):\n",
    "    ax1[ii] = fig.add_axes([0.14, 0.75 - 0.3 * ii, 0.68, 0.2])\n",
    "    mesh.plot_image(\n",
    "        plotting_model[ii],\n",
    "        ax=ax1[ii],\n",
    "        grid=False,\n",
    "        range_x=[-700, 700],\n",
    "        range_y=[-600, 0],\n",
    "        pcolor_opts={\"norm\": norm},\n",
    "    )\n",
    "    ax1[ii].set_xlim(-600, 600)\n",
    "    ax1[ii].set_ylim(-600, 0)\n",
    "    ax1[ii].set_title(title_str[ii])\n",
    "    ax1[ii].set_xlabel(\"x (m)\")\n",
    "    ax1[ii].set_ylabel(\"z (m)\")\n",
    "\n",
    "    ax2[ii] = fig.add_axes([0.84, 0.75 - 0.3 * ii, 0.03, 0.2])\n",
    "    cbar = mpl.colorbar.ColorbarBase(ax2[ii], norm=norm, orientation=\"vertical\")\n",
    "    cbar.set_label(r\"$\\sigma$ (S/m)\", rotation=270, labelpad=15, size=12)\n",
    "\n",
    "plt.show()"
   ]
  },
  {
   "cell_type": "markdown",
   "metadata": {},
   "source": [
    "## Plotting Predicted DC Data and Misfit\n",
    "\n",
    "\n"
   ]
  },
  {
   "cell_type": "code",
   "execution_count": null,
   "metadata": {},
   "outputs": [],
   "source": [
    "# Predicted data from recovered model\n",
    "dpred = inv_prob.dpred\n",
    "dobs = dc_data.dobs\n",
    "std = dc_data.standard_deviation\n",
    "\n",
    "# Plot\n",
    "fig = plt.figure(figsize=(9, 13))\n",
    "data_array = [np.abs(dobs), np.abs(dpred), (dobs - dpred) / std]\n",
    "plot_title = [\"Observed Voltage\", \"Predicted Voltage\", \"Normalized Misfit\"]\n",
    "plot_units = [\"V/A\", \"V/A\", \"\"]\n",
    "scale = [\"log\", \"log\", \"linear\"]\n",
    "\n",
    "ax1 = 3 * [None]\n",
    "cax1 = 3 * [None]\n",
    "cbar = 3 * [None]\n",
    "cplot = 3 * [None]\n",
    "\n",
    "for ii in range(0, 3):\n",
    "    ax1[ii] = fig.add_axes([0.15, 0.72 - 0.33 * ii, 0.65, 0.21])\n",
    "    cax1[ii] = fig.add_axes([0.81, 0.72 - 0.33 * ii, 0.03, 0.21])\n",
    "    cplot[ii] = plot_pseudosection(\n",
    "        survey,\n",
    "        data_array[ii],\n",
    "        \"contourf\",\n",
    "        ax=ax1[ii],\n",
    "        cax=cax1[ii],\n",
    "        scale=scale[ii],\n",
    "        cbar_label=plot_units[ii],\n",
    "        mask_topography=True,\n",
    "        contourf_opts={\"levels\": 25, \"cmap\": mpl.cm.viridis},\n",
    "    )\n",
    "    ax1[ii].set_title(plot_title[ii])\n",
    "\n",
    "plt.show()"
   ]
  }
 ],
 "metadata": {
  "kernelspec": {
   "display_name": "Python 3 (ipykernel)",
   "language": "python",
   "name": "python3"
  },
  "language_info": {
   "codemirror_mode": {
    "name": "ipython",
    "version": 3
   },
   "file_extension": ".py",
   "mimetype": "text/x-python",
   "name": "python",
   "nbconvert_exporter": "python",
   "pygments_lexer": "ipython3",
   "version": "3.10.9"
  }
 },
 "nbformat": 4,
 "nbformat_minor": 1
}
