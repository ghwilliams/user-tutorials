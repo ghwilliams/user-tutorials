{
 "cells": [
  {
   "cell_type": "markdown",
   "metadata": {},
   "source": [
    "# 2D DC Resistivity Sensitivity analysis"
   ]
  },
  {
   "cell_type": "markdown",
   "metadata": {},
   "source": [
    "```{admonition} Introductory notebook\n",
    ":class: hint\n",
    "This tutorial teaches basic functionality within SimPEG and is a good entry point for new users.\n",
    "```"
   ]
  },
  {
   "cell_type": "markdown",
   "metadata": {},
   "source": [
    "```{admonition} Light-weight notebook\n",
    ":class: hint\n",
    "This tutorial requires minimal computational resources and can be executed quickly in the background while other computer processes are running.\n",
    "```"
   ]
  },
  {
   "cell_type": "markdown",
   "metadata": {},
   "source": [
    "**Author:** Williams Lima\n",
    "\n",
    "</br>\n",
    "\n",
    "**Keywords:** DC Resistivity inversion, sensitivity matrix.\n",
    "\n",
    "</br>"
   ]
  },
  {
   "cell_type": "markdown",
   "metadata": {},
   "source": [
    "**Summary:**\n",
    "The sensitivity matrix is a very important, and frequently used, tool to consider when designing a DC resistivity survey. It can give us qualitative and, to some extent, quantitave information about the capability of estimating the distribution of electrical conductivities underground using a particular experimental setup and geological environment. In this tutorial we'll use SimPEG functionalities to look at the sensitivity matrix for the DC resistivity inverse problem. We will analyse the sensitivity patterns for a few commonly used electrode arrays using a homogeneous conductivity model and also look at a real data case from a mineral exploration scenario. Enjoy!\n",
    "\n",
    "</br>\n",
    "\n",
    "**Learning Objectives:**\n",
    "\n",
    "- How to get the sensitivity matrix for a DC resistivits simulation by using utility functions in SimPEG.\n",
    "- Exploring the different sensitivity patterns for a number of common electrode arrays.\n",
    "- How to plot information contained in the sensitivity matrix.\n",
    "- Look at the sensitivity matrix for a real data set.\n",
    "\n",
    "</br>"
   ]
  },
  {
   "cell_type": "markdown",
   "metadata": {},
   "source": [
    "## Import modules\n",
    "\n",
    "Here, we import all of the functionality required to run the notebook for the tutorial exercise. All of the functionality specific to DC resistivity is imported from [SimPEG.electromagnetics.static.resistivity](myst:SimPEG#SimPEG.electromagnetics.static.resistivity).\n",
    "\n",
    "We also import some useful utility functions from [SimPEG.utils](myst:SimPEG#SimPEG.utils). To simulate DC resistivity data, we need to define our problem geometry on a numerical grid (or mesh).\r\n",
    "To generate the mesh, we used the [discretize](https://discretize.simpeg.xyz/en/main) package."
   ]
  },
  {
   "cell_type": "code",
   "execution_count": 1,
   "metadata": {},
   "outputs": [],
   "source": [
    "# SimPEG functionality\n",
    "from SimPEG.electromagnetics.static import resistivity as dc\n",
    "from SimPEG import maps\n",
    "\n",
    "# discretize functionality\n",
    "from discretize import TreeMesh, TensorMesh\n",
    "from discretize.utils import refine_tree_xyz\n",
    "\n",
    "# Common Python functionality\n",
    "import numpy as np\n",
    "import matplotlib as mpl\n",
    "import matplotlib.pyplot as plt\n",
    "from matplotlib.colors import LogNorm\n",
    "\n",
    "# SimPEG inversion machinery\n",
    "from SimPEG import (\n",
    "    Data, maps,\n",
    "    data_misfit, regularization, optimization, inverse_problem, \n",
    "    inversion, directives\n",
    ") \n",
    "\n",
    "from SimPEG.electromagnetics.static import utils as dc_utils\n",
    "\n",
    "# linear solvers\n",
    "try: \n",
    "    from pymatsolver import Pardiso as Solver  # this is a fast linear solver \n",
    "except ImportError:\n",
    "    from SimPEG import SolverLU as Solver  # this will be slower"
   ]
  },
  {
   "cell_type": "markdown",
   "metadata": {},
   "source": [
    "## Homogeneous half space"
   ]
  },
  {
   "cell_type": "markdown",
   "metadata": {},
   "source": [
    "### Define surveys\n",
    "There are many different possible combinations of current and potential electrodes locations that could be used to create a DC resistivity survey. Maybe some of those combinations would be better than others for a particular case under specific constraints such as cost, physical constraints, time and sensitivity to a particular target at depth. The sensitivity analysis, that we are going to perform in this tutorial, will help us with the task of assessing the performance of a given electrode array with respect to its sensitivity to conductivity anomalies around a particular target region in the subsurface. For more information about DC resistivity modeling in SimPEG check out the tutorial [2.5D DC Resistivity Simulation](05-dcr/fwd_dcr_2d).\n",
    "\n",
    "In the figure below, we can see a few of the most common array configurations used in the industry and academic works.\n",
    "\n",
    "```{figure}https://gpg.geosci.xyz/_images/figure6.gif\n",
    ":width: 350px\n",
    ":align: center\n",
    "\n",
    "DC resistivity arrays ([image source](https://gpg.geosci.xyz/_images/figure6.gif))\n",
    "```"
   ]
  },
  {
   "cell_type": "markdown",
   "metadata": {},
   "source": [
    "**Two simple surveys in a homogeneous medium**\n",
    "\n",
    "Our first step is to create two simple surveys, Wenner alpha and Wenner beta. Each of theses surveys will contain one pair of current electrodes and one pair of potential electrodes only. The extension to any number of current/potential electrodes is straightforward and will be left as an exercise.\n",
    "\n"
   ]
  },
  {
   "cell_type": "code",
   "execution_count": 2,
   "metadata": {
    "scrolled": true,
    "vscode": {
     "languageId": "plaintext"
    }
   },
   "outputs": [],
   "source": [
    "# Define survey line parameters for Wenner surveys\n",
    "data_type = \"volt\"\n",
    "src_list = []\n",
    "\n",
    "# Wenner alpha\n",
    "C_wenner_alpha = np.array([[-15.0, 0.0], [15.0, 0.0]])\n",
    "P_wenner_alpha = np.array([[-5.0, 0.0], [5.0, 0.0]])\n",
    "\n",
    "rx_wenner_alpha = dc.receivers.Dipole(locations_m=P_wenner_alpha[0], locations_n=P_wenner_alpha[1], data_type=data_type) \n",
    "rx_list_wenner_alpha = [rx_wenner_alpha]\n",
    "\n",
    "src_list.append(dc.sources.Dipole(location_a=C_wenner_alpha[0], location_b=C_wenner_alpha[1], receiver_list=rx_list_wenner_alpha))\n",
    "\n",
    "# Dipole-Dipole\n",
    "C_dipole_dipole = np.array([[-15.0, 0.0], [-5.0, 0.0]])\n",
    "P_dipole_dipole = np.array([[5.0, 0.0], [15.0, 0.0]])\n",
    "\n",
    "rx_dipole_dipole = dc.receivers.Dipole(locations_m=P_dipole_dipole[0], locations_n=P_dipole_dipole[1], data_type=data_type) \n",
    "rx_list_dipole_dipole = [rx_dipole_dipole]\n",
    "\n",
    "src_list.append(dc.sources.Dipole(location_a=C_dipole_dipole[0], location_b=C_dipole_dipole[1], receiver_list=rx_list_dipole_dipole))\n",
    "\n",
    "survey = dc.Survey(source_list=src_list)"
   ]
  },
  {
   "cell_type": "markdown",
   "metadata": {},
   "source": [
    "### Create mesh"
   ]
  },
  {
   "cell_type": "code",
   "execution_count": 3,
   "metadata": {
    "vscode": {
     "languageId": "plaintext"
    }
   },
   "outputs": [],
   "source": [
    "dh = 0.25  # base cell width\n",
    "dom_width_x = 300.0  # domain width x\n",
    "dom_width_z = 200.0  # domain width z\n",
    "nbcx = 2 ** int(np.round(np.log(dom_width_x / dh) / np.log(2.0)))  # num. base cells x\n",
    "nbcz = 2 ** int(np.round(np.log(dom_width_z / dh) / np.log(2.0)))  # num. base cells z\n",
    "\n",
    "# Define the base mesh with top at z = 0 m.\n",
    "hx = [(dh, nbcx)]\n",
    "hz = [(dh, nbcz)]\n",
    "mesh = TreeMesh([hx, hz], x0=\"CN\")\n",
    "\n",
    "# Refine core mesh region\n",
    "mesh.refine_box([-50,-50],[50,0], levels=-1, finalize=False)\n",
    "\n",
    "mesh.finalize()"
   ]
  },
  {
   "cell_type": "markdown",
   "metadata": {},
   "source": [
    "### Define the conductivity model"
   ]
  },
  {
   "cell_type": "code",
   "execution_count": 4,
   "metadata": {},
   "outputs": [],
   "source": [
    "background_resistivity = 50 # Ohm.m\n",
    "background_conductivity = 1/background_resistivity\n",
    "nC = mesh.nC\n",
    "conductivity_model = background_conductivity * np.ones(nC)\n",
    "\n",
    "conductivity_map = maps.IdentityMap()"
   ]
  },
  {
   "cell_type": "code",
   "execution_count": 5,
   "metadata": {},
   "outputs": [],
   "source": [
    "# DC simulation for a conductivity model\n",
    "simulation_con = dc.simulation_2d.Simulation2DNodal(\n",
    "    mesh, survey=survey, sigmaMap=conductivity_map\n",
    ")"
   ]
  },
  {
   "cell_type": "markdown",
   "metadata": {},
   "source": [
    "### Plot sensitivity"
   ]
  },
  {
   "cell_type": "markdown",
   "metadata": {},
   "source": [
    "**Get the sensitivity matrix**"
   ]
  },
  {
   "cell_type": "code",
   "execution_count": 6,
   "metadata": {},
   "outputs": [],
   "source": [
    "J = simulation_con.getJ(conductivity_model).copy()\n",
    "J_wenner_alpha = J[0,:]/np.max(abs(J[0,:]))\n",
    "J_dipole_dipole = J[1,:]/np.max(abs(J[1,:]))"
   ]
  },
  {
   "cell_type": "markdown",
   "metadata": {},
   "source": [
    "**Make plots**"
   ]
  },
  {
   "cell_type": "code",
   "execution_count": 7,
   "metadata": {},
   "outputs": [
    {
     "data": {
      "image/png": "[encoded data removed]",
      "text/plain": [
       "<Figure size 1000x200 with 3 Axes>"
      ]
     },
     "metadata": {},
     "output_type": "display_data"
    }
   ],
   "source": [
    "fig, axs = plt.subplots(1,2, figsize=(10,2))\n",
    "plt.jet()\n",
    "\n",
    "norm = mpl.colors.SymLogNorm(\n",
    "    linthresh=0.005, linscale=1e-4,\n",
    "    vmin=-1.0, vmax=1.0, base=10)\n",
    "\n",
    "Js = np.c_[J_wenner_alpha, J_dipole_dipole] \n",
    "C_locs = np.r_[C_wenner_alpha, C_dipole_dipole]\n",
    "P_locs = np.r_[P_wenner_alpha, P_dipole_dipole]\n",
    "\n",
    "plt_titles = [\"Wenner alpha\", \"dipole-dipole\"]\n",
    "i = 0\n",
    "for ax in axs:    \n",
    "    mesh.plot_image(\n",
    "        Js[:,i],\n",
    "        ax=ax,\n",
    "        grid=False,\n",
    "        pcolor_opts={\"norm\": norm}\n",
    "    )\n",
    "    \n",
    "    xmin = -50; xmax = 50\n",
    "    zmin = -20; zmax = 0\n",
    "    ax.set_xlim(xmin, xmax)\n",
    "    ax.set_ylim(zmin, zmax)\n",
    "    ax.set_title(plt_titles[i], loc=\"left\")\n",
    "    ax.set_xlabel(\"x (m)\")\n",
    "    ax.set_ylabel(\"z (m)\")\n",
    "\n",
    "    xc = (C_locs[i,0] - xmin)/(xmax - xmin)\n",
    "    ax.annotate('', xy=(xc, 1), xycoords='axes fraction', xytext=(xc, 1.1), \n",
    "            arrowprops=dict(arrowstyle=\"->\", color='r'))\n",
    "    xc = (C_locs[i+1,0] - xmin)/(xmax - xmin)\n",
    "    ax.annotate('', xy=(xc, 1), xycoords='axes fraction', xytext=(xc, 1.1), \n",
    "            arrowprops=dict(arrowstyle=\"->\", color='r'))\n",
    "    xc = (P_locs[i,0] - xmin)/(xmax - xmin)\n",
    "    ax.annotate('', xy=(xc, 1), xycoords='axes fraction', xytext=(xc, 1.075), \n",
    "            arrowprops=dict(arrowstyle=\"->\", color='b'))\n",
    "    xc = (P_locs[i+1,1] - xmin)/(xmax - xmin)\n",
    "    ax.annotate('', xy=(xc, 1), xycoords='axes fraction', xytext=(xc, 1.075), \n",
    "            arrowprops=dict(arrowstyle=\"->\", color='b'))\n",
    "\n",
    "    i = i + 1\n",
    "\n",
    "ax2 = fig.add_axes([0.25, -0.3, 0.5, 0.1])\n",
    "cbar = mpl.colorbar.ColorbarBase(\n",
    "    ax2, norm=norm, orientation=\"horizontal\"\n",
    ")\n",
    "cbar.set_label(\"Sensitivity\", rotation=0, labelpad=15, size=12)"
   ]
  },
  {
   "cell_type": "markdown",
   "metadata": {},
   "source": [
    "## Real data example: The Century Deposit DC resistivity inversion"
   ]
  },
  {
   "cell_type": "markdown",
   "metadata": {},
   "source": [
    "### Initial setup"
   ]
  },
  {
   "cell_type": "code",
   "execution_count": 8,
   "metadata": {},
   "outputs": [],
   "source": [
    "line = \"46800E\"\n",
    "dc_data_file = f\"./century/{line}/{line[:-1]}POT.OBS\"\n",
    "\n",
    "def read_dcip_data(filename, verbose=False):\n",
    "    \"\"\"\n",
    "    Read in a .OBS file from the Century data set into a python dictionary. \n",
    "    The format is the old UBC-GIF DCIP format.\n",
    "    \n",
    "    Parameters\n",
    "    ----------\n",
    "    filename : str\n",
    "        Path to the file to be parsed\n",
    "    \n",
    "    verbose: bool\n",
    "        Print some things? \n",
    "    \n",
    "    \n",
    "    Returns\n",
    "    -------\n",
    "    dict\n",
    "        A dictionary with the locations of\n",
    "        - a_locations: the positive source electrode locations (numpy array) \n",
    "        - b_locations: the negative source electrode locations (numpy array) \n",
    "        - m_locations: the receiver locations (list of numpy arrays)\n",
    "        - n_locations: the receiver locations (list of numpy arrays)\n",
    "        - observed_data: observed data (list of numpy arrays)\n",
    "        - standard_deviations: assigned standard deviations (list of numpy arrays)\n",
    "        - n_sources: number of sources (int)\n",
    "    \n",
    "    \"\"\"\n",
    "    \n",
    "    # read in the text file as a numpy array of strings (each row is an entry)\n",
    "    contents = np.genfromtxt(filename, delimiter=' \\n', dtype='U')\n",
    "    \n",
    "    # the second line has the number of sources, current, and data type (voltages if 1)\n",
    "    n_sources = int(contents[1].split()[0])\n",
    "    \n",
    "    if verbose is True: \n",
    "        print(f\"number of sources: {n_sources}\")\n",
    "    \n",
    "    # initialize storage for the electrode locations and data\n",
    "    a_locations = np.zeros(n_sources)\n",
    "    b_locations = np.zeros(n_sources)\n",
    "    m_locations = []\n",
    "    n_locations = []\n",
    "    observed_data = []\n",
    "    standard_deviations = []\n",
    "    \n",
    "    # index to track where we have read in content \n",
    "    content_index = 1 \n",
    "    \n",
    "    # loop over sources \n",
    "    for i in range(n_sources):\n",
    "        # start by reading in the source info \n",
    "        content_index = content_index + 1  # read the next line\n",
    "        a_location, b_location, nrx = contents[content_index].split()  # this is a string\n",
    "\n",
    "        # convert the strings to a float for locations and an int for the number of receivers\n",
    "        a_locations[i] = float(a_location)\n",
    "        b_locations[i] = float(b_location)\n",
    "        nrx = int(nrx)\n",
    "\n",
    "        if verbose is True: \n",
    "            print(f\"Source {i}: A-loc: {a_location}, B-loc: {b_location}, N receivers: {nrx}\")\n",
    "\n",
    "        # initialize space for receiver locations, observed data associated with this source\n",
    "        m_locations_i, n_locations_i = np.zeros(nrx), np.zeros(nrx)\n",
    "        observed_data_i, standard_deviations_i = np.zeros(nrx), np.zeros(nrx)\n",
    "\n",
    "        # read in the receiver info \n",
    "        for j in range(nrx):\n",
    "            content_index = content_index + 1  # read the next line\n",
    "            m_location, n_location, datum, std = contents[content_index].split()\n",
    "\n",
    "            # convert the locations and data to floats, and store them\n",
    "            m_locations_i[j] = float(m_location)\n",
    "            n_locations_i[j] = float(n_location)\n",
    "            observed_data_i[j] = float(datum)\n",
    "            standard_deviations_i[j] = float(std)\n",
    "\n",
    "        # append the receiver info to the lists\n",
    "        m_locations.append(m_locations_i)\n",
    "        n_locations.append(n_locations_i)\n",
    "        observed_data.append(observed_data_i)\n",
    "        standard_deviations.append(standard_deviations_i)\n",
    "    \n",
    "    return {\n",
    "        \"a_locations\": a_locations,\n",
    "        \"b_locations\": b_locations, \n",
    "        \"m_locations\": m_locations,\n",
    "        \"n_locations\": n_locations,\n",
    "        \"observed_data\": observed_data, \n",
    "        \"standard_deviations\": standard_deviations,\n",
    "        \"n_sources\": n_sources, \n",
    "    }\n",
    "\n",
    "dc_data_dict = read_dcip_data(dc_data_file)"
   ]
  },
  {
   "cell_type": "markdown",
   "metadata": {},
   "source": [
    "### Create survey"
   ]
  },
  {
   "cell_type": "code",
   "execution_count": 9,
   "metadata": {},
   "outputs": [],
   "source": [
    "# initialize an empty list for each \n",
    "source_list = []\n",
    "\n",
    "for i in range(dc_data_dict[\"n_sources\"]):\n",
    "    \n",
    "    # receiver electrode locations in 2D \n",
    "    m_locs = np.vstack([\n",
    "        dc_data_dict[\"m_locations\"][i], \n",
    "        np.zeros_like(dc_data_dict[\"m_locations\"][i])\n",
    "    ]).T\n",
    "    n_locs = np.vstack([\n",
    "        dc_data_dict[\"n_locations\"][i],\n",
    "        np.zeros_like(dc_data_dict[\"n_locations\"][i])\n",
    "    ]).T\n",
    "    \n",
    "    # construct the receiver object \n",
    "    receivers = dc.receivers.Dipole(locations_m=m_locs, locations_n=n_locs)\n",
    "    \n",
    "    # construct the source \n",
    "    source = dc.sources.Dipole(\n",
    "        location_a=np.r_[dc_data_dict[\"a_locations\"][i], 0.],\n",
    "        location_b=np.r_[dc_data_dict[\"b_locations\"][i], 0.],\n",
    "        receiver_list=[receivers]\n",
    "    )\n",
    "    \n",
    "    # append the new source to the source list\n",
    "    source_list.append(source)\n",
    "\n",
    "survey = dc.Survey(source_list=source_list)\n",
    "\n",
    "dc_data = Data(\n",
    "    survey=survey, \n",
    "    dobs=np.hstack(dc_data_dict[\"observed_data\"]),\n",
    "    standard_deviation=np.hstack(dc_data_dict[\"standard_deviations\"])\n",
    ")"
   ]
  },
  {
   "cell_type": "markdown",
   "metadata": {},
   "source": [
    "### Forward simulation components"
   ]
  },
  {
   "cell_type": "markdown",
   "metadata": {},
   "source": [
    "***Mesh design***"
   ]
  },
  {
   "cell_type": "code",
   "execution_count": 10,
   "metadata": {},
   "outputs": [],
   "source": [
    "min_electrode_spacing = np.min(np.abs(survey.locations_a[:, 0] - survey.locations_b[:, 0]))\n",
    "n_cells_per_spacing = 4\n",
    "\n",
    "dx = min_electrode_spacing / n_cells_per_spacing\n",
    "dz = min_electrode_spacing / n_cells_per_spacing\n",
    "\n",
    "electrode_locations = np.c_[\n",
    "    survey.locations_a,\n",
    "    survey.locations_b,\n",
    "    survey.locations_m,\n",
    "    survey.locations_n,\n",
    "]\n",
    "\n",
    "unique_locations = np.unique(\n",
    "    np.reshape(electrode_locations, (4 * survey.nD, 2)), axis=0\n",
    ")\n",
    "\n",
    "core_domain_x = np.r_[\n",
    "    unique_locations[:,0].min(),\n",
    "    unique_locations[:,0].max()\n",
    "]\n",
    "\n",
    "# find the maximum spacing between source, receiver midpoints\n",
    "mid_ab = (survey.locations_a + survey.locations_b)/2\n",
    "mid_mn = (survey.locations_m + survey.locations_n)/2\n",
    "separation_ab_mn = np.abs(mid_ab - mid_mn)\n",
    "max_separation = separation_ab_mn.max()\n",
    "\n",
    "core_domain_z = np.r_[-max_separation/3., 0.]\n",
    "\n",
    "n_core_extra = 4 \n",
    "n_core_x = np.ceil(np.diff(core_domain_x)/dx) + n_core_extra*2  # on each side\n",
    "n_core_z = np.ceil(np.diff(core_domain_z)/dz) + n_core_extra  # just below\n",
    "\n",
    "padding_factor = 1.3\n",
    "n_pad_x = 10\n",
    "n_pad_z = 10\n",
    "\n",
    "hx = [(dx, n_pad_x, -padding_factor), (dx, n_core_x), (dx, n_pad_x, padding_factor)]\n",
    "hz = [(dz, n_pad_z, -padding_factor), (dz, n_core_z)]\n",
    "\n",
    "mesh = TensorMesh([hx, hz])\n",
    "\n",
    "# origin of the mesh\n",
    "mesh_hx = mesh.h[0]\n",
    "mesh_hy = mesh.h[1]\n",
    "mesh.x0 = np.r_[\n",
    "    -mesh_hx[:n_pad_x + n_core_extra].sum() + core_domain_x.min(),\n",
    "    -mesh_hy.sum()\n",
    "]"
   ]
  },
  {
   "cell_type": "markdown",
   "metadata": {},
   "source": [
    "***SimPEG forward simulation objects creation***"
   ]
  },
  {
   "cell_type": "code",
   "execution_count": 11,
   "metadata": {},
   "outputs": [],
   "source": [
    "# forward simulation \n",
    "# Use Exponential Map: m = log(rho)\n",
    "mapping = maps.ExpMap(mesh)\n",
    "\n",
    "# Generate 2.5D DC problem\n",
    "simulation_dc = dc.Simulation2DNodal(\n",
    "    mesh, rhoMap=mapping, solver=Solver, survey=survey, storeJ=True\n",
    ")"
   ]
  },
  {
   "cell_type": "markdown",
   "metadata": {},
   "source": [
    "### Inversion"
   ]
  },
  {
   "cell_type": "markdown",
   "metadata": {},
   "source": [
    "***Inversion: Data misfit***"
   ]
  },
  {
   "cell_type": "code",
   "execution_count": 12,
   "metadata": {},
   "outputs": [],
   "source": [
    "dmisfit = data_misfit.L2DataMisfit(data=dc_data, simulation=simulation_dc)"
   ]
  },
  {
   "cell_type": "markdown",
   "metadata": {},
   "source": [
    "***Inversion: Regularization***"
   ]
  },
  {
   "cell_type": "code",
   "execution_count": 13,
   "metadata": {},
   "outputs": [],
   "source": [
    "mesh_hx = mesh.h[0]\n",
    "reg = regularization.WeightedLeastSquares(\n",
    "    mesh, \n",
    "    alpha_s=1./mesh_hx.min()**2,  # we will talk about these choices in notebook 3 on inversion\n",
    "    alpha_x=1, \n",
    "    alpha_y=1,  # since this is a 2D problem, the second dimension is \"y\" \n",
    ")"
   ]
  },
  {
   "cell_type": "markdown",
   "metadata": {},
   "source": [
    "***Inversion: Final touches***"
   ]
  },
  {
   "cell_type": "code",
   "execution_count": 14,
   "metadata": {},
   "outputs": [],
   "source": [
    "opt = optimization.InexactGaussNewton(maxIter=20, maxIterCG=20)\n",
    "inv_prob = inverse_problem.BaseInvProblem(dmisfit, reg, opt)\n",
    "\n",
    "# directives\n",
    "beta_est = directives.BetaEstimate_ByEig(beta0_ratio=1)\n",
    "\n",
    "#coolFac = 4\n",
    "coolFac = 1\n",
    "beta_schedule = directives.BetaSchedule(coolingFactor=coolFac, coolingRate=2)\n",
    "target = directives.TargetMisfit()\n",
    "\n",
    "inv = inversion.BaseInversion(\n",
    "    inv_prob, directiveList=[beta_est, beta_schedule, target]\n",
    ")\n"
   ]
  },
  {
   "cell_type": "markdown",
   "metadata": {},
   "source": [
    "***Inversion: (Finally) run the inversion***"
   ]
  },
  {
   "cell_type": "code",
   "execution_count": 15,
   "metadata": {
    "scrolled": true
   },
   "outputs": [
    {
     "name": "stdout",
     "output_type": "stream",
     "text": [
      "SimPEG.InvProblem will set Regularization.reference_model to m0.\n",
      "SimPEG.InvProblem will set Regularization.reference_model to m0.\n",
      "SimPEG.InvProblem will set Regularization.reference_model to m0.\n",
      "SimPEG.InvProblem will set Regularization.reference_model to m0.\n",
      "SimPEG.InvProblem will set Regularization.reference_model to m0.\n",
      "\n",
      "                        SimPEG.InvProblem is setting bfgsH0 to the inverse of the eval2Deriv.\n",
      "                        ***Done using same Solver, and solver_opts as the Simulation2DNodal problem***\n",
      "                        \n",
      "model has any nan: 0\n",
      "============================ Inexact Gauss Newton ============================\n",
      "  #     beta     phi_d     phi_m       f      |proj(x-g)-x|  LS    Comment   \n",
      "-----------------------------------------------------------------------------\n",
      "x0 has any nan: 0\n",
      "   0  7.54e+00  9.17e+03  0.00e+00  9.17e+03    3.14e+03      0              \n",
      "   1  7.54e+00  1.86e+03  4.92e+01  2.24e+03    4.76e+02      0              \n",
      "   2  7.54e+00  6.81e+02  1.11e+02  1.51e+03    6.74e+01      0   Skip BFGS  \n",
      "   3  7.54e+00  5.80e+02  1.19e+02  1.48e+03    1.29e+01      0   Skip BFGS  \n",
      "   4  7.54e+00  5.49e+02  1.23e+02  1.48e+03    4.21e+00      0   Skip BFGS  \n",
      "   5  7.54e+00  5.47e+02  1.23e+02  1.48e+03    2.95e+00      0              \n",
      "   6  7.54e+00  5.45e+02  1.24e+02  1.48e+03    2.64e+00      0              \n",
      "   7  7.54e+00  5.45e+02  1.24e+02  1.48e+03    2.45e+00      0              \n",
      "   8  7.54e+00  5.45e+02  1.24e+02  1.48e+03    2.22e+00      0              \n",
      "   9  7.54e+00  5.44e+02  1.24e+02  1.48e+03    1.88e+00      0              \n",
      "  10  7.54e+00  5.46e+02  1.24e+02  1.48e+03    1.60e+00      0              \n",
      "  11  7.54e+00  5.44e+02  1.24e+02  1.48e+03    1.08e+00      0              \n",
      "  12  7.54e+00  5.45e+02  1.24e+02  1.48e+03    8.75e-01      0              \n",
      "  13  7.54e+00  5.44e+02  1.24e+02  1.48e+03    7.12e-01      0              \n",
      "  14  7.54e+00  5.45e+02  1.24e+02  1.48e+03    6.14e-01      0              \n",
      "  15  7.54e+00  5.44e+02  1.24e+02  1.48e+03    5.46e-01      0              \n",
      "  16  7.54e+00  5.44e+02  1.24e+02  1.48e+03    5.31e-01      0              \n",
      "  17  7.54e+00  5.44e+02  1.24e+02  1.48e+03    4.69e-02      1              \n",
      "------------------------- STOP! -------------------------\n",
      "1 : |fc-fOld| = 3.4435e-03 <= tolF*(1+|f0|) = 9.1722e+02\n",
      "1 : |xc-x_last| = 1.4125e-02 <= tolX*(1+|x0|) = 3.0775e+01\n",
      "1 : |proj(x-g)-x|    = 4.6854e-02 <= tolG          = 1.0000e-01\n",
      "0 : |proj(x-g)-x|    = 4.6854e-02 <= 1e3*eps       = 1.0000e-02\n",
      "0 : maxIter   =      20    <= iter          =     17\n",
      "------------------------- DONE! -------------------------\n"
     ]
    }
   ],
   "source": [
    "apparent_resistivity = dc_utils.apparent_resistivity_from_voltage(dc_data.survey, dc_data.dobs)\n",
    "rho0 = np.median(apparent_resistivity)\n",
    "m0 = np.ones(mesh.nC) * np.log(rho0)\n",
    "# Run inversion\n",
    "mopt = inv.run(m0)"
   ]
  },
  {
   "cell_type": "markdown",
   "metadata": {},
   "source": [
    "***Inversion: Show solution***"
   ]
  },
  {
   "cell_type": "code",
   "execution_count": 16,
   "metadata": {},
   "outputs": [],
   "source": [
    "def load_leapfrog_geologic_section(filename=\"./century/geologic_section.csv\"):\n",
    "    \"\"\"\n",
    "    Load the geologic cross section. \n",
    "    \"\"\"\n",
    "    fid = open(filename, 'r')\n",
    "    lines = fid.readlines()\n",
    "    data = []\n",
    "    data_tmp = []\n",
    "    for line in lines[2:]:\n",
    "        line_data = (line.split(',')[:3])\n",
    "        if 'End' in line:\n",
    "            data.append(np.vstack(data_tmp)[:,[0, 2]])\n",
    "            data_tmp = []\n",
    "        else:\n",
    "            data_tmp.append(np.array(line_data, dtype=float))\n",
    "    return data"
   ]
  },
  {
   "cell_type": "code",
   "execution_count": 17,
   "metadata": {},
   "outputs": [],
   "source": [
    "geologic_section = load_leapfrog_geologic_section()"
   ]
  },
  {
   "cell_type": "code",
   "execution_count": 18,
   "metadata": {},
   "outputs": [
    {
     "name": "stderr",
     "output_type": "stream",
     "text": [
      "C:\\Users\\user\\AppData\\Local\\Temp\\ipykernel_11044\\922823710.py:5: FutureWarning: TensorMesh.plotImage has been deprecated, please use TensorMesh.plot_image. It will be removed in version 1.0.0 of discretize.\n",
      "  out = mesh.plotImage(\n"
     ]
    },
    {
     "data": {
      "image/png": "[encoded data removed]",
      "text/plain": [
       "<Figure size 1000x500 with 2 Axes>"
      ]
     },
     "metadata": {},
     "output_type": "display_data"
    }
   ],
   "source": [
    "fig, ax = plt.subplots(1,1, figsize=(10, 5))\n",
    "rho = (mapping*mopt)\n",
    "norm = LogNorm(vmin=1e1, vmax=1e3)\n",
    "\n",
    "out = mesh.plotImage(\n",
    "    rho, pcolor_opts={'norm':norm, 'cmap':'Spectral'}, ax=ax,\n",
    ")\n",
    "\n",
    "for data in geologic_section:\n",
    "    ax.plot(data[:,0], data[:,1], 'k--', alpha=0.5)\n",
    "\n",
    "ax.set_xlim(core_domain_x)\n",
    "ax.set_ylim((-400, 0))\n",
    "cb = plt.colorbar(out[0], fraction=0.05, orientation='horizontal', ax=ax, pad=0.2)\n",
    "cb.set_label(\"Resistivity ($\\Omega$m)\")\n",
    "ax.set_xlabel('Easting (m)')\n",
    "ax.set_ylabel('Elevation (m)')\n",
    "ax.set_aspect(1.5)  # some vertical exxageration\n",
    "plt.tight_layout()"
   ]
  },
  {
   "cell_type": "markdown",
   "metadata": {},
   "source": [
    "### Sensitivity analysis"
   ]
  },
  {
   "cell_type": "markdown",
   "metadata": {},
   "source": [
    "***Get the sensitivity matrix***"
   ]
  },
  {
   "cell_type": "code",
   "execution_count": 19,
   "metadata": {},
   "outputs": [],
   "source": [
    "simulation_dc._Jmatrix = None # Force computation of new sensitivity matrix\n",
    "J = simulation_dc.getJ(mopt).copy()"
   ]
  },
  {
   "cell_type": "markdown",
   "metadata": {},
   "source": [
    "***Average sensitivity***\n",
    "\n",
    "We use the average sensitivity (Devriese and Oldenburg, 2016).\n",
    "$$\n",
    "s_j = \\frac{1}{nV_j}\\sum_{i=1}^n\\left|J_{ij}\\right|\n",
    "$$"
   ]
  },
  {
   "cell_type": "code",
   "execution_count": 20,
   "metadata": {},
   "outputs": [],
   "source": [
    "Vj = mesh.cell_volumes\n",
    "n, m = J.shape\n",
    "sj = np.log10(np.divide(np.sum(abs(J), axis=0), n*Vj))"
   ]
  },
  {
   "cell_type": "code",
   "execution_count": 21,
   "metadata": {},
   "outputs": [
    {
     "name": "stderr",
     "output_type": "stream",
     "text": [
      "C:\\Users\\user\\AppData\\Local\\Temp\\ipykernel_11044\\3833892129.py:3: FutureWarning: TensorMesh.plotImage has been deprecated, please use TensorMesh.plot_image. It will be removed in version 1.0.0 of discretize.\n",
      "  out = mesh.plotImage(\n"
     ]
    },
    {
     "data": {
      "image/png": "[encoded data removed]",
      "text/plain": [
       "<Figure size 1000x500 with 2 Axes>"
      ]
     },
     "metadata": {},
     "output_type": "display_data"
    }
   ],
   "source": [
    "fig, ax = plt.subplots(1,1, figsize=(10, 5))\n",
    "plt.jet()\n",
    "out = mesh.plotImage(\n",
    "    sj, \n",
    "    ax=ax,\n",
    ")\n",
    "\n",
    "for data in geologic_section:\n",
    "    ax.plot(data[:,0], data[:,1], 'k--', alpha=0.5)\n",
    "\n",
    "ax.set_xlim(core_domain_x)\n",
    "ax.set_ylim((-400, 0))\n",
    "cb = plt.colorbar(out[0], fraction=0.05, orientation='horizontal', ax=ax, pad=0.2)\n",
    "cb.set_label(\"Average sensitivity\")\n",
    "ax.set_xlabel('Easting (m)')\n",
    "ax.set_ylabel('Elevation (m)')\n",
    "ax.set_aspect(1.5)  # some vertical exxageration\n",
    "plt.tight_layout()"
   ]
  },
  {
   "cell_type": "markdown",
   "metadata": {},
   "source": [
    "## Conclusions\n",
    "\n",
    "In this tutorial we used the resources avaiable in SimPEG for computing and ploting the sensitivity matrix. We used the DC resistivity problem as a motivation example and analysed the sensitivity patterns for a homogeneous half space using two different survey layouts. We also applied this technique for a DC resistivity real data inversion scenario. This kind of analysis can help us decide upon the most appropriate electrode array to use for a particular exploration project. It is also a valuable tool to have in our toolbox for performing the assessment of the solutions obtained after the application of some inversion algorithm as illustrated by the real case example."
   ]
  },
  {
   "cell_type": "markdown",
   "metadata": {},
   "source": [
    "## Acknowledgements"
   ]
  },
  {
   "cell_type": "markdown",
   "metadata": {},
   "source": [
    "## References"
   ]
  },
  {
   "cell_type": "markdown",
   "metadata": {},
   "source": [
    "Sarah Devriese and Douglas Oldenburg, (2016), \"Application of sensitivity analysis in DC resistivity monitoring of SAGD steam chambers,\" SEG Technical Program Expanded Abstracts : 937-941. \n",
    "https://doi.org/10.1190/segam2016-13842655.1"
   ]
  }
 ],
 "metadata": {
  "kernelspec": {
   "display_name": "Python 3 (ipykernel)",
   "language": "python",
   "name": "python3"
  },
  "language_info": {
   "codemirror_mode": {
    "name": "ipython",
    "version": 3
   },
   "file_extension": ".py",
   "mimetype": "text/x-python",
   "name": "python",
   "nbconvert_exporter": "python",
   "pygments_lexer": "ipython3",
   "version": "3.11.5"
  }
 },
 "nbformat": 4,
 "nbformat_minor": 4
}
