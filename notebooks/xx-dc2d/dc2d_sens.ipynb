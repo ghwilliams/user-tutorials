{
 "cells": [
  {
   "cell_type": "markdown",
   "metadata": {},
   "source": [
    "# 2D DC Resistivity Sensitivity analysis"
   ]
  },
  {
   "cell_type": "markdown",
   "metadata": {},
   "source": [
    "```{admonition} Introductory notebook\n",
    ":class: hint\n",
    "This tutorial teaches basic functionality within SimPEG and is a good entry point for new users.\n",
    "```"
   ]
  },
  {
   "cell_type": "markdown",
   "metadata": {},
   "source": [
    "```{admonition} Light-weight notebook\n",
    ":class: hint\n",
    "This tutorial requires minimal computational resources and can be executed quickly in the background while other computer processes are running.\n",
    "```"
   ]
  },
  {
   "cell_type": "markdown",
   "metadata": {},
   "source": [
    "**Author:** Williams Lima\n",
    "\n",
    "</br>\n",
    "\n",
    "**Keywords:** DC Resistivity inversion, sensitivity matrix.\n",
    "\n",
    "</br>"
   ]
  },
  {
   "cell_type": "markdown",
   "metadata": {},
   "source": [
    "**Summary:**\n",
    "The sensitivity matrix is a very important, and frequently used, tool to consider when designing a DC resistivity survey. It can give us qualitative and, to some extent, quantitave information about the capability of estimating the distribution of electrical conductivities underground using a particular experimental setup and geological environment. In this tutorial we'll use SimPEG functionalities to look at the sensitivity matrix for the DC resistivity inverse problem. We will analyse the sensitivity patterns for a few commonly used electrode arrays using a homogeneous conductivity model and also look at a real data case from a mineral exploration scenario. Enjoy!\n",
    "\n",
    "</br>\n",
    "\n",
    "**Learning Objectives:**\n",
    "\n",
    "- How to get the sensitivity matrix for a DC resistivits simulation by using utility functions in SimPEG.\n",
    "- Exploring the different sensitivity patterns for a number of common electrode arrays.\n",
    "- How to plot information contained in the sensitivity matrix.\n",
    "- Look at the sensitivity matrix for a real data set.\n",
    "\n",
    "</br>"
   ]
  },
  {
   "cell_type": "markdown",
   "metadata": {},
   "source": [
    "## Import modules\n",
    "\n",
    "Here, we import all of the functionality required to run the notebook for the tutorial exercise. All of the functionality specific to DC resistivity is imported from [SimPEG.electromagnetics.static.resistivity](myst:SimPEG#SimPEG.electromagnetics.static.resistivity).\n",
    "\n",
    "We also import some useful utility functions from [SimPEG.utils](myst:SimPEG#SimPEG.utils). To simulate DC resistivity data, we need to define our problem geometry on a numerical grid (or mesh).\r\n",
    "To generate the mesh, we used the [discretize](https://discretize.simpeg.xyz/en/main) package."
   ]
  },
  {
   "cell_type": "code",
   "execution_count": 47,
   "metadata": {},
   "outputs": [],
   "source": [
    "# SimPEG functionality\n",
    "from SimPEG.electromagnetics.static import resistivity as dc\n",
    "from SimPEG import maps\n",
    "\n",
    "# discretize functionality\n",
    "from discretize import TreeMesh\n",
    "from discretize.utils import refine_tree_xyz\n",
    "\n",
    "# Common Python functionality\n",
    "import numpy as np\n",
    "import matplotlib as mpl\n",
    "import matplotlib.pyplot as plt"
   ]
  },
  {
   "cell_type": "markdown",
   "metadata": {},
   "source": [
    "## Homogeneous half space"
   ]
  },
  {
   "cell_type": "markdown",
   "metadata": {},
   "source": [
    "### Define surveys\n",
    "There are many different possible combinations of current and potential electrodes locations that could be used to create a DC resistivity survey. Maybe some of those combinations would be better than others for a particular case under specific constraints such as cost, physical constraints, time and sensitivity to a particular target at depth. The sensitivity analysis, that we are going to perform in this tutorial, will help us with the task of assessing the performance of a given electrode array with respect to its sensitivity to conductivity anomalies around a particular target region in the subsurface. For more information about DC resistivity modeling in SimPEG check out the tutorial [2.5D DC Resistivity Simulation](05-dcr/fwd_dcr_2d).\n",
    "\n",
    "In the figure below, we can see a few of the most common array configurations used in the industry and academic works.\n",
    "\n",
    "```{figure}https://gpg.geosci.xyz/_images/figure6.gif\n",
    ":width: 350px\n",
    ":align: center\n",
    "\n",
    "DC resistivity arrays ([image source](https://gpg.geosci.xyz/_images/figure6.gif))\n",
    "```"
   ]
  },
  {
   "cell_type": "markdown",
   "metadata": {},
   "source": [
    "**Two simple surveys in a homogeneous medium**\n",
    "\n",
    "Our first step is to create two simple surveys, Wenner alpha and Wenner beta. Each of theses surveys will contain one pair of current electrodes and one pair of potential electrodes only. The extension to any number of current/potential electrodes is straightforward and will be left as an exercise.\n",
    "\n"
   ]
  },
  {
   "cell_type": "code",
   "execution_count": 15,
   "metadata": {
    "scrolled": true,
    "vscode": {
     "languageId": "plaintext"
    }
   },
   "outputs": [],
   "source": [
    "# Define survey line parameters for Wenner surveys\n",
    "data_type = \"volt\"\n",
    "src_list = []\n",
    "\n",
    "# Wenner alpha\n",
    "C_wenner_alpha = np.array([[-15.0, 0.0], [15.0, 0.0]])\n",
    "P_wenner_alpha = np.array([[-5.0, 0.0], [5.0, 0.0]])\n",
    "\n",
    "rx_wenner_alpha = dc.receivers.Dipole(locations_m=P_wenner_alpha[0], locations_n=P_wenner_alpha[1], data_type=data_type) \n",
    "rx_list_wenner_alpha = [rx_wenner_alpha]\n",
    "\n",
    "src_list.append(dc.sources.Dipole(location_a=C_wenner_alpha[0], location_b=C_wenner_alpha[1], receiver_list=rx_list_wenner_alpha))\n",
    "\n",
    "# Dipole-Dipole\n",
    "C_dipole_dipole = np.array([[-15.0, 0.0], [-5.0, 0.0]])\n",
    "P_dipole_dipole = np.array([[5.0, 0.0], [15.0, 0.0]])\n",
    "\n",
    "rx_dipole_dipole = dc.receivers.Dipole(locations_m=P_dipole_dipole[0], locations_n=P_dipole_dipole[1], data_type=data_type) \n",
    "rx_list_dipole_dipole = [rx_dipole_dipole]\n",
    "\n",
    "src_list.append(dc.sources.Dipole(location_a=C_dipole_dipole[0], location_b=C_dipole_dipole[1], receiver_list=rx_list_dipole_dipole))\n",
    "\n",
    "survey = dc.Survey(source_list=src_list)"
   ]
  },
  {
   "cell_type": "markdown",
   "metadata": {},
   "source": [
    "### Create mesh"
   ]
  },
  {
   "cell_type": "code",
   "execution_count": 16,
   "metadata": {
    "vscode": {
     "languageId": "plaintext"
    }
   },
   "outputs": [],
   "source": [
    "dh = 0.25  # base cell width\n",
    "dom_width_x = 300.0  # domain width x\n",
    "dom_width_z = 200.0  # domain width z\n",
    "nbcx = 2 ** int(np.round(np.log(dom_width_x / dh) / np.log(2.0)))  # num. base cells x\n",
    "nbcz = 2 ** int(np.round(np.log(dom_width_z / dh) / np.log(2.0)))  # num. base cells z\n",
    "\n",
    "# Define the base mesh with top at z = 0 m.\n",
    "hx = [(dh, nbcx)]\n",
    "hz = [(dh, nbcz)]\n",
    "mesh = TreeMesh([hx, hz], x0=\"CN\")\n",
    "\n",
    "# Refine core mesh region\n",
    "mesh.refine_box([-50,-50],[50,0], levels=-1, finalize=False)\n",
    "\n",
    "mesh.finalize()"
   ]
  },
  {
   "cell_type": "markdown",
   "metadata": {},
   "source": [
    "### Define the conductivity model"
   ]
  },
  {
   "cell_type": "code",
   "execution_count": 17,
   "metadata": {},
   "outputs": [],
   "source": [
    "background_resistivity = 50 # Ohm.m\n",
    "background_conductivity = 1/background_resistivity\n",
    "nC = mesh.nC\n",
    "conductivity_model = background_conductivity * np.ones(nC)\n",
    "\n",
    "conductivity_map = maps.IdentityMap()"
   ]
  },
  {
   "cell_type": "code",
   "execution_count": 18,
   "metadata": {},
   "outputs": [],
   "source": [
    "# DC simulation for a conductivity model\n",
    "simulation_con = dc.simulation_2d.Simulation2DNodal(\n",
    "    mesh, survey=survey, sigmaMap=conductivity_map\n",
    ")"
   ]
  },
  {
   "cell_type": "markdown",
   "metadata": {},
   "source": [
    "### Plot sensitivity"
   ]
  },
  {
   "cell_type": "markdown",
   "metadata": {},
   "source": [
    "**Get the sensitivity matrix**"
   ]
  },
  {
   "cell_type": "code",
   "execution_count": 49,
   "metadata": {},
   "outputs": [],
   "source": [
    "J = simulation_con.getJ(conductivity_model).copy()\n",
    "J_wenner_alpha = J[0,:]/np.max(abs(J[0,:]))\n",
    "J_dipole_dipole = J[1,:]/np.max(abs(J[1,:]))"
   ]
  },
  {
   "cell_type": "markdown",
   "metadata": {},
   "source": [
    "**Make plots**"
   ]
  },
  {
   "cell_type": "code",
   "execution_count": 46,
   "metadata": {},
   "outputs": [
    {
     "data": {
      "image/png": "[encoded data removed]",
      "text/plain": [
       "<Figure size 1000x200 with 3 Axes>"
      ]
     },
     "metadata": {},
     "output_type": "display_data"
    }
   ],
   "source": [
    "fig, axs = plt.subplots(1,2, figsize=(10,2))\n",
    "plt.jet()\n",
    "\n",
    "norm = mpl.colors.SymLogNorm(\n",
    "    linthresh=0.005, linscale=1e-4,\n",
    "    vmin=-1.0, vmax=1.0, base=10)\n",
    "\n",
    "Js = np.c_[J_wenner_alpha, J_dipole_dipole] \n",
    "C_locs = np.r_[C_wenner_alpha, C_dipole_dipole]\n",
    "P_locs = np.r_[P_wenner_alpha, P_dipole_dipole]\n",
    "\n",
    "i = 0\n",
    "for ax in axs:    \n",
    "    mesh.plot_image(\n",
    "        Js[:,i],\n",
    "        ax=ax,\n",
    "        grid=False,\n",
    "        pcolor_opts={\"norm\": norm}\n",
    "    )\n",
    "    \n",
    "    xmin = -50; xmax = 50\n",
    "    zmin = -20; zmax = 0\n",
    "    ax.set_xlim(xmin, xmax)\n",
    "    ax.set_ylim(zmin, zmax)\n",
    "    ax.set_title(plt_titles[i], loc=\"left\")\n",
    "    ax.set_xlabel(\"x (m)\")\n",
    "    ax.set_ylabel(\"z (m)\")\n",
    "\n",
    "    xc = (C_locs[i,0] - xmin)/(xmax - xmin)\n",
    "    ax.annotate('', xy=(xc, 1), xycoords='axes fraction', xytext=(xc, 1.1), \n",
    "            arrowprops=dict(arrowstyle=\"->\", color='r'))\n",
    "    xc = (C_locs[i+1,0] - xmin)/(xmax - xmin)\n",
    "    ax.annotate('', xy=(xc, 1), xycoords='axes fraction', xytext=(xc, 1.1), \n",
    "            arrowprops=dict(arrowstyle=\"->\", color='r'))\n",
    "    xc = (P_locs[i,0] - xmin)/(xmax - xmin)\n",
    "    ax.annotate('', xy=(xc, 1), xycoords='axes fraction', xytext=(xc, 1.075), \n",
    "            arrowprops=dict(arrowstyle=\"->\", color='b'))\n",
    "    xc = (P_locs[i+1,1] - xmin)/(xmax - xmin)\n",
    "    ax.annotate('', xy=(xc, 1), xycoords='axes fraction', xytext=(xc, 1.075), \n",
    "            arrowprops=dict(arrowstyle=\"->\", color='b'))\n",
    "\n",
    "    i = i + 1\n",
    "\n",
    "ax2 = fig.add_axes([0.25, -0.3, 0.5, 0.1])\n",
    "cbar = mpl.colorbar.ColorbarBase(\n",
    "    ax2, norm=norm, orientation=\"horizontal\"\n",
    ")\n",
    "cbar.set_label(\"Sensitivity\", rotation=0, labelpad=15, size=12)"
   ]
  },
  {
   "cell_type": "markdown",
   "metadata": {},
   "source": [
    "## Real data example"
   ]
  },
  {
   "cell_type": "markdown",
   "metadata": {},
   "source": [
    "### The Century Deposit DC resistivity inversion"
   ]
  },
  {
   "cell_type": "markdown",
   "metadata": {},
   "source": [
    "## Conclusions\n",
    "\n",
    "In this tutorial we used the resources avaiable in SimPEG for computing and ploting the sensitivity matrix. We used the DC resistivity problem as a motivation example and analysed the sensitivity patterns for a homogeneous half space using two different survey layouts. We also applied this technique for a DC resistivity real data inversion scenario. This kind of analysis can help us decide upon the most appropriate electrode array to use for a particular exploration project. It is also a valuable tool to have in our toolbox for performing the assessment of the solutions obtained after the application of some inversion algorithm as illustrated by the real case example."
   ]
  },
  {
   "cell_type": "markdown",
   "metadata": {},
   "source": [
    "## Acknowledgements"
   ]
  },
  {
   "cell_type": "markdown",
   "metadata": {},
   "source": [
    "## References"
   ]
  }
 ],
 "metadata": {
  "kernelspec": {
   "display_name": "Python 3 (ipykernel)",
   "language": "python",
   "name": "python3"
  },
  "language_info": {
   "codemirror_mode": {
    "name": "ipython",
    "version": 3
   },
   "file_extension": ".py",
   "mimetype": "text/x-python",
   "name": "python",
   "nbconvert_exporter": "python",
   "pygments_lexer": "ipython3",
   "version": "3.11.5"
  }
 },
 "nbformat": 4,
 "nbformat_minor": 4
}
