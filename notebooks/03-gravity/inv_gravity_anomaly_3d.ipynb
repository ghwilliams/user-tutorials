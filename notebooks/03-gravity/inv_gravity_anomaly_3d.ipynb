{
 "cells": [
  {
   "cell_type": "markdown",
   "metadata": {},
   "source": [
    "# 3D Inversion of Gravity Anomaly Data"
   ]
  },
  {
   "cell_type": "markdown",
   "metadata": {},
   "source": [
    "```{admonition} Intermediate notebook\n",
    ":class: caution\n",
    "This tutorial focusses on intermediate level functionality within SimPEG. Basic functionality within SimPEG is not discussed in detail, as we assume the user is already familiar. \n",
    "```"
   ]
  },
  {
   "cell_type": "markdown",
   "metadata": {},
   "source": [
    "```{admonition} Light-weight notebook\n",
    ":class: hint\n",
    "This tutorial requires minimal computational resources and can be executed quickly in the background while other computer processes are running.\n",
    "```"
   ]
  },
  {
   "cell_type": "markdown",
   "metadata": {},
   "source": [
    "**Author:** Devin C. Cowan\n",
    "\n",
    "</br>\n",
    "\n",
    "**Keywords:** gravity anomaly, integral formulation, inversion, sparse norm, tensor mesh, tree mesh.\n",
    "\n",
    "</br>\n",
    "\n",
    "**Summary:** Here we invert gravity anomaly data to recover a density contrast model. We demonstrate two approaches for recovering a density contrast model:\n",
    "\n",
    "1. Weighted least-squares inversion for a tensor mesh\n",
    "2. Iteratively re-weighted least-squares (IRLS) inversion for a tree mesh\n",
    "\n",
    "The *weighted least-squares* approach is a great introduction to geophysical inversion with SimPEG. One drawback however, is that it recovers smooth structures which may not be representative of the true model. To recover sparse and/or blocky structures, we also demonstrate the *iteratively re-weighted least-squares* approach. Because this tutorial focusses primarily on inversion-related functionality, we urge the reader to become familiar with functionality explained in the [3D Forward Simulation of Gravity Gradiometry Data on a Tensor Mesh](fwd_gravity_anomaly_3d.ipynb) tutorial before working through this one.\n",
    "\n",
    "</br>\n",
    "\n",
    "**Learning Objectives:**\n",
    "\n",
    "- How geophysical inversion is carried out using SimPEG.\n",
    "- How to assign appropriate uncertainties to gravity anomaly data.\n",
    "- How to design a suitable mesh for gravity inversion when using the integral formulation.\n",
    "- How to choose and set parameters for the inversion.\n",
    "- How to define directives that are applied and updated throughout the inversion.\n",
    "- How to applying the sensitivity weighting generally used in 3D gravity inversion.\n",
    "- How to invert data using weighted least-squares and sparse-norm regularization.\n",
    "- How to analyse inversion results.\n",
    "\n",
    "Although we consider gravity anomaly data in this tutorial, the same approach\n",
    "can be used to invert gravity gradiometry data."
   ]
  },
  {
   "cell_type": "markdown",
   "metadata": {},
   "source": [
    "## Importing Modules\n",
    "\n",
    "Here, we import all of the functionality required to run the notebook for the tutorial exercise.\n",
    "All of the functionality specific to the forward simulation of gravity data are imported from the [SimPEG.potential_fields.gravity](myst:SimPEG#SimPEG.potential_fields.gravity) module. Classes required to define the data misfit, regularization, optimization, etc... are imported from elsewhere within SimPEG. We also import some useful utility functions from [SimPEG.utils](myst:SimPEG#SimPEG.utils). To generate the mesh used for the inversion, we use the [discretize](https://discretize.simpeg.xyz/en/main) package."
   ]
  },
  {
   "cell_type": "code",
   "execution_count": 5,
   "metadata": {},
   "outputs": [],
   "source": [
    "# SimPEG functionality\n",
    "from SimPEG.potential_fields import gravity\n",
    "from SimPEG.utils import plot2Ddata, model_builder, download\n",
    "from SimPEG import (\n",
    "    maps,\n",
    "    data,\n",
    "    data_misfit,\n",
    "    inverse_problem,\n",
    "    regularization,\n",
    "    optimization,\n",
    "    directives,\n",
    "    inversion\n",
    ")\n",
    "\n",
    "# discretize functionality\n",
    "from discretize import TensorMesh, TreeMesh\n",
    "from discretize.utils import active_from_xyz\n",
    "\n",
    "# Common Python functionality\n",
    "import os\n",
    "import numpy as np\n",
    "from scipy.interpolate import griddata\n",
    "import matplotlib as mpl\n",
    "import matplotlib.pyplot as plt\n",
    "import tarfile\n",
    "mpl.rcParams.update({'font.size': 14})"
   ]
  },
  {
   "cell_type": "markdown",
   "metadata": {},
   "source": [
    "## Loading Tutorial Assets\n",
    "\n",
    "For most geophysical inversion projects, a reasonable inversion result can be obtained so long as the practitioner has observed data and topography. For this tutorial, the observed data and topography files are stored within a\n",
    "tar-file on our Google cloud bucket: \"https://storage.googleapis.com/simpeg/doc-assets/gravity.tar.gz\". Here, we download and import the observed data and topography into the SimPEG framework."
   ]
  },
  {
   "cell_type": "code",
   "execution_count": 6,
   "metadata": {},
   "outputs": [],
   "source": [
    "downloaded_data = \"fwd_gravity_anomaly_3d.tar.gz\""
   ]
  },
  {
   "cell_type": "code",
   "execution_count": 9,
   "metadata": {},
   "outputs": [
    {
     "ename": "FileNotFoundError",
     "evalue": "[Errno 2] No such file or directory: 'fwd_gravity_anomaly_3d.tar.gz'",
     "output_type": "error",
     "traceback": [
      "\u001b[1;31m---------------------------------------------------------------------------\u001b[0m",
      "\u001b[1;31mFileNotFoundError\u001b[0m                         Traceback (most recent call last)",
      "Cell \u001b[1;32mIn[9], line 8\u001b[0m\n\u001b[0;32m      2\u001b[0m data_source \u001b[38;5;241m=\u001b[39m \u001b[38;5;124mr\u001b[39m\u001b[38;5;124m\"\u001b[39m\u001b[38;5;124mhttps://github.com/simpeg/user-tutorials/blob/main/assets/03-gravity/fwd_gravity_anomaly_3d.tar.gz\u001b[39m\u001b[38;5;124m\"\u001b[39m\n\u001b[0;32m      4\u001b[0m \u001b[38;5;66;03m# download the data\u001b[39;00m\n\u001b[0;32m      5\u001b[0m \u001b[38;5;66;03m# downloaded_data = download(data_source, overwrite=True)\u001b[39;00m\n\u001b[0;32m      6\u001b[0m \n\u001b[0;32m      7\u001b[0m \u001b[38;5;66;03m# unzip the tarfile\u001b[39;00m\n\u001b[1;32m----> 8\u001b[0m tar \u001b[38;5;241m=\u001b[39m \u001b[43mtarfile\u001b[49m\u001b[38;5;241;43m.\u001b[39;49m\u001b[43mopen\u001b[49m\u001b[43m(\u001b[49m\u001b[43mdownloaded_data\u001b[49m\u001b[43m,\u001b[49m\u001b[43m \u001b[49m\u001b[38;5;124;43m\"\u001b[39;49m\u001b[38;5;124;43mr\u001b[39;49m\u001b[38;5;124;43m\"\u001b[39;49m\u001b[43m)\u001b[49m\n\u001b[0;32m      9\u001b[0m tar\u001b[38;5;241m.\u001b[39mextractall()\n\u001b[0;32m     10\u001b[0m tar\u001b[38;5;241m.\u001b[39mclose()\n",
      "File \u001b[1;32m~\\anaconda3\\lib\\tarfile.py:1632\u001b[0m, in \u001b[0;36mTarFile.open\u001b[1;34m(cls, name, mode, fileobj, bufsize, **kwargs)\u001b[0m\n\u001b[0;32m   1630\u001b[0m     saved_pos \u001b[38;5;241m=\u001b[39m fileobj\u001b[38;5;241m.\u001b[39mtell()\n\u001b[0;32m   1631\u001b[0m \u001b[38;5;28;01mtry\u001b[39;00m:\n\u001b[1;32m-> 1632\u001b[0m     \u001b[38;5;28;01mreturn\u001b[39;00m func(name, \u001b[38;5;124m\"\u001b[39m\u001b[38;5;124mr\u001b[39m\u001b[38;5;124m\"\u001b[39m, fileobj, \u001b[38;5;241m*\u001b[39m\u001b[38;5;241m*\u001b[39mkwargs)\n\u001b[0;32m   1633\u001b[0m \u001b[38;5;28;01mexcept\u001b[39;00m (ReadError, CompressionError) \u001b[38;5;28;01mas\u001b[39;00m e:\n\u001b[0;32m   1634\u001b[0m     error_msgs\u001b[38;5;241m.\u001b[39mappend(\u001b[38;5;124mf\u001b[39m\u001b[38;5;124m'\u001b[39m\u001b[38;5;124m- method \u001b[39m\u001b[38;5;132;01m{\u001b[39;00mcomptype\u001b[38;5;132;01m}\u001b[39;00m\u001b[38;5;124m: \u001b[39m\u001b[38;5;132;01m{\u001b[39;00me\u001b[38;5;132;01m!r}\u001b[39;00m\u001b[38;5;124m'\u001b[39m)\n",
      "File \u001b[1;32m~\\anaconda3\\lib\\tarfile.py:1698\u001b[0m, in \u001b[0;36mTarFile.gzopen\u001b[1;34m(cls, name, mode, fileobj, compresslevel, **kwargs)\u001b[0m\n\u001b[0;32m   1695\u001b[0m     \u001b[38;5;28;01mraise\u001b[39;00m CompressionError(\u001b[38;5;124m\"\u001b[39m\u001b[38;5;124mgzip module is not available\u001b[39m\u001b[38;5;124m\"\u001b[39m) \u001b[38;5;28;01mfrom\u001b[39;00m \u001b[38;5;28mNone\u001b[39m\n\u001b[0;32m   1697\u001b[0m \u001b[38;5;28;01mtry\u001b[39;00m:\n\u001b[1;32m-> 1698\u001b[0m     fileobj \u001b[38;5;241m=\u001b[39m \u001b[43mGzipFile\u001b[49m\u001b[43m(\u001b[49m\u001b[43mname\u001b[49m\u001b[43m,\u001b[49m\u001b[43m \u001b[49m\u001b[43mmode\u001b[49m\u001b[43m \u001b[49m\u001b[38;5;241;43m+\u001b[39;49m\u001b[43m \u001b[49m\u001b[38;5;124;43m\"\u001b[39;49m\u001b[38;5;124;43mb\u001b[39;49m\u001b[38;5;124;43m\"\u001b[39;49m\u001b[43m,\u001b[49m\u001b[43m \u001b[49m\u001b[43mcompresslevel\u001b[49m\u001b[43m,\u001b[49m\u001b[43m \u001b[49m\u001b[43mfileobj\u001b[49m\u001b[43m)\u001b[49m\n\u001b[0;32m   1699\u001b[0m \u001b[38;5;28;01mexcept\u001b[39;00m \u001b[38;5;167;01mOSError\u001b[39;00m \u001b[38;5;28;01mas\u001b[39;00m e:\n\u001b[0;32m   1700\u001b[0m     \u001b[38;5;28;01mif\u001b[39;00m fileobj \u001b[38;5;129;01mis\u001b[39;00m \u001b[38;5;129;01mnot\u001b[39;00m \u001b[38;5;28;01mNone\u001b[39;00m \u001b[38;5;129;01mand\u001b[39;00m mode \u001b[38;5;241m==\u001b[39m \u001b[38;5;124m'\u001b[39m\u001b[38;5;124mr\u001b[39m\u001b[38;5;124m'\u001b[39m:\n",
      "File \u001b[1;32m~\\anaconda3\\lib\\gzip.py:174\u001b[0m, in \u001b[0;36mGzipFile.__init__\u001b[1;34m(self, filename, mode, compresslevel, fileobj, mtime)\u001b[0m\n\u001b[0;32m    172\u001b[0m     mode \u001b[38;5;241m+\u001b[39m\u001b[38;5;241m=\u001b[39m \u001b[38;5;124m'\u001b[39m\u001b[38;5;124mb\u001b[39m\u001b[38;5;124m'\u001b[39m\n\u001b[0;32m    173\u001b[0m \u001b[38;5;28;01mif\u001b[39;00m fileobj \u001b[38;5;129;01mis\u001b[39;00m \u001b[38;5;28;01mNone\u001b[39;00m:\n\u001b[1;32m--> 174\u001b[0m     fileobj \u001b[38;5;241m=\u001b[39m \u001b[38;5;28mself\u001b[39m\u001b[38;5;241m.\u001b[39mmyfileobj \u001b[38;5;241m=\u001b[39m \u001b[43mbuiltins\u001b[49m\u001b[38;5;241;43m.\u001b[39;49m\u001b[43mopen\u001b[49m\u001b[43m(\u001b[49m\u001b[43mfilename\u001b[49m\u001b[43m,\u001b[49m\u001b[43m \u001b[49m\u001b[43mmode\u001b[49m\u001b[43m \u001b[49m\u001b[38;5;129;43;01mor\u001b[39;49;00m\u001b[43m \u001b[49m\u001b[38;5;124;43m'\u001b[39;49m\u001b[38;5;124;43mrb\u001b[39;49m\u001b[38;5;124;43m'\u001b[39;49m\u001b[43m)\u001b[49m\n\u001b[0;32m    175\u001b[0m \u001b[38;5;28;01mif\u001b[39;00m filename \u001b[38;5;129;01mis\u001b[39;00m \u001b[38;5;28;01mNone\u001b[39;00m:\n\u001b[0;32m    176\u001b[0m     filename \u001b[38;5;241m=\u001b[39m \u001b[38;5;28mgetattr\u001b[39m(fileobj, \u001b[38;5;124m'\u001b[39m\u001b[38;5;124mname\u001b[39m\u001b[38;5;124m'\u001b[39m, \u001b[38;5;124m'\u001b[39m\u001b[38;5;124m'\u001b[39m)\n",
      "\u001b[1;31mFileNotFoundError\u001b[0m: [Errno 2] No such file or directory: 'fwd_gravity_anomaly_3d.tar.gz'"
     ]
    }
   ],
   "source": [
    "# storage bucket where we have the data\n",
    "data_source = r\"https://github.com/simpeg/user-tutorials/blob/main/assets/03-gravity/fwd_gravity_anomaly_3d.tar.gz\"\n",
    "\n",
    "# download the data\n",
    "# downloaded_data = download(data_source, overwrite=True)\n",
    "\n",
    "# unzip the tarfile\n",
    "tar = tarfile.open(downloaded_data, \"r\")\n",
    "tar.extractall()\n",
    "tar.close()\n",
    "\n",
    "# path to the directory containing our data\n",
    "dir_path = downloaded_data.split(\".\")[0] + os.path.sep\n",
    "\n",
    "# files to work with\n",
    "topo_filename = dir_path + \"gravity_topo.txt\"\n",
    "data_filename = dir_path + \"gravity_data.obs\""
   ]
  },
  {
   "cell_type": "markdown",
   "metadata": {},
   "source": [
    "For this tutorial, the data are organized within basic XYZ files. However, SimPEG does allow the user to import UBC-GIF formatted gravity data files; see [read_grav3d_ubc](myst:SimPEG#SimPEG.utils.io_utils.read_grav3d_ubc)."
   ]
  },
  {
   "cell_type": "code",
   "execution_count": 8,
   "metadata": {},
   "outputs": [],
   "source": [
    "# Load topography (xyz file)\n",
    "topo_xyz = np.loadtxt(str(topo_filename))\n",
    "\n",
    "# Load field data (xyz file)\n",
    "dobs = np.loadtxt(str(data_filename))"
   ]
  },
  {
   "cell_type": "markdown",
   "metadata": {},
   "source": [
    "## Plot Observed Data and Topography\n",
    "\n",
    "Here we plot the synthetic gravity anomaly data and local topography."
   ]
  },
  {
   "cell_type": "code",
   "execution_count": null,
   "metadata": {},
   "outputs": [],
   "source": [
    "# Define receiver locations and observed data\n",
    "receiver_locations = dobs[:, 0:3]\n",
    "dobs = dobs[:, -1]"
   ]
  },
  {
   "cell_type": "code",
   "execution_count": null,
   "metadata": {},
   "outputs": [],
   "source": [
    "fig = plt.figure(figsize=(9, 5))\n",
    "\n",
    "ax1 = fig.add_axes([0.05, 0.35, 0.35, 0.6])\n",
    "plot2Ddata(\n",
    "    receiver_locations,\n",
    "    dobs,\n",
    "    ax=ax1,\n",
    "    dataloc=True,\n",
    "    ncontour=40,\n",
    "    contourOpts={\"cmap\": \"bwr\"}\n",
    ")\n",
    "ax1.set_title(\"Gravity Anomaly\", pad=15)\n",
    "ax1.set_xlabel(\"x (m)\")\n",
    "ax1.set_ylabel(\"y (m)\")\n",
    "\n",
    "cx1 = fig.add_axes([0.05, 0.18, 0.35, 0.04])\n",
    "norm1 = mpl.colors.Normalize(vmin=-np.max(np.abs(dobs)), vmax=np.max(np.abs(dobs)))\n",
    "cbar1 = mpl.colorbar.ColorbarBase(\n",
    "    cx1, norm=norm1, orientation=\"horizontal\", cmap=mpl.cm.bwr\n",
    ")\n",
    "cbar1.set_label(\"$mGal$\", size=16)\n",
    "\n",
    "ax2 = fig.add_axes([0.55, 0.35, 0.35, 0.6])\n",
    "plot2Ddata(\n",
    "    topo_xyz[:, 0:2],\n",
    "    topo_xyz[:, -1],\n",
    "    ax=ax2,\n",
    "    ncontour=50,\n",
    "    contourOpts={\"cmap\": \"gist_earth\"}\n",
    ")\n",
    "ax2.set_title(\"Topography\", pad=15)\n",
    "ax2.set_xlabel(\"x (m)\")\n",
    "ax2.set_ylabel(\"y (m)\")\n",
    "\n",
    "cx2 = fig.add_axes([0.55, 0.18, 0.35, 0.04])\n",
    "norm2 = mpl.colors.Normalize(vmin=np.min(topo_xyz[:, -1]), vmax=np.max(topo_xyz[:, -1])+1e-3)\n",
    "cbar2 = mpl.colorbar.ColorbarBase(\n",
    "    cx2, norm=norm2, orientation=\"horizontal\", cmap=mpl.cm.terrain\n",
    ")\n",
    "cbar2.set_label(\"$m$\", size=16)\n",
    "\n",
    "plt.show()"
   ]
  },
  {
   "cell_type": "markdown",
   "metadata": {},
   "source": [
    "## Assign Uncertainties\n",
    "\n",
    "Inversion with SimPEG requires that we define the uncertainties on our data; that is, an estimate of the standard deviation of the noise on our data assuming it is uncorrelated Gaussian with zero mean. An online resource explaining uncertainties and their role in the inversion can be found [here](https://giftoolscookbook.readthedocs.io/en/latest/content/fundamentals/Uncertainties.html).\n",
    "\n",
    "**For gravity anomaly data,** a constant floor value is generally applied to all data. We generally avoid assigning percent uncertainties because the inversion prioritizes fitting the background over fitting anomalies. The floor value for the uncertainties may be chosen based on some knowledge of the instrument error, or it may be chosen as some fraction of the largest anomaly value. For this tutorial, the floor uncertainty assigned to all data is 1% of the maximum observed gravity anomaly value. **For gravity gradiometry data,** you may choose to assign a different floor value to each data component. "
   ]
  },
  {
   "cell_type": "code",
   "execution_count": null,
   "metadata": {},
   "outputs": [],
   "source": [
    "maximum_anomaly = np.max(np.abs(dobs))\n",
    "floor_uncertainty = 0.02 * maximum_anomaly\n",
    "uncertainties = floor_uncertainty * np.ones(np.shape(dobs))\n",
    "print('Floor uncertainty: {}'.format(floor_uncertainty))"
   ]
  },
  {
   "cell_type": "markdown",
   "metadata": {},
   "source": [
    "## Defining the Survey\n",
    "\n",
    "Here, we define the survey geometry. The survey consists of a 160 m x 160 m grid of equally spaced receivers located 5 m\n",
    "above the surface topography. For a more comprehensive description of constructing gravity surveys in SimPEG, see the [3D Forward Simulation of Gravity Gradiometry Data on a Tensor Mesh](fwd_gravity_anomaly_3d.ipynb) tutorial."
   ]
  },
  {
   "cell_type": "code",
   "execution_count": null,
   "metadata": {},
   "outputs": [],
   "source": [
    "# Define the receivers. The data consist of vertical gravity anomaly measurements.\n",
    "# The set of receivers must be defined as a list.\n",
    "receiver_list = gravity.receivers.Point(receiver_locations, components=\"gz\")\n",
    "receiver_list = [receiver_list]\n",
    "\n",
    "# Define the source field\n",
    "source_field = gravity.sources.SourceField(receiver_list=receiver_list)\n",
    "\n",
    "# Define the survey\n",
    "survey = gravity.survey.Survey(source_field)"
   ]
  },
  {
   "cell_type": "markdown",
   "metadata": {},
   "source": [
    "## Defining the Data\n",
    "\n",
    "The SimPEG [Data](myst:SimPEG#SimPEG.data.Data) class is required for inversion and connects the observed data, uncertainties and survey geometry."
   ]
  },
  {
   "cell_type": "code",
   "execution_count": null,
   "metadata": {},
   "outputs": [],
   "source": [
    "data_object = data.Data(survey, dobs=dobs, standard_deviation=uncertainties)"
   ]
  },
  {
   "cell_type": "markdown",
   "metadata": {},
   "source": [
    "## Weighted Least-Squares Inversion on a Tensor Mesh\n",
    "\n",
    "Here, we provide a step-by-step best-practices approach for weighted least-squares inversion of gravity anomaly data."
   ]
  },
  {
   "cell_type": "markdown",
   "metadata": {},
   "source": [
    "### Designing a (Tensor) Mesh\n",
    "\n",
    "Meshes are designed using the [discretize package](https://discretize.simpeg.xyz). Here, we design a [tensor mesh](myst:discretize#discretize.TensorMesh). See the [discretize user tutorials](https://discretize.simpeg.xyz/en/main/tutorials/mesh_generation/index.html) to learn more about creating meshes. When designing a mesh for gravity inversion, we must consider the spatial wavelengths of the signals contained within the data. If the data spacing is large and/or the signals present in the data are smooth, larger cells can be used to construct the mesh. If the data spacing is smaller and compact anomalies are observed, smaller cells are needed to characterize the structures responsible. And smaller cells are required when the effects of surface topography are significant.\n",
    "\n",
    "**General rule of thumb:** The minimum cell size in each direction is at most 0.5 - 1 times the station spacing. And the thickness of the padding is at least 1 - 2 times the width of the survey region."
   ]
  },
  {
   "cell_type": "code",
   "execution_count": null,
   "metadata": {},
   "outputs": [],
   "source": [
    "dh = 5.0                                      # minimum cell size\n",
    "hx = [(dh, 5, -1.3), (dh, 40), (dh, 5, 1.3)]  # discretization along x\n",
    "hy = [(dh, 5, -1.3), (dh, 40), (dh, 5, 1.3)]  # discretization along y\n",
    "hz = [(dh, 5, -1.3), (dh, 15)]                # discretization along z\n",
    "tensor_mesh = TensorMesh([hx, hy, hz], \"CCN\")"
   ]
  },
  {
   "cell_type": "markdown",
   "metadata": {},
   "source": [
    "### Active Cells and Mapping from the Model to Active Cells\n",
    "\n",
    "Whereas cells below the Earth's surface contribute towards the simulated gravity anomaly, air cells do not.\n",
    "The set of mesh cells used in the forward simulation are referred to as 'active cells'. Unused cells (air cells) are 'inactive cells'. Here, the discretize [active_from_xyz](myst:discretize#discretize.utils.active_from_xyz) utility function is used to find the indices of the active cells using the mesh and surface topography. The output quantity is a ``bool`` array."
   ]
  },
  {
   "cell_type": "code",
   "execution_count": null,
   "metadata": {},
   "outputs": [],
   "source": [
    "ind_tensor_active = active_from_xyz(tensor_mesh, topo_xyz)"
   ]
  },
  {
   "cell_type": "markdown",
   "metadata": {},
   "source": [
    "In SimPEG, the term 'model' is not synonymous with the physical property values defined on the mesh. For whatever model we choose, we must define a mapping from the set of model parameters (a [1D numpy.ndarray](myst:numpy#numpy.ndarray)) to the active cells in the mesh. Mappings are created using the [SimPEG.maps](myst:SimPEG#SimPEG.maps.IdentityMap) module. For the tutorial exercise, the model is the density contrast values for all active cells. As such, our mapping is an identity mapping, whose dimensions are equal to the number of active cells."
   ]
  },
  {
   "cell_type": "code",
   "execution_count": null,
   "metadata": {},
   "outputs": [],
   "source": [
    "nP_tensor = int(ind_tensor_active.sum())           # number of model parameters\n",
    "tensor_model_map = maps.IdentityMap(nP=nP_tensor)  # mapping from model to active cells"
   ]
  },
  {
   "cell_type": "markdown",
   "metadata": {},
   "source": [
    "### Starting/Reference Models\n",
    "\n",
    "The **starting model** defines a reasonable starting point for the inversion and does not necessarily represent an initial estimate of the true model. Because the integral formulation used to solve the gravity forward simulation is linear, the optimization problem we must solve is a linear least-squares problem, making the choice in starting model insignificant. It should be noted that the staring model **cannot be vector of zeros,** otherwise the inversion will be unable to compute a gradient direction at the first iteration. For gravity inversion, the starting model is frequently a constant vector with a very small value.\n",
    "\n",
    "The **reference model** is used to include a-prior information. The impact of the reference model on the inversion will be discussed in another tutorial. Assuming the contribution from all background structures has been removed from the gravity anomaly data, and assuming we have not a-priori information, the reference model for basic inversion of gravity data is zero.\n",
    "\n",
    "Notice that the length of the starting and reference models is equal to the number of active mesh cells!!!"
   ]
  },
  {
   "cell_type": "code",
   "execution_count": null,
   "metadata": {},
   "outputs": [],
   "source": [
    "starting_tensor_model = 1e-6 * np.ones(nP_tensor)\n",
    "reference_tensor_model = np.zeros_like(starting_tensor_model)"
   ]
  },
  {
   "cell_type": "code",
   "execution_count": null,
   "metadata": {},
   "outputs": [],
   "source": [
    "fig = plt.figure(figsize=(7, 3))\n",
    "ax1 = fig.add_axes([0.1, 0.1, 0.73, 0.8])\n",
    "\n",
    "tensor_plotting_map = maps.InjectActiveCells(\n",
    "    tensor_mesh, ind_tensor_active, np.nan\n",
    ")\n",
    "norm = mpl.colors.Normalize(vmin=-0.1, vmax=0.1)\n",
    "tensor_mesh.plot_slice(\n",
    "    tensor_plotting_map * starting_tensor_model,\n",
    "    normal=\"Y\",\n",
    "    ax=ax1,\n",
    "    ind=int(tensor_mesh.shape_cells[1] / 2),\n",
    "    grid=True,\n",
    "    pcolor_opts={\"cmap\": mpl.cm.RdYlBu_r, \"norm\": norm},\n",
    ")\n",
    "ax1.set_title(\"Starting Model (slice at y = 0 m)\")\n",
    "\n",
    "ax2 = fig.add_axes([0.85, 0.1, 0.03, 0.8])\n",
    "cbar = mpl.colorbar.ColorbarBase(\n",
    "    ax2, norm=norm, orientation=\"vertical\", cmap=mpl.cm.RdYlBu_r\n",
    ")\n",
    "cbar.set_label(\"$g/cm^3$\", rotation=270, labelpad=15, size=16)\n",
    "\n",
    "plt.show()"
   ]
  },
  {
   "cell_type": "markdown",
   "metadata": {},
   "source": [
    "### Define the Forward Simulation\n",
    "\n",
    "A simulation object defining the forward problem is required in order to predict data and calculate misfits for recovered models. A comprehensive description of the simulation object for gravity anomaly data was discussed in the [3D Forward Simulation of Gravity Gradiometry Data on a Tensor Mesh](fwd_gravity_anomaly_3d.ipynb) tutorial. Here, we use the [3D integral formulation](myst:SimPEG#SimPEG.potential_fields.gravity.simulation.Simulation3DIntegral)."
   ]
  },
  {
   "cell_type": "code",
   "execution_count": null,
   "metadata": {},
   "outputs": [],
   "source": [
    "simulation_L2 = gravity.simulation.Simulation3DIntegral(\n",
    "    survey=survey,\n",
    "    mesh=tensor_mesh,\n",
    "    rhoMap=tensor_model_map,\n",
    "    ind_active=ind_tensor_active\n",
    ")"
   ]
  },
  {
   "cell_type": "markdown",
   "metadata": {},
   "source": [
    "### Data Misfit\n",
    "\n",
    "To understand the role of the data misfit in the inversion, please visit [this online resource](https://giftoolscookbook.readthedocs.io/en/latest/content/fundamentals/Uncertainties.html).\n",
    "Here, we use the [L2DataMisfit](myst:SimPEG#SimPEG.data_misfit.L2DataMisfit) class to define the data misfit. In this case, the data misfit is the L2 norm of the weighted residual between the observed data and the data predicted for a given model. When instantiating the data misfit object within SimPEG, we must assign an appropriate *data object* and *simulation object* as properties."
   ]
  },
  {
   "cell_type": "code",
   "execution_count": null,
   "metadata": {},
   "outputs": [],
   "source": [
    "dmis_L2 = data_misfit.L2DataMisfit(data=data_object, simulation=simulation_L2)"
   ]
  },
  {
   "cell_type": "markdown",
   "metadata": {},
   "source": [
    "### Regularization\n",
    "\n",
    "To understand the role of the regularization in the inversion, please visit [this online resource](https://giftoolscookbook.readthedocs.io/en/latest/content/fundamentals/ObjectiveFunction.html). Here, we use the [WeightedLeastSquares](myst:SimPEG#SimPEG.regularization.WeightedLeastSquares) regularization class to constrain the inversion result. Here, length scales along x, y and z are used to balance the smallness and smoothness terms. And the reference model is only applied to the smallness term; which is redundant for the tutorial example since we have set the reference model to an array of zeros."
   ]
  },
  {
   "cell_type": "code",
   "execution_count": null,
   "metadata": {},
   "outputs": [],
   "source": [
    "reg_L2 = regularization.WeightedLeastSquares(\n",
    "    tensor_mesh,\n",
    "    active_cells=ind_tensor_active,\n",
    "    length_scale_x=1.0,\n",
    "    length_scale_y=1.0,\n",
    "    length_scale_z=1.0,\n",
    "    reference_model=reference_tensor_model,\n",
    "    reference_model_in_smooth=False\n",
    ")"
   ]
  },
  {
   "cell_type": "markdown",
   "metadata": {},
   "source": [
    "### Optimization\n",
    "\n",
    "To understand the role of the optimization algorithm in the inversion, please visit this online resource. Here, we use the [InexactGaussNewton](myst:SimPEG#SimPEG.optimization.InexactGaussNewton) class to solve the optimization problem using inexact Gauss-Newton. Reasonable default values have generally been set for the properties of each optimization class. However, the user may choose to set custom values; e.g. the accuracy tolerance for the conjugate gradient solver or the number of line searches."
   ]
  },
  {
   "cell_type": "code",
   "execution_count": null,
   "metadata": {},
   "outputs": [],
   "source": [
    "opt_L2 = optimization.InexactGaussNewton(\n",
    "    maxIter=100,\n",
    "    maxIterLS=20,\n",
    "    maxIterCG=10,\n",
    "    tolCG=1e-2\n",
    ")"
   ]
  },
  {
   "cell_type": "markdown",
   "metadata": {},
   "source": [
    "### Inverse Problem\n",
    "\n",
    "We use the [BaseInvProblem](myst:SimPEG#SimPEG.inverse_problem.BaseInvProblem) class to fully define the inverse problem that is solved at each beta (trade-off parameter) iteration. The inverse problem requires appropriate *data misfit*, *regularization* and *optimization* objects."
   ]
  },
  {
   "cell_type": "code",
   "execution_count": null,
   "metadata": {},
   "outputs": [],
   "source": [
    "inv_prob_L2 = inverse_problem.BaseInvProblem(dmis_L2, reg_L2, opt_L2)"
   ]
  },
  {
   "cell_type": "markdown",
   "metadata": {},
   "source": [
    "### Inversion Directives\n",
    "\n",
    "To understand the role of directives in the inversion, please visit this online resource. Here, we apply common directives for weighted least-squares inversion of gravity data and describe their roles. These are:\n",
    "\n",
    "- [UpdateSensitivityWeights](myst:SimPEG#SimPEG.directives.UpdateSensitivityWeights): apply sensitivity weighting to counteract the natural tendancy of potential field inversion to cluster recovered structures near the receivers. Because the 3D integral formulation is linear, the sensitivity weighting is independent of the model and does not need to be updated throughout the inversion, so we set `every_iteration=False`.\n",
    "\n",
    "- [UpdatePreconditioner](myst:SimPEG#SimPEG.directives.UpdatePreconditioner): Apply Jacobi preconditioner when solving optimization problem.\n",
    "\n",
    "- [BetaEstimate_ByEig](myst:SimPEG#SimPEG.directives.BetaEstimate_ByEig): Compute and set starting trade-off parameter (beta) based on largest eigenvalues.\n",
    "\n",
    "- [BetaSchedule](myst:SimPEG#SimPEG.directives.BetaSchedule): Size reduction of the trade-off parameter at every beta iteration, and the number of Gauss-Newton iterations for each beta.\n",
    "\n",
    "- [TargetMisfit](myst:SimPEG#SimPEG.directives.TargetMisfit): Terminates the inversion when the data misfit equals the target misfit. A `chifact=1` terminates the inversion when the data misfit equals the number of data.\n",
    "\n",
    "\n",
    "The directive objects are organized in a ``list``. Upon starting the inversion or updating the recovered model at each iteration, the inversion will call each directive within the list **in order**. The order of the directives matters, and SimPEG will throw an error if directives are organized into an improper order. Some directives, like the ``BetaEstimate_ByEig`` are only used when starting the inversion. Other directives, like ``UpdatePreconditionner``, are used whenever the model is updated."
   ]
  },
  {
   "cell_type": "code",
   "execution_count": null,
   "metadata": {},
   "outputs": [],
   "source": [
    "sensitivity_weights = directives.UpdateSensitivityWeights(every_iteration=False)\n",
    "update_jacobi = directives.UpdatePreconditioner(update_every_iteration=True)\n",
    "starting_beta = directives.BetaEstimate_ByEig(beta0_ratio=10)\n",
    "beta_schedule = directives.BetaSchedule(coolingFactor=2., coolingRate=1)\n",
    "target_misfit = directives.TargetMisfit(chifact=1.0)\n",
    "\n",
    "directives_list_L2 = [\n",
    "    sensitivity_weights,\n",
    "    update_jacobi,\n",
    "    starting_beta,\n",
    "    beta_schedule,\n",
    "    target_misfit\n",
    "]"
   ]
  },
  {
   "cell_type": "markdown",
   "metadata": {},
   "source": [
    "### Define and Run the Inversion\n",
    "\n",
    "We define the inversion using the [BaseInversion](myst:SimPEG#SimPEG.inversion.BaseInversion) class. The inversion class must be instatiated with an appropriate *inverse problem* object and *directives list*. The ``run`` method, along with a starting model, is respondible for running the inversion. The output is a 1D numpy.ndarray containing the recovered model parameters"
   ]
  },
  {
   "cell_type": "code",
   "execution_count": null,
   "metadata": {},
   "outputs": [],
   "source": [
    "# Here we combine the inverse problem and the set of directives\n",
    "inv_L2 = inversion.BaseInversion(inv_prob_L2, directives_list_L2)\n",
    "\n",
    "# Run inversion\n",
    "recovered_tensor_model = inv_L2.run(starting_tensor_model)"
   ]
  },
  {
   "cell_type": "markdown",
   "metadata": {},
   "source": [
    "## Analysing Inversion Outputs"
   ]
  },
  {
   "cell_type": "markdown",
   "metadata": {},
   "source": [
    "### Plot Data Misfit"
   ]
  },
  {
   "cell_type": "code",
   "execution_count": null,
   "metadata": {},
   "outputs": [],
   "source": [
    "# Predicted data with final recovered model.\n",
    "dpred = inv_prob_L2.dpred\n",
    "\n",
    "# Observed data | Predicted data | Normalized data misfit\n",
    "data_array = np.c_[dobs, dpred, (dobs - dpred) / uncertainties]\n",
    "\n",
    "fig = plt.figure(figsize=(12, 5))\n",
    "plot_title = [\"Observed\", \"Predicted\", \"Normalized Misfit\"]\n",
    "plot_units = [\"mGal\", \"mGal\", \"\"]\n",
    "\n",
    "ax1 = 3 * [None]\n",
    "ax2 = 3 * [None]\n",
    "norm = 3 * [None]\n",
    "cbar = 3 * [None]\n",
    "cplot = 3 * [None]\n",
    "v_lim = [np.max(np.abs(dobs)), np.max(np.abs(dobs)), 2.5]\n",
    "\n",
    "for ii in range(0, 3):\n",
    "    ax1[ii] = fig.add_axes([0.3 * ii + 0.1, 0.2, 0.27, 0.75])\n",
    "    norm[ii] = mpl.colors.Normalize(vmin=-v_lim[ii], vmax=v_lim[ii])\n",
    "    cplot[ii] = plot2Ddata(\n",
    "        receiver_list[0].locations,\n",
    "        data_array[:, ii],\n",
    "        ax=ax1[ii],\n",
    "        ncontour=30,\n",
    "        contourOpts={\"cmap\": \"bwr\", \"norm\": norm[ii]},\n",
    "    )\n",
    "    ax1[ii].set_title(plot_title[ii])\n",
    "    ax1[ii].set_xlabel(\"x (m)\")\n",
    "    if ii == 0:\n",
    "        ax1[ii].set_ylabel(\"y (m)\")\n",
    "    else:\n",
    "        ax1[ii].set_yticks([])\n",
    "\n",
    "    ax2[ii] = fig.add_axes([0.3 * ii + 0.1, 0.05, 0.27, 0.05])\n",
    "    cbar[ii] = mpl.colorbar.ColorbarBase(\n",
    "        ax2[ii], norm=norm[ii], orientation=\"horizontal\", cmap=mpl.cm.bwr\n",
    "    )\n",
    "    cbar[ii].set_label(plot_units[ii], labelpad=5)\n",
    "\n",
    "plt.show()"
   ]
  },
  {
   "cell_type": "markdown",
   "metadata": {},
   "source": [
    "### Plot Recovered Model"
   ]
  },
  {
   "cell_type": "code",
   "execution_count": null,
   "metadata": {},
   "outputs": [],
   "source": [
    "# Plot Recovered Model\n",
    "fig = plt.figure(figsize=(7, 3))\n",
    "ax1 = fig.add_axes([0.1, 0.1, 0.73, 0.8])\n",
    "\n",
    "norm = mpl.colors.Normalize(\n",
    "    vmin=np.min(recovered_tensor_model), vmax=np.max(recovered_tensor_model)\n",
    ")\n",
    "tensor_mesh.plot_slice(\n",
    "    tensor_plotting_map * recovered_tensor_model,\n",
    "    normal=\"Y\",\n",
    "    ax=ax1,\n",
    "    ind=int(tensor_mesh.shape_cells[1] / 2),\n",
    "    grid=False,\n",
    "    pcolor_opts={\"cmap\": mpl.cm.RdYlBu_r, \"norm\": norm},\n",
    ")\n",
    "ax1.set_title(\"Model slice at y = 0 m\")\n",
    "\n",
    "ax2 = fig.add_axes([0.85, 0.1, 0.03, 0.8])\n",
    "cbar = mpl.colorbar.ColorbarBase(\n",
    "    ax2, norm=norm, orientation=\"vertical\", cmap=mpl.cm.RdYlBu_r\n",
    ")\n",
    "cbar.set_label(\"$g/cm^3$\", rotation=270, labelpad=15, size=16)\n",
    "\n",
    "plt.show()"
   ]
  },
  {
   "cell_type": "markdown",
   "metadata": {},
   "source": [
    "## Iteratively Re-weighted Least-Squares (IRLS) Inversion on a Tree Mesh\n",
    "\n",
    "Here, we provide a step-by-step best-practices approach for iteratively IRLS inversion of gravity anomaly data on a tree mesh. Many of the steps are the same as our previous approach. As a result, we will avoiding repeating information whenever possible."
   ]
  },
  {
   "cell_type": "markdown",
   "metadata": {},
   "source": [
    "### Tree Mesh\n",
    "\n",
    "Here, we design a [tree mesh](myst:discretize#discretize.TreeMesh). See the [discretize user tutorials](https://discretize.simpeg.xyz/en/main/tutorials/mesh_generation/index.html) to learn more about creating tree meshes. The same approach used to construct the tensor mesh used in the weighted least-squares inversion example applies to tree meshes."
   ]
  },
  {
   "cell_type": "code",
   "execution_count": null,
   "metadata": {},
   "outputs": [],
   "source": [
    "dx = 5  # minimum cell width (base tree_mesh cell width) in x\n",
    "dy = 5  # minimum cell width (base tree_mesh cell width) in y\n",
    "dz = 5  # minimum cell width (base tree_mesh cell width) in z\n",
    "\n",
    "x_length = 240.0  # domain width in x\n",
    "y_length = 240.0  # domain width in y\n",
    "z_length = 120.0  # domain width in z\n",
    "\n",
    "# Compute number of base tree_mesh cells required in x and y\n",
    "nbcx = 2 ** int(np.round(np.log(x_length / dx) / np.log(2.0)))\n",
    "nbcy = 2 ** int(np.round(np.log(y_length / dy) / np.log(2.0)))\n",
    "nbcz = 2 ** int(np.round(np.log(z_length / dz) / np.log(2.0)))\n",
    "\n",
    "# Define the base tree_mesh\n",
    "hx = [(dx, nbcx)]\n",
    "hy = [(dy, nbcy)]\n",
    "hz = [(dz, nbcz)]\n",
    "tree_mesh = TreeMesh([hx, hy, hz], x0=\"CCN\")\n",
    "\n",
    "# Refine based on surface topography\n",
    "tree_mesh.refine_surface(\n",
    "    topo_xyz, padding_cells_by_level=[2, 2], finalize=False\n",
    ")\n",
    "\n",
    "# Refine box based on region of interest\n",
    "wsb_corner = np.c_[-100, -100, -80]\n",
    "ent_corner = np.c_[100, 100, 0]\n",
    "# Note -1 is a flag for smallest cell size\n",
    "tree_mesh.refine_box(wsb_corner, ent_corner, levels=[-1], finalize=False)\n",
    "\n",
    "tree_mesh.finalize()"
   ]
  },
  {
   "cell_type": "markdown",
   "metadata": {},
   "source": [
    "### Active Cells and Mapping from Model to Active Cells"
   ]
  },
  {
   "cell_type": "code",
   "execution_count": null,
   "metadata": {},
   "outputs": [],
   "source": [
    "ind_tree_active = active_from_xyz(tree_mesh, topo_xyz)"
   ]
  },
  {
   "cell_type": "code",
   "execution_count": null,
   "metadata": {},
   "outputs": [],
   "source": [
    "nP_tree = int(ind_tree_active.sum())           # number of active cells\n",
    "tree_model_map = maps.IdentityMap(nP=nP_tree)  # mapping from model to active cells"
   ]
  },
  {
   "cell_type": "markdown",
   "metadata": {},
   "source": [
    "### Starting and Reference Models"
   ]
  },
  {
   "cell_type": "code",
   "execution_count": null,
   "metadata": {},
   "outputs": [],
   "source": [
    "starting_tree_model = 1e-6 * np.ones(nP_tree)\n",
    "reference_tree_model = np.zeros_like(starting_tree_model)"
   ]
  },
  {
   "cell_type": "markdown",
   "metadata": {},
   "source": [
    "### Define Forward Simulation"
   ]
  },
  {
   "cell_type": "code",
   "execution_count": null,
   "metadata": {},
   "outputs": [],
   "source": [
    "simulation_irls = gravity.simulation.Simulation3DIntegral(\n",
    "    survey=survey,\n",
    "    mesh=tree_mesh,\n",
    "    rhoMap=tree_model_map,\n",
    "    ind_active=ind_tree_active\n",
    ")"
   ]
  },
  {
   "cell_type": "markdown",
   "metadata": {},
   "source": [
    "### Define Data Misfit"
   ]
  },
  {
   "cell_type": "code",
   "execution_count": null,
   "metadata": {},
   "outputs": [],
   "source": [
    "dmis_irls = data_misfit.L2DataMisfit(data=data_object, simulation=simulation_irls)"
   ]
  },
  {
   "cell_type": "markdown",
   "metadata": {},
   "source": [
    "### Regularization\n",
    "\n",
    "Here, we use the [Sparse](myst:SimPEG#SimPEG.regularization.Sparse) regularization class to constrain the inversion result using an IRLS approach. Here, the scaling constants that balance the smallness and smoothness terms are set directly. Equal emphasis on smallness and smoothness is generally applied by using the inverse square of the smallest cell dimension. The reference model is only applied to the smallness term; which is redundant for the tutorial example since we have set the reference model to an array of zeros. Here, we apply a 0-norm to the smallness term and a 1-norm to first-order smoothness along the x, y and z directions."
   ]
  },
  {
   "cell_type": "code",
   "execution_count": null,
   "metadata": {},
   "outputs": [],
   "source": [
    "reg_irls = regularization.Sparse(\n",
    "    tree_mesh,\n",
    "    active_cells=ind_tree_active,\n",
    "    alpha_s=dh**-2,\n",
    "    alpha_x=1,\n",
    "    alpha_y=1,\n",
    "    alpha_z=1,\n",
    "    reference_model=reference_tree_model,\n",
    "    reference_model_in_smooth=False,\n",
    "    norms=[0, 1, 1, 1]\n",
    ")"
   ]
  },
  {
   "cell_type": "markdown",
   "metadata": {},
   "source": [
    "### Optimization\n",
    "\n",
    "Here, we use the [ProjectedGNCG](myst:SimPEG#SimPEG.optimization.ProjectedGNCG) class to solve the optimization problem using projected Gauss-Newton conjugate gradient. This opimization class allows the user to set upper and lower bounds for the recovered model using the `upper` and `lower` properties."
   ]
  },
  {
   "cell_type": "code",
   "execution_count": null,
   "metadata": {},
   "outputs": [],
   "source": [
    "opt_irls = optimization.ProjectedGNCG(\n",
    "    maxIter=100,\n",
    "    lower=-1.0,\n",
    "    upper=1.0,\n",
    "    maxIterLS=20,\n",
    "    maxIterCG=10,\n",
    "    tolCG=1e-2\n",
    ")"
   ]
  },
  {
   "cell_type": "markdown",
   "metadata": {},
   "source": [
    "### Inverse Problem"
   ]
  },
  {
   "cell_type": "code",
   "execution_count": null,
   "metadata": {},
   "outputs": [],
   "source": [
    "inv_prob_irls = inverse_problem.BaseInvProblem(dmis_irls, reg_irls, opt_irls)"
   ]
  },
  {
   "cell_type": "markdown",
   "metadata": {},
   "source": [
    "### Inversion Directives\n",
    "\n",
    "Here, we create common directives for IRLS inversion of gravity data and describe their roles. In additon to the [UpdateSensitivityWeights](myst:SimPEG#SimPEG.directives.UpdateSensitivityWeights), [UpdatePreconditioner](myst:SimPEG#SimPEG.directives.UpdatePreconditioner) and [BetaEstimate_ByEig](myst:SimPEG#SimPEG.directives.BetaEstimate_ByEig)  (described before), inversion with sparse-norms requires the [Update_IRLS](myst:SimPEG#SimPEG.directives.Update_IRLS) directive.\n",
    "\n",
    "You will notice that we don't use the [BetaSchedule](myst:SimPEG#SimPEG.directives.BetaSchedule) and [TargetMisfit](myst:SimPEG#SimPEG.directives.TargetMisfit) directives. Here, the beta cooling schedule is set in the [Update_IRLS](myst:SimPEG#SimPEG.directives.Update_IRLS) directive using the `coolingFactor` and `coolingRate` properties. The target misfit for the L2 portion of the IRLS approach is set with the `chifact_start` property. "
   ]
  },
  {
   "cell_type": "code",
   "execution_count": null,
   "metadata": {},
   "outputs": [],
   "source": [
    "sensitivity_weights_irls = directives.UpdateSensitivityWeights(every_iteration=False)\n",
    "starting_beta_irls = directives.BetaEstimate_ByEig(beta0_ratio=10)\n",
    "update_jacobi_irls = directives.UpdatePreconditioner(update_every_iteration=True)\n",
    "update_irls = directives.Update_IRLS(\n",
    "    coolingFactor=2,\n",
    "    coolingRate=1,\n",
    "    chifact_start=1.0,\n",
    "    f_min_change=1e-4,\n",
    "    max_irls_iterations=25,\n",
    ")\n",
    "\n",
    "directives_list_irls = [\n",
    "    update_irls,\n",
    "    sensitivity_weights_irls,\n",
    "    starting_beta_irls,\n",
    "    update_jacobi_irls\n",
    "]"
   ]
  },
  {
   "cell_type": "markdown",
   "metadata": {},
   "source": [
    "### Define and Run the Inversion"
   ]
  },
  {
   "cell_type": "code",
   "execution_count": null,
   "metadata": {},
   "outputs": [],
   "source": [
    "inv_irls = inversion.BaseInversion(inv_prob_irls, directives_list_irls)\n",
    "recovered_tree_model = inv_irls.run(starting_tree_model)"
   ]
  },
  {
   "cell_type": "markdown",
   "metadata": {},
   "source": [
    "## Comparing L2 and IRLS Models\n",
    "\n",
    "Here, we compare the models recovered from weighted least-squares and iteratively re-weighted least-squares inversion to the true model."
   ]
  },
  {
   "cell_type": "markdown",
   "metadata": {},
   "source": [
    "### Recreate True Model on a Tensor Mesh"
   ]
  },
  {
   "cell_type": "code",
   "execution_count": null,
   "metadata": {},
   "outputs": [],
   "source": [
    "background_density = 0.0\n",
    "block_density = -0.2\n",
    "sphere_density = 0.2\n",
    "\n",
    "true_model = background_density * np.ones(nP_tensor)\n",
    "\n",
    "ind_block = model_builder.get_indices_block(\n",
    "    [-50, -15, -50], [-20, 15, -30], tensor_mesh.cell_centers[ind_tensor_active]\n",
    ")\n",
    "true_model[ind_block] = block_density\n",
    "\n",
    "ind_sphere = model_builder.get_indices_sphere(\n",
    "    np.r_[35.0, 0.0, -40.0], 15.0, tensor_mesh.cell_centers[ind_tensor_active]\n",
    ")\n",
    "true_model[ind_sphere] = sphere_density"
   ]
  },
  {
   "cell_type": "markdown",
   "metadata": {},
   "source": [
    "## Plotting True Model and Recovered Model\n",
    "\n",
    "\n"
   ]
  },
  {
   "cell_type": "code",
   "execution_count": null,
   "metadata": {},
   "outputs": [],
   "source": [
    "mesh_list = [tensor_mesh, tensor_mesh, tree_mesh]\n",
    "ind_list = [ind_tensor_active, ind_tensor_active, ind_tree_active]\n",
    "model_list = [true_model, recovered_tensor_model, recovered_tree_model]\n",
    "title_list = ['True Model', 'L2 Tensor Model', 'IRLS Tree Model']\n",
    "cplot = 3 * [None]\n",
    "cbar = 3 * [None]\n",
    "norm = 3 * [None]\n",
    "\n",
    "fig = plt.figure(figsize=(7, 8))\n",
    "ax1 = [fig.add_axes([0.1, 0.7-0.3*ii, 0.75, 0.23]) for ii in range(0, 3)]\n",
    "ax2 = [fig.add_axes([0.88, 0.7-0.3*ii, 0.025, 0.23]) for ii in range(0, 3)]\n",
    "\n",
    "for ii, mesh in enumerate(mesh_list):\n",
    "    \n",
    "    plotting_map = maps.InjectActiveCells(mesh, ind_list[ii], np.nan)\n",
    "    max_abs = np.max(np.abs(model_list[ii]))\n",
    "    norm[ii] = mpl.colors.Normalize(vmin=-max_abs, vmax=max_abs)\n",
    "    \n",
    "    cplot[ii] = mesh.plot_slice(\n",
    "        plotting_map * model_list[ii],\n",
    "        normal=\"Y\",\n",
    "        ax=ax1[ii],\n",
    "        ind=int(mesh.shape_cells[1] / 2),\n",
    "        grid=False,\n",
    "        pcolor_opts={\"cmap\": mpl.cm.RdYlBu_r, \"norm\": norm[ii]},\n",
    "    )\n",
    "    ax1[ii].set_xlim([-150, 150])\n",
    "    ax1[ii].set_ylim([-100, 0])\n",
    "    if ii < 2:\n",
    "        ax1[ii].set_xlabel(\"\")\n",
    "        ax1[ii].set_xticks([])\n",
    "    ax1[ii].set_title(title_list[ii])\n",
    "    \n",
    "    cbar[ii] = mpl.colorbar.ColorbarBase(\n",
    "        ax2[ii], norm=norm[ii], orientation=\"vertical\", cmap=mpl.cm.RdYlBu_r\n",
    "    )\n",
    "    cbar[ii].set_label(\"$g/cm^3$\", labelpad=0)"
   ]
  }
 ],
 "metadata": {
  "kernelspec": {
   "display_name": "Python 3 (ipykernel)",
   "language": "python",
   "name": "python3"
  },
  "language_info": {
   "codemirror_mode": {
    "name": "ipython",
    "version": 3
   },
   "file_extension": ".py",
   "mimetype": "text/x-python",
   "name": "python",
   "nbconvert_exporter": "python",
   "pygments_lexer": "ipython3",
   "version": "3.10.9"
  }
 },
 "nbformat": 4,
 "nbformat_minor": 1
}
