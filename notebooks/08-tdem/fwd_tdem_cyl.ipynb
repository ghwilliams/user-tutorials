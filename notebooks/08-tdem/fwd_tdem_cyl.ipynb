{
 "cells": [
  {
   "cell_type": "markdown",
   "metadata": {},
   "source": [
    "```{admonition} Intermediate notebook\n",
    ":class: caution\n",
    "This tutorial focusses on intermediate level functionality within SimPEG. Basic functionality within SimPEG is not discussed in detail, as we assume the user is already familiar. \n",
    "```"
   ]
  },
  {
   "cell_type": "markdown",
   "metadata": {},
   "source": [
    "```{admonition} Medium-weight notebook\n",
    ":class: caution\n",
    "Requires moderate computational resources. Run-times may exceed several minutes and require up to 8 GB of available RAM.\n",
    "```"
   ]
  },
  {
   "cell_type": "markdown",
   "metadata": {},
   "source": [
    "\n",
    "# 3D Forward Simulation for Transient Response on a Cylindrical Mesh\n",
    "\n",
    "Here we use the module *SimPEG.electromagnetics.time_domain* to simulate the\n",
    "transient response for borehole survey using a cylindrical mesh and a \n",
    "radially symmetric conductivity. For this tutorial, we focus on the following:\n",
    "\n",
    "    - How to define the transmitters and receivers\n",
    "    - How to define the transmitter waveform for a step-off\n",
    "    - How to define the time-stepping\n",
    "    - How to define the survey\n",
    "    - How to solve TDEM problems on a cylindrical mesh\n",
    "    - The units of the conductivity/resistivity model and resulting data\n",
    "\n",
    "\n",
    "Please note that we have used a coarse mesh larger time-stepping to shorten the\n",
    "time of the simulation. Proper discretization in space and time is required to\n",
    "simulate the fields at each time channel with sufficient accuracy.\n"
   ]
  },
  {
   "cell_type": "markdown",
   "metadata": {},
   "source": [
    "## Import Modules\n",
    "\n",
    "\n"
   ]
  },
  {
   "cell_type": "code",
   "execution_count": null,
   "metadata": {},
   "outputs": [],
   "source": [
    "from discretize import CylindricalMesh\n",
    "from discretize.utils import mkvc\n",
    "\n",
    "from SimPEG import maps\n",
    "import SimPEG.electromagnetics.time_domain as tdem\n",
    "\n",
    "import numpy as np\n",
    "import matplotlib as mpl\n",
    "import matplotlib.pyplot as plt\n",
    "\n",
    "try:\n",
    "    from pymatsolver import Pardiso as Solver\n",
    "except ImportError:\n",
    "    from SimPEG import SolverLU as Solver\n",
    "\n",
    "write_file = False\n",
    "\n",
    "# sphinx_gallery_thumbnail_number = 2"
   ]
  },
  {
   "cell_type": "markdown",
   "metadata": {},
   "source": [
    "## Defining the Waveform\n",
    "\n",
    "Under *SimPEG.electromagnetic.time_domain.sources*\n",
    "there are a multitude of waveforms that can be defined (VTEM, Ramp-off etc...).\n",
    "Here we simulate the response due to a step off waveform where the off-time\n",
    "begins at t=0. Other waveforms are discuss in the OcTree simulation example.\n",
    "\n",
    "\n"
   ]
  },
  {
   "cell_type": "code",
   "execution_count": null,
   "metadata": {},
   "outputs": [],
   "source": [
    "waveform = tdem.sources.StepOffWaveform(off_time=0.0)"
   ]
  },
  {
   "cell_type": "markdown",
   "metadata": {},
   "source": [
    "## Create Airborne Survey\n",
    "\n",
    "Here we define the survey used in our simulation. For time domain\n",
    "simulations, we must define the geometry of the source and its waveform. For\n",
    "the receivers, we define their geometry, the type of field they measure and the time\n",
    "channels at which they measure the field. For this example,\n",
    "the survey consists of a borehold survey with a coincident loop geometry.\n",
    "\n",
    "\n"
   ]
  },
  {
   "cell_type": "code",
   "execution_count": null,
   "metadata": {},
   "outputs": [],
   "source": [
    "# Observation times for response (time channels)\n",
    "time_channels = np.logspace(-4, -2, 11)\n",
    "\n",
    "# Defining transmitter locations\n",
    "xtx, ytx, ztx = np.meshgrid([0], [0], np.linspace(0, -500, 26) - 2.5)\n",
    "source_locations = np.c_[mkvc(xtx), mkvc(ytx), mkvc(ztx)]\n",
    "ntx = np.size(xtx)\n",
    "\n",
    "# Define receiver locations\n",
    "xrx, yrx, zrx = np.meshgrid([0], [0], np.linspace(0, -500, 26) - 2.5)\n",
    "receiver_locations = np.c_[mkvc(xrx), mkvc(yrx), mkvc(zrx)]\n",
    "\n",
    "source_list = []  # Create empty list to store sources\n",
    "\n",
    "# Each unique location defines a new transmitter\n",
    "for ii in range(ntx):\n",
    "    # Define receivers at each location.\n",
    "    dbzdt_receiver = tdem.receivers.PointMagneticFluxTimeDerivative(\n",
    "        receiver_locations[ii, :], time_channels, \"z\"\n",
    "    )\n",
    "    receivers_list = [\n",
    "        dbzdt_receiver\n",
    "    ]  # Make a list containing all receivers even if just one\n",
    "\n",
    "    # Must define the transmitter properties and associated receivers\n",
    "    source_list.append(\n",
    "        tdem.sources.CircularLoop(\n",
    "            receivers_list,\n",
    "            location=source_locations[ii],\n",
    "            waveform=waveform,\n",
    "            radius=10.0,\n",
    "        )\n",
    "    )\n",
    "\n",
    "survey = tdem.Survey(source_list)"
   ]
  },
  {
   "cell_type": "markdown",
   "metadata": {},
   "source": [
    "## Create Cylindrical Mesh\n",
    "\n",
    "Here we create the cylindrical mesh that will be used for this tutorial\n",
    "example. We chose to design a coarser mesh to decrease the run time.\n",
    "When designing a mesh to solve practical time domain problems:\n",
    "\n",
    "    - Your smallest cell size should be 10%-20% the size of your smallest diffusion distance\n",
    "    - The thickness of your padding needs to be 2-3 times biggest than your largest diffusion distance\n",
    "    - The diffusion distance is ~1260*np.sqrt(rho*t)\n",
    "\n",
    "\n",
    "\n"
   ]
  },
  {
   "cell_type": "code",
   "execution_count": null,
   "metadata": {},
   "outputs": [],
   "source": [
    "hr = [(5.0, 40), (5.0, 15, 1.5)]\n",
    "hz = [(5.0, 15, -1.5), (5.0, 300), (5.0, 15, 1.5)]\n",
    "\n",
    "mesh = CylindricalMesh([hr, 1, hz], x0=\"00C\")"
   ]
  },
  {
   "cell_type": "markdown",
   "metadata": {},
   "source": [
    "## Create Conductivity/Resistivity Model and Mapping\n",
    "\n",
    "Here, we create the model that will be used to predict frequency domain\n",
    "data and the mapping from the model to the mesh. The model\n",
    "consists of several layers. For this example, we will have only flat topography.\n",
    "\n",
    "\n"
   ]
  },
  {
   "cell_type": "code",
   "execution_count": null,
   "metadata": {},
   "outputs": [],
   "source": [
    "# Conductivity in S/m (or resistivity in Ohm m)\n",
    "air_conductivity = 1e-8\n",
    "background_conductivity = 1e-1\n",
    "layer_conductivity_1 = 1e0\n",
    "layer_conductivity_2 = 1e-2\n",
    "\n",
    "# Find cells that are active in the forward modeling (cells below surface)\n",
    "ind_active = mesh.cell_centers[:, 2] < 0\n",
    "\n",
    "# Define mapping from model to active cells\n",
    "model_map = maps.InjectActiveCells(mesh, ind_active, air_conductivity)\n",
    "\n",
    "# Define the model\n",
    "model = background_conductivity * np.ones(ind_active.sum())\n",
    "ind = (mesh.cell_centers[ind_active, 2] > -200.0) & (\n",
    "    mesh.cell_centers[ind_active, 2] < -0\n",
    ")\n",
    "model[ind] = layer_conductivity_1\n",
    "ind = (mesh.cell_centers[ind_active, 2] > -400.0) & (\n",
    "    mesh.cell_centers[ind_active, 2] < -200\n",
    ")\n",
    "model[ind] = layer_conductivity_2\n",
    "\n",
    "# Plot Conductivity Model\n",
    "mpl.rcParams.update({\"font.size\": 14})\n",
    "fig = plt.figure(figsize=(5, 6))\n",
    "\n",
    "plotting_map = maps.InjectActiveCells(mesh, ind_active, np.nan)\n",
    "log_model = np.log10(model)\n",
    "\n",
    "ax1 = fig.add_axes([0.20, 0.1, 0.54, 0.85])\n",
    "mesh.plot_image(\n",
    "    plotting_map * log_model,\n",
    "    ax=ax1,\n",
    "    grid=False,\n",
    "    clim=(np.log10(layer_conductivity_2), np.log10(layer_conductivity_1)),\n",
    ")\n",
    "ax1.set_title(\"Conductivity Model\")\n",
    "\n",
    "ax2 = fig.add_axes([0.76, 0.1, 0.05, 0.85])\n",
    "norm = mpl.colors.Normalize(\n",
    "    vmin=np.log10(layer_conductivity_2), vmax=np.log10(layer_conductivity_1)\n",
    ")\n",
    "cbar = mpl.colorbar.ColorbarBase(\n",
    "    ax2, norm=norm, orientation=\"vertical\", format=\"$10^{%.1f}$\"\n",
    ")\n",
    "cbar.set_label(\"Conductivity [S/m]\", rotation=270, labelpad=15, size=12)"
   ]
  },
  {
   "cell_type": "markdown",
   "metadata": {},
   "source": [
    "## Define the Time-Stepping\n",
    "\n",
    "Stuff about time-stepping and some rule of thumb for step-off waveform\n",
    "\n",
    "\n"
   ]
  },
  {
   "cell_type": "code",
   "execution_count": null,
   "metadata": {},
   "outputs": [],
   "source": [
    "time_steps = [(5e-06, 20), (0.0001, 20), (0.001, 21)]"
   ]
  },
  {
   "cell_type": "markdown",
   "metadata": {},
   "source": [
    "## Define the Simulation\n",
    "\n",
    "Here we define the formulation for solving Maxwell's equations. Since we are\n",
    "measuring the time-derivative of the magnetic flux density and working with\n",
    "a conductivity model, the EB formulation is the most natural. We must also\n",
    "remember to define the mapping for the conductivity model. Use *rhoMap* instead\n",
    "of *sigmaMap* if you defined a resistivity model.\n",
    "\n",
    "\n"
   ]
  },
  {
   "cell_type": "code",
   "execution_count": null,
   "metadata": {},
   "outputs": [],
   "source": [
    "simulation = tdem.simulation.Simulation3DMagneticFluxDensity(\n",
    "    mesh, survey=survey, sigmaMap=model_map, solver=Solver\n",
    ")\n",
    "\n",
    "# Set the time-stepping for the simulation\n",
    "simulation.time_steps = time_steps"
   ]
  },
  {
   "cell_type": "markdown",
   "metadata": {},
   "source": [
    "## Predict Data and Plot\n",
    "\n",
    "\n",
    "\n"
   ]
  },
  {
   "cell_type": "code",
   "execution_count": null,
   "metadata": {},
   "outputs": [],
   "source": [
    "# Data are organized by transmitter, then by\n",
    "# receiver then by observation time. dBdt data are in T/s.\n",
    "dpred = simulation.dpred(model)\n",
    "\n",
    "# Plot the response\n",
    "dpred = np.reshape(dpred, (ntx, len(time_channels)))\n",
    "\n",
    "# TDEM Profile\n",
    "fig = plt.figure(figsize=(5, 5))\n",
    "ax1 = fig.add_axes([0.15, 0.15, 0.8, 0.75])\n",
    "for ii in range(0, len(time_channels)):\n",
    "    ax1.semilogx(\n",
    "        -dpred[:, ii], receiver_locations[:, -1], \"k\", lw=2\n",
    "    )  # -ve sign to plot -dBz/dt\n",
    "ax1.set_xlabel(\"-dBz/dt [T/s]\")\n",
    "ax1.set_ylabel(\"Elevation [m]\")\n",
    "ax1.set_title(\"Airborne TDEM Profile\")\n",
    "\n",
    "# Response for all time channels\n",
    "fig = plt.figure(figsize=(5, 5))\n",
    "ax1 = fig.add_axes([0.15, 0.15, 0.8, 0.75])\n",
    "ax1.loglog(time_channels, -dpred[0, :], \"b\", lw=2)\n",
    "ax1.loglog(time_channels, -dpred[-1, :], \"r\", lw=2)\n",
    "ax1.set_xlim((np.min(time_channels), np.max(time_channels)))\n",
    "ax1.set_xlabel(\"time [s]\")\n",
    "ax1.set_ylabel(\"-dBz/dt [T/s]\")\n",
    "ax1.set_title(\"Decay Curve\")\n",
    "ax1.legend([\"First Sounding\", \"Last Sounding\"], loc=\"upper right\")"
   ]
  }
 ],
 "metadata": {
  "kernelspec": {
   "display_name": "Python 3 (ipykernel)",
   "language": "python",
   "name": "python3"
  },
  "language_info": {
   "codemirror_mode": {
    "name": "ipython",
    "version": 3
   },
   "file_extension": ".py",
   "mimetype": "text/x-python",
   "name": "python",
   "nbconvert_exporter": "python",
   "pygments_lexer": "ipython3",
   "version": "3.10.9"
  }
 },
 "nbformat": 4,
 "nbformat_minor": 1
}
