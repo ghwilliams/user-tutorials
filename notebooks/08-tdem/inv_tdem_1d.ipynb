{
 "cells": [
  {
   "cell_type": "markdown",
   "metadata": {},
   "source": [
    "# 1D Inversion of Time-Domain EM Data for a Single Sounding"
   ]
  },
  {
   "cell_type": "markdown",
   "metadata": {},
   "source": [
    "```{admonition} Intermediate notebook\n",
    ":class: caution\n",
    "This tutorial focusses on intermediate level functionality within SimPEG. Basic functionality within SimPEG is not discussed in detail, as we assume the user is already familiar. \n",
    "```"
   ]
  },
  {
   "cell_type": "markdown",
   "metadata": {},
   "source": [
    "```{admonition} Light-weight notebook\n",
    ":class: hint\n",
    "This tutorial requires minimal computational resources and can be executed quickly in the background while other computer processes are running.\n",
    "```"
   ]
  },
  {
   "cell_type": "markdown",
   "metadata": {},
   "source": [
    "**Author:** Devin C. Cowan\n",
    "\n",
    "</br>\n",
    "\n",
    "**Keywords:** total magnetic intensity, integral formulation, inversion, sparse norm, tensor mesh, tree mesh.\n",
    "\n",
    "</br>\n",
    "\n",
    "**Summary:** Here we invert total magnetic intensity data to recover a susceptibility model. We demonstrate two approaches for recovering a susceptibility model:\n",
    "\n",
    "1. Weighted least-squares inversion for a tensor mesh\n",
    "2. Iteratively re-weighted least-squares (IRLS) inversion for a tree mesh\n",
    "\n",
    "The *weighted least-squares* approach is a great introduction to geophysical inversion with SimPEG. One drawback however, is that it recovers smooth structures which may not be representative of the true model. To recover sparse and/or blocky structures, we demonstrate the *iteratively re-weighted least-squares* approach.\n",
    "\n",
    "**Learning Objectives:** Because this tutorial focusses primarily on inversion-related functionality, we urge the reader to become familiar with functionality explained in the [1D Forward Simulation of Time-Domain EM Data for a Single Sounding](fwd_tdem_1d.ipynb) tutorial before working through this one. For this tutorial, we focus on:\n",
    "\n",
    "- How to carry out 1D geophysical inversion with SimPEG.\n",
    "- How to assign appropriate uncertainties to TDEM data.\n",
    "- Choosing suitable parameters for the inversion.\n",
    "- Specifying directives that are applied throughout the inversion.\n",
    "- Weighted least-squares, sparse-norm and parametric inversion.\n",
    "- Analyzing inversion outputs."
   ]
  },
  {
   "cell_type": "markdown",
   "metadata": {},
   "source": [
    "## Importing Modules\n",
    "\n",
    "Here, we import all of the functionality required to run the notebook for the tutorial exercise.\n",
    "All of the functionality specific to the forward simulation of 1D time domain EM data are imported from the [SimPEG.electromagnetics.time_domain](myst:SimPEG#SimPEG.electromagnetics.time_domain) module. Classes required to define the data misfit, regularization, optimization, etc... are imported from elsewhere within SimPEG. We also import some useful utility functions from [SimPEG.utils](myst:SimPEG#SimPEG.utils). To generate the mesh used for the inversion, we use the [discretize](https://discretize.simpeg.xyz/en/main) package."
   ]
  },
  {
   "cell_type": "code",
   "execution_count": null,
   "metadata": {},
   "outputs": [],
   "source": [
    "# SimPEG functionality\n",
    "import SimPEG.electromagnetics.time_domain as tdem\n",
    "from SimPEG.utils import plot_1d_layer_model, download, mkvc\n",
    "from SimPEG import (\n",
    "    maps,\n",
    "    data,\n",
    "    data_misfit,\n",
    "    regularization,\n",
    "    optimization,\n",
    "    inverse_problem,\n",
    "    inversion,\n",
    "    directives,\n",
    ")\n",
    "\n",
    "# discretize functionality\n",
    "from discretize import TensorMesh\n",
    "\n",
    "# Basic Python functionality\n",
    "import os\n",
    "import numpy as np\n",
    "import matplotlib as mpl\n",
    "import matplotlib.pyplot as plt\n",
    "import tarfile\n",
    "\n",
    "mpl.rcParams.update({\"font.size\": 14})"
   ]
  },
  {
   "cell_type": "markdown",
   "metadata": {},
   "source": [
    "## Download and Extract the Tutorial Data\n",
    "\n",
    "For this tutorial, the frequencies and observed data for 1D sounding are stored within a tar-file. Here, we download and extract the data file."
   ]
  },
  {
   "cell_type": "code",
   "execution_count": null,
   "metadata": {},
   "outputs": [],
   "source": [
    "# storage bucket where we have the data\n",
    "data_source = \"https://github.com/simpeg/user-tutorials/raw/main/assets/08-tdem/inv_tdem_1d_files.tar.gz\"\n",
    "\n",
    "# download the data\n",
    "downloaded_data = download(data_source, overwrite=True)\n",
    "\n",
    "# unzip the tarfile\n",
    "tar = tarfile.open(downloaded_data, \"r\")\n",
    "tar.extractall()\n",
    "tar.close()\n",
    "\n",
    "# path to the directory containing our data\n",
    "dir_path = downloaded_data.split(\".\")[0] + os.path.sep\n",
    "\n",
    "# files to work with\n",
    "data_filename = dir_path + \"em1dtm_data.txt\""
   ]
  },
  {
   "cell_type": "markdown",
   "metadata": {},
   "source": [
    "## Load and Plot the Data\n",
    "\n",
    "Here we load and plot the 1D sounding data. In this case, we have B-field data for a step-off excitation. The columns of the data file are: times (s) and Bz (T)."
   ]
  },
  {
   "cell_type": "code",
   "execution_count": null,
   "metadata": {},
   "outputs": [],
   "source": [
    "# Load data\n",
    "dobs = np.loadtxt(str(data_filename), skiprows=1)"
   ]
  },
  {
   "cell_type": "code",
   "execution_count": null,
   "metadata": {},
   "outputs": [],
   "source": [
    "times = dobs[:, 0]\n",
    "dobs = mkvc(dobs[:, -1])"
   ]
  },
  {
   "cell_type": "code",
   "execution_count": null,
   "metadata": {},
   "outputs": [],
   "source": [
    "fig = plt.figure(figsize=(5, 5))\n",
    "ax = fig.add_axes([0.15, 0.15, 0.8, 0.75])\n",
    "ax.loglog(times, np.abs(dobs), \"k-o\", lw=3)\n",
    "ax.grid(which=\"both\")\n",
    "ax.set_xlabel(\"Times (s)\")\n",
    "ax.set_ylabel(\"|B| (T)\")\n",
    "ax.set_title(\"Observed Data\")\n",
    "plt.show()"
   ]
  },
  {
   "cell_type": "markdown",
   "metadata": {},
   "source": [
    "## Defining the Survey\n",
    "\n",
    "Here, we define the survey geometry. For a comprehensive description of constructing TDEM surveys in SimPEG, see the [1D Forward Simulation of Time-Domain EM Data for a Single Sounding](fwd_tdem_1d.ipynb) tutorial.\n",
    "\n",
    "Here, the survey consisted of a circular transmitter loop with a radius of 6 m located 20 m above the Earth's surface. The receiver measured the vertical component of the secondary magnetic field at a the loop's centre."
   ]
  },
  {
   "cell_type": "code",
   "execution_count": null,
   "metadata": {},
   "outputs": [],
   "source": [
    "# Source loop geometry\n",
    "source_location = np.array([0.0, 0.0, 20.0])\n",
    "source_orientation = \"z\"  # \"x\", \"y\" or \"z\"\n",
    "source_current = 1.0  # peak current amplitude\n",
    "source_radius = 6.0  # loop radius\n",
    "\n",
    "# Receiver geometry\n",
    "receiver_location = np.array([0.0, 0.0, 20.0])\n",
    "receiver_orientation = \"z\"  # \"x\", \"y\" or \"z\"\n",
    "\n",
    "# Receiver list\n",
    "receiver_list = []\n",
    "receiver_list.append(\n",
    "    tdem.receivers.PointMagneticFluxDensity(\n",
    "        receiver_location, times, orientation=receiver_orientation\n",
    "    )\n",
    ")\n",
    "\n",
    "# Define the source waveform.\n",
    "waveform = tdem.sources.StepOffWaveform()\n",
    "\n",
    "# Sources\n",
    "source_list = [\n",
    "    tdem.sources.CircularLoop(\n",
    "        receiver_list=receiver_list,\n",
    "        location=source_location,\n",
    "        waveform=waveform,\n",
    "        current=source_current,\n",
    "        radius=source_radius,\n",
    "    )\n",
    "]\n",
    "\n",
    "# Survey\n",
    "survey = tdem.Survey(source_list)"
   ]
  },
  {
   "cell_type": "markdown",
   "metadata": {},
   "source": [
    "## Assign Uncertainties\n",
    "\n",
    "Inversion with SimPEG requires that we define the uncertainties on our data; that is, an estimate of the standard deviation of the noise on our data assuming it is uncorrelated Gaussian with zero mean. An online resource explaining uncertainties and their role in the inversion can be found [here](https://giftoolscookbook.readthedocs.io/en/latest/content/fundamentals/Uncertainties.html).\n",
    "\n",
    "**For secondary field data:** For secondary field loop-loop FDEM data, \n",
    "\n",
    "**For total field data:** \n",
    "\n",
    "*NOTE: if the data contain very small values that you feel could be erroneous, a small floor value can be added to ensure stability of the inversion.*"
   ]
  },
  {
   "cell_type": "code",
   "execution_count": null,
   "metadata": {},
   "outputs": [],
   "source": [
    "# 5% of the absolute value\n",
    "uncertainties = 0.05 * np.abs(dobs) * np.ones(np.shape(dobs))"
   ]
  },
  {
   "cell_type": "markdown",
   "metadata": {},
   "source": [
    "## Defining the Data\n",
    "\n",
    "The SimPEG [Data](myst:SimPEG#SimPEG.data.Data) class is required for inversion and connects the observed data, uncertainties and survey geometry."
   ]
  },
  {
   "cell_type": "code",
   "execution_count": null,
   "metadata": {},
   "outputs": [],
   "source": [
    "data_object = data.Data(survey, dobs=dobs, standard_deviation=uncertainties)"
   ]
  },
  {
   "cell_type": "markdown",
   "metadata": {},
   "source": [
    "## Weighted Least-Squares Inversion\n",
    "\n",
    "Here, we use the weighted least-squares inversion approach to recover the log-conductivities on a 1D layered Earth. We impose no a-priori information about the number of layers (geological units) or their thicknesses. Instead, we define a large number of layers with exponentially increasing thicknesses. And the depth, thickness and electrical properties of the Earth are inferred from the recovered model."
   ]
  },
  {
   "cell_type": "code",
   "execution_count": null,
   "metadata": {},
   "outputs": [],
   "source": [
    "# estimated host conductivity (S/m)\n",
    "estimated_conductivity = 0.1\n",
    "\n",
    "# minimum skin depth\n",
    "d_min = 1250 * np.sqrt(times.min() / estimated_conductivity)\n",
    "print('MINIMUM DIFFUSION DISTANCE: {} m'.format(d_min))\n",
    "\n",
    "# maximum skin depth\n",
    "d_max = 1250 * np.sqrt(times.max() / estimated_conductivity)\n",
    "print('MAXIMUM DIFFUSION DISTANCE: {} m'.format(d_max))"
   ]
  },
  {
   "cell_type": "code",
   "execution_count": null,
   "metadata": {},
   "outputs": [],
   "source": [
    "depth_min = 1                         # top layer thickness\n",
    "depth_max = 800.                      # depth to lowest layer\n",
    "geometric_factor = 1.15               # rate of thickness increase"
   ]
  },
  {
   "cell_type": "code",
   "execution_count": null,
   "metadata": {},
   "outputs": [],
   "source": [
    "# Increase subsequent layer thicknesses by the geometric factors until\n",
    "# it reaches the maximum layer depth.\n",
    "layer_thicknesses = [depth_min]\n",
    "while np.sum(layer_thicknesses) < depth_max:\n",
    "    layer_thicknesses.append(geometric_factor*layer_thicknesses[-1])\n",
    "\n",
    "n_layers = len(layer_thicknesses) + 1  # Number of layers"
   ]
  },
  {
   "cell_type": "markdown",
   "metadata": {},
   "source": [
    "### Model and Mapping to Layer Conductivities\n",
    "\n",
    "Recall from the [1D Forward Simulation of Time-Domain EM Data for a Single Sounding](fwd_tdem_1d.ipynb) tutorial that the 'model' is not necessarily synonymous with physical property values. And that we need to define a mapping from the model to the set of input parameters required by the forward simulation. When inverting to recover electrical conductivities (or resistivities), it is best to use the log-value, as electrical conductivities of rocks span many order of magnitude.\n",
    "\n",
    "Here, the model defines the log-conductivity values for a defined set of subsurface layers. And we use the [SimPEG.maps.ExpMap](myst:SimPEG#SimPEG.maps.ExpMap) to map from the model parameters to the conductivity values required by the forward simulation."
   ]
  },
  {
   "cell_type": "code",
   "execution_count": null,
   "metadata": {},
   "outputs": [],
   "source": [
    "log_conductivity_map = maps.ExpMap(nP=n_layers)"
   ]
  },
  {
   "cell_type": "markdown",
   "metadata": {},
   "source": [
    "### Starting/Reference Models\n",
    "\n",
    "The **starting model** defines a reasonable starting point for the inversion. Because electromagnetic problems are non-linear, your choice in starting model does have an impact on the recovered model. For DC resistivity inversion, we generally choose our starting model based on apparent resistivities. For the tutorial example, the apparent resistivities were near 1000 $\\Omega m$. It should be noted that the staring model **cannot be vector of zeros,** otherwise the inversion will be unable to compute a gradient direction at the first iteration.\n",
    "\n",
    "The **reference model** is used to include a-priori information. The impact of the reference model on the inversion will be discussed in another tutorial. The reference model for basic inversion approaches is either zero or equal to the starting model.\n",
    "\n",
    "Notice that the length of the starting and reference models is equal to the number of model parameters!!!"
   ]
  },
  {
   "cell_type": "code",
   "execution_count": null,
   "metadata": {},
   "outputs": [],
   "source": [
    "# Starting model is log-conductivity values (S/m)\n",
    "starting_conductivity_model = np.log(1e-1 * np.ones(n_layers))\n",
    "\n",
    "# Reference model is also log-resistivity values (S/m)\n",
    "reference_conductivity_model = starting_conductivity_model.copy()"
   ]
  },
  {
   "cell_type": "markdown",
   "metadata": {},
   "source": [
    "### Define the Forward Simulation\n",
    "\n",
    "A simulation object defining the forward problem is required in order to predict data and calculate misfits for recovered models. A comprehensive description of the simulation object for 1D DC resistivity was discussed in the [1D Forward Simulation of Time-Domain EM Data for a Single Sounding](fwd_tdem_1d.ipynb) tutorial. Here, we use the [Simulation1DLayers](myst:SimPEG#SimPEG.electromagnetics.time_domain.Simulation1DLayers) which simulates the data according to a 1D Hankel transform solution.\n",
    "\n",
    "The layer thicknesses are a static property of the simulation, and we set them using the ``thicknessess`` keyword argument. Since our model consists of log-conductivities, we use ``sigmaMap`` to set the mapping from the model to the layer conductivities."
   ]
  },
  {
   "cell_type": "code",
   "execution_count": null,
   "metadata": {},
   "outputs": [],
   "source": [
    "simulation_L2 = tdem.Simulation1DLayered(\n",
    "    survey=survey,\n",
    "    thicknesses=layer_thicknesses,\n",
    "    sigmaMap=log_conductivity_map\n",
    ")"
   ]
  },
  {
   "cell_type": "markdown",
   "metadata": {},
   "source": [
    "### Data Misfit\n",
    "\n",
    "To understand the role of the data misfit in the inversion, please visit [this online resource](https://giftoolscookbook.readthedocs.io/en/latest/content/fundamentals/Uncertainties.html).\n",
    "Here, we use the [L2DataMisfit](myst:SimPEG#SimPEG.data_misfit.L2DataMisfit) class to define the data misfit. In this case, the data misfit is the L2 norm of the weighted residual between the observed data and the data predicted for a given model. When instantiating the data misfit object within SimPEG, we must assign an appropriate *data object* and *simulation object* as properties."
   ]
  },
  {
   "cell_type": "code",
   "execution_count": null,
   "metadata": {},
   "outputs": [],
   "source": [
    "dmis_L2 = data_misfit.L2DataMisfit(simulation=simulation_L2, data=data_object)"
   ]
  },
  {
   "cell_type": "markdown",
   "metadata": {},
   "source": [
    "### Regularization\n",
    "\n",
    "To understand the role of the regularization in the inversion, please visit [this online resource](https://giftoolscookbook.readthedocs.io/en/latest/content/fundamentals/ObjectiveFunction.html). \n",
    "\n",
    "To define the regularization within SimPEG, we must define a 1D [tensor mesh](myst:discretize#discretize.TensorMesh). Meshes are designed using the [discretize package](https://discretize.simpeg.xyz). Whereas layer *thicknesses* and our *model* are defined from our top-layer down, tensor meshes are defined from the bottom up. So to define a 1D tensor mesh for the regularization, we:\n",
    "\n",
    "- add an extra layer to the end of our thicknesses so that the number of cells in the 1D mesh equals the number of model parameters\n",
    "- reverse the order so that the model parameters in the regularization match up with the appropriate cell\n",
    "- define the tensor mesh from the cell widths"
   ]
  },
  {
   "cell_type": "code",
   "execution_count": null,
   "metadata": {},
   "outputs": [],
   "source": [
    "# Define 1D cell widths\n",
    "h = np.r_[layer_thicknesses, layer_thicknesses[-1]]\n",
    "h = np.flipud(h)\n",
    "\n",
    "# Create regularization mesh\n",
    "regularization_mesh = TensorMesh([h], \"N\")\n",
    "print(regularization_mesh)"
   ]
  },
  {
   "cell_type": "markdown",
   "metadata": {},
   "source": [
    "By default, the regularization acts on the model parameters. In this case, the model parameters are the log-resistivities, not the electric resistivities!!! Here, we use the [WeightedLeastSquares](myst:SimPEG#SimPEG.regularization.WeightedLeastSquares) regularization class to constrain the inversion result. Here, length scale along x are used to balance the smallness and smoothness terms; yes, x is smoothness along the vertical direction. And the reference model is only applied to the smallness term. If we wanted to apply the regularization to a function of the model parameters, we would need to set an approprate mapping object using the ``mapping`` keyword argument."
   ]
  },
  {
   "cell_type": "code",
   "execution_count": null,
   "metadata": {},
   "outputs": [],
   "source": [
    "reg_L2 = regularization.WeightedLeastSquares(\n",
    "    regularization_mesh,\n",
    "    length_scale_x=10.0,\n",
    "    reference_model=reference_conductivity_model,\n",
    "    reference_model_in_smooth=False\n",
    ")"
   ]
  },
  {
   "cell_type": "markdown",
   "metadata": {},
   "source": [
    "### Optimization\n",
    "\n",
    "To understand the role of the optimization algorithm in the inversion, please visit this online resource. Here, we use the [InexactGaussNewton](myst:SimPEG#SimPEG.optimization.InexactGaussNewton) class to solve the optimization problem using the inexact Gauss Newton with conjugate gradient solver. Reasonable default values have generally been set for the properties of each optimization class. However, the user may choose to set custom values; e.g. the accuracy tolerance for the conjugate gradient solver or the number of line searches."
   ]
  },
  {
   "cell_type": "code",
   "execution_count": null,
   "metadata": {},
   "outputs": [],
   "source": [
    "opt_L2 = optimization.InexactGaussNewton(\n",
    "    maxIter=100, maxIterLS=20, maxIterCG=20, tolCG=1e-3\n",
    ")"
   ]
  },
  {
   "cell_type": "markdown",
   "metadata": {},
   "source": [
    "### Inverse Problem\n",
    "\n",
    "We use the [BaseInvProblem](myst:SimPEG#SimPEG.inverse_problem.BaseInvProblem) class to fully define the inverse problem that is solved at each beta (trade-off parameter) iteration. The inverse problem requires appropriate *data misfit*, *regularization* and *optimization* objects."
   ]
  },
  {
   "cell_type": "code",
   "execution_count": null,
   "metadata": {},
   "outputs": [],
   "source": [
    "inv_prob_L2 = inverse_problem.BaseInvProblem(dmis_L2, reg_L2, opt_L2)"
   ]
  },
  {
   "cell_type": "markdown",
   "metadata": {},
   "source": [
    "### Inversion Directives\n",
    "\n",
    "To understand the role of directives in the inversion, please visit this online resource. Here, we apply common directives for weighted least-squares inversion of gravity data and describe their roles. These are:\n",
    "\n",
    "- [UpdatePreconditioner](myst:SimPEG#SimPEG.directives.UpdatePreconditioner): Apply Jacobi preconditioner when solving optimization problem to reduce the number of conjugate gradient iterations. We set `update_every_iteration=True` because the ideal preconditioner is model-dependent.\n",
    "\n",
    "- [BetaEstimate_ByEig](myst:SimPEG#SimPEG.directives.BetaEstimate_ByEig): Compute and set starting trade-off parameter (beta) based on largest eigenvalues.\n",
    "\n",
    "- [BetaSchedule](myst:SimPEG#SimPEG.directives.BetaSchedule): Size reduction of the trade-off parameter at every beta iteration, and the number of Gauss-Newton iterations for each beta. In general, a `coolingFactor` between 1.5 and 2.5, and `coolingRate` of 3 works well for TDEM inversion. Cooling beta too quickly will result in portions of the model getting trapped in local minima. And we will not be finding the solution that minimizes the optimization problem if the cooling rate is too small.\n",
    "\n",
    "- [TargetMisfit](myst:SimPEG#SimPEG.directives.TargetMisfit): Terminates the inversion when the data misfit equals the target misfit. A `chifact=1` terminates the inversion when the data misfit equals the number of data.\n",
    "\n",
    "\n",
    "The directive objects are organized in a ``list``. Upon starting the inversion or updating the recovered model at each iteration, the inversion will call each directive within the list **in order**. The order of the directives matters, and SimPEG will throw an error if directives are organized into an improper order. Some directives, like the ``BetaEstimate_ByEig`` are only used when starting the inversion. Other directives, like ``UpdatePreconditionner``, are used whenever the model is updated."
   ]
  },
  {
   "cell_type": "code",
   "execution_count": null,
   "metadata": {},
   "outputs": [],
   "source": [
    "update_jacobi = directives.UpdatePreconditioner(update_every_iteration=True)\n",
    "starting_beta = directives.BetaEstimate_ByEig(beta0_ratio=5)\n",
    "beta_schedule = directives.BetaSchedule(coolingFactor=2., coolingRate=3)\n",
    "target_misfit = directives.TargetMisfit(chifact=1.0)\n",
    "\n",
    "directives_list_L2 = [\n",
    "    update_jacobi,\n",
    "    starting_beta,\n",
    "    beta_schedule,\n",
    "    target_misfit\n",
    "]"
   ]
  },
  {
   "cell_type": "markdown",
   "metadata": {},
   "source": [
    "### Define and Run the Inversion\n",
    "\n",
    "We define the inversion using the [BaseInversion](myst:SimPEG#SimPEG.inversion.BaseInversion) class. The inversion class must be instatiated with an appropriate *inverse problem* object and *directives list*. The ``run`` method, along with a starting model, is respondible for running the inversion. The output is a 1D numpy.ndarray containing the recovered model parameters"
   ]
  },
  {
   "cell_type": "code",
   "execution_count": null,
   "metadata": {
    "scrolled": false
   },
   "outputs": [],
   "source": [
    "# Here we combine the inverse problem and the set of directives\n",
    "inv_L2 = inversion.BaseInversion(inv_prob_L2, directives_list_L2)\n",
    "\n",
    "# Run the inversion\n",
    "recovered_model_L2 = inv_L2.run(starting_conductivity_model)"
   ]
  },
  {
   "cell_type": "markdown",
   "metadata": {},
   "source": [
    "## Inversion Outputs"
   ]
  },
  {
   "cell_type": "markdown",
   "metadata": {},
   "source": [
    "### Data Misfit"
   ]
  },
  {
   "cell_type": "code",
   "execution_count": null,
   "metadata": {},
   "outputs": [],
   "source": [
    "dpred_L2 = simulation_L2.dpred(recovered_model_L2)\n",
    "\n",
    "fig = plt.figure(figsize=(5, 5))\n",
    "ax1 = fig.add_axes([0.15, 0.15, 0.8, 0.75])\n",
    "ax1.loglog(times, np.abs(dobs), \"k-o\")\n",
    "ax1.loglog(times, np.abs(dpred_L2), \"b-o\")\n",
    "ax1.grid(which=\"both\")\n",
    "ax1.set_xlabel(\"times (s)\")\n",
    "ax1.set_ylabel(\"Bz (T)\")\n",
    "ax1.set_title(\"Predicted and Observed Data\")\n",
    "ax1.legend([\"Observed\", \"L2 Inversion\"], loc=\"upper right\")\n",
    "plt.show()"
   ]
  },
  {
   "cell_type": "markdown",
   "metadata": {},
   "source": [
    "### Recovered Model"
   ]
  },
  {
   "cell_type": "code",
   "execution_count": null,
   "metadata": {},
   "outputs": [],
   "source": [
    "# Load the true model and layer thicknesses\n",
    "true_conductivities = np.array([0.1, 1.0, 0.1])\n",
    "true_layers = np.r_[40.0, 40.0, 160.0]"
   ]
  },
  {
   "cell_type": "code",
   "execution_count": null,
   "metadata": {},
   "outputs": [],
   "source": [
    "# Plot true model and recovered model\n",
    "fig = plt.figure(figsize=(6, 6))\n",
    "\n",
    "ax1 = fig.add_axes([0.2, 0.15, 0.7, 0.7])\n",
    "plot_1d_layer_model(true_layers, true_conductivities, ax=ax1, color=\"k\")\n",
    "plot_1d_layer_model(\n",
    "    layer_thicknesses, log_conductivity_map * recovered_model_L2, ax=ax1, color=\"b\"\n",
    ")\n",
    "ax1.grid()\n",
    "ax1.set_xlabel(r\"Resistivity ($\\Omega m$)\")\n",
    "x_min, x_max = true_conductivities.min(), true_conductivities.max()\n",
    "ax1.set_xlim(0.8 * x_min, 1.5 * x_max)\n",
    "ax1.set_ylim([np.sum(true_layers), 0])\n",
    "ax1.legend([\"True Model\", \"L2-Model\"])\n",
    "plt.show()"
   ]
  },
  {
   "cell_type": "markdown",
   "metadata": {},
   "source": [
    "## Iteratively Re-weighted Least-Squares Inversion\n",
    "\n",
    "Here, we use the iteratively reweighted least-squares (IRLS) inversion approach to recover sparse and/or blocky models on the set layers."
   ]
  },
  {
   "cell_type": "markdown",
   "metadata": {},
   "source": [
    "### Define the Forward Simulation"
   ]
  },
  {
   "cell_type": "code",
   "execution_count": null,
   "metadata": {},
   "outputs": [],
   "source": [
    "simulation_irls = tdem.simulation_1d.Simulation1DLayered(\n",
    "    survey=survey,\n",
    "    sigmaMap=log_conductivity_map,\n",
    "    thicknesses=layer_thicknesses,\n",
    ")"
   ]
  },
  {
   "cell_type": "markdown",
   "metadata": {},
   "source": [
    "### Define the Data Misfit"
   ]
  },
  {
   "cell_type": "code",
   "execution_count": null,
   "metadata": {},
   "outputs": [],
   "source": [
    "dmis_irls = data_misfit.L2DataMisfit(simulation=simulation_irls, data=data_object)"
   ]
  },
  {
   "cell_type": "markdown",
   "metadata": {},
   "source": [
    "### Regularization\n",
    "\n",
    "Here, we use the [Sparse](myst:SimPEG#SimPEG.regularization.Sparse) regularization class to constrain the inversion result using an IRLS approach. Here, the scaling constants that balance the smallness and smoothness terms are set directly. Equal emphasis on smallness and smoothness is generally applied by using the inverse square of the smallest cell dimension. The reference model is only applied to the smallness term; which is redundant for the tutorial example since we have set the reference model to an array of zeros. Here, we apply a 1-norm to the smallness term and a 1-norm to first-order smoothness along the x (vertical direction)."
   ]
  },
  {
   "cell_type": "code",
   "execution_count": null,
   "metadata": {},
   "outputs": [],
   "source": [
    "reg_irls = regularization.Sparse(\n",
    "    regularization_mesh,\n",
    "    alpha_s=0.01,\n",
    "    alpha_x=1,\n",
    "    reference_model_in_smooth=False,\n",
    "    norms=[1., 1.]\n",
    ")"
   ]
  },
  {
   "cell_type": "markdown",
   "metadata": {},
   "source": [
    "### Optimization"
   ]
  },
  {
   "cell_type": "code",
   "execution_count": null,
   "metadata": {},
   "outputs": [],
   "source": [
    "opt_irls = optimization.InexactGaussNewton(\n",
    "    maxIter=100, maxIterLS=20, maxIterCG=30, tolCG=1e-3\n",
    ")"
   ]
  },
  {
   "cell_type": "markdown",
   "metadata": {},
   "source": [
    "### Inverse Problem"
   ]
  },
  {
   "cell_type": "code",
   "execution_count": null,
   "metadata": {},
   "outputs": [],
   "source": [
    "inv_prob_irls = inverse_problem.BaseInvProblem(\n",
    "    dmis_irls, reg_irls, opt_irls\n",
    ")"
   ]
  },
  {
   "cell_type": "markdown",
   "metadata": {},
   "source": [
    "### Directives\n",
    "\n",
    "Here, we create common directives for IRLS inversion of total magnetic intensity data and describe their roles. In additon to the [UpdateSensitivityWeights](myst:SimPEG#SimPEG.directives.UpdateSensitivityWeights), [UpdatePreconditioner](myst:SimPEG#SimPEG.directives.UpdatePreconditioner) and [BetaEstimate_ByEig](myst:SimPEG#SimPEG.directives.BetaEstimate_ByEig)  (described before), inversion with sparse-norms requires the [Update_IRLS](myst:SimPEG#SimPEG.directives.Update_IRLS) directive.\n",
    "\n",
    "You will notice that we don't use the [BetaSchedule](myst:SimPEG#SimPEG.directives.BetaSchedule) and [TargetMisfit](myst:SimPEG#SimPEG.directives.TargetMisfit) directives. Here, the beta cooling schedule is set in the [Update_IRLS](myst:SimPEG#SimPEG.directives.Update_IRLS) directive using the `coolingFactor` and `coolingRate` properties. The target misfit for the L2 portion of the IRLS approach is set with the `chifact_start` property."
   ]
  },
  {
   "cell_type": "code",
   "execution_count": null,
   "metadata": {},
   "outputs": [],
   "source": [
    "sensitivity_weights_irls = directives.UpdateSensitivityWeights(every_iteration=True)\n",
    "starting_beta_irls = directives.BetaEstimate_ByEig(beta0_ratio=1)\n",
    "update_jacobi_irls = directives.UpdatePreconditioner(update_every_iteration=True)\n",
    "update_irls = directives.Update_IRLS(\n",
    "    coolingFactor=2,\n",
    "    coolingRate=2,\n",
    "    f_min_change=1e-4,\n",
    "    max_irls_iterations=40,\n",
    "    chifact_start=1.0,\n",
    ")\n",
    "\n",
    "directives_list_irls = [\n",
    "    update_irls,\n",
    "    sensitivity_weights_irls,\n",
    "    starting_beta_irls,\n",
    "    update_jacobi_irls\n",
    "]"
   ]
  },
  {
   "cell_type": "markdown",
   "metadata": {},
   "source": [
    "### Define and Run the Inversion"
   ]
  },
  {
   "cell_type": "code",
   "execution_count": null,
   "metadata": {},
   "outputs": [],
   "source": [
    "# Here we combine the inverse problem and the set of directives\n",
    "inv_irls = inversion.BaseInversion(inv_prob_irls, directives_list_irls)\n",
    "\n",
    "# Run the inversion\n",
    "recovered_model_irls = inv_irls.run(starting_conductivity_model)"
   ]
  },
  {
   "cell_type": "markdown",
   "metadata": {},
   "source": [
    "### Data Misfit and Recovered Model"
   ]
  },
  {
   "cell_type": "code",
   "execution_count": null,
   "metadata": {},
   "outputs": [],
   "source": [
    "dpred_irls = simulation_irls.dpred(recovered_model_irls)\n",
    "\n",
    "fig = plt.figure(figsize=(5, 5))\n",
    "ax1 = fig.add_axes([0.15, 0.15, 0.8, 0.75])\n",
    "ax1.loglog(times, np.abs(dobs), \"k-o\")\n",
    "ax1.loglog(times, np.abs(dpred_L2), \"b-o\")\n",
    "ax1.loglog(times, np.abs(dpred_irls), \"r-o\")\n",
    "ax1.grid(which=\"both\")\n",
    "ax1.set_xlabel(\"times (s)\")\n",
    "ax1.set_ylabel(\"Bz (T)\")\n",
    "ax1.set_title(\"Predicted and Observed Data\")\n",
    "ax1.legend([\"Observed\", \"L2 Inversion\", \"IRLS Inversion\"], loc=\"upper right\")\n",
    "plt.show()"
   ]
  },
  {
   "cell_type": "code",
   "execution_count": null,
   "metadata": {},
   "outputs": [],
   "source": [
    "# Plot true model and recovered model\n",
    "fig = plt.figure(figsize=(6, 6))\n",
    "\n",
    "ax1 = fig.add_axes([0.2, 0.15, 0.7, 0.7])\n",
    "plot_1d_layer_model(\n",
    "    true_layers, true_conductivities, ax=ax1, color=\"k\"\n",
    ")\n",
    "plot_1d_layer_model(\n",
    "    layer_thicknesses, log_conductivity_map * recovered_model_L2, ax=ax1, color=\"b\"\n",
    ")\n",
    "plot_1d_layer_model(\n",
    "    layer_thicknesses, log_conductivity_map * recovered_model_irls, ax=ax1, color=\"r\"\n",
    ")\n",
    "ax1.grid()\n",
    "ax1.set_xlabel(r\"Resistivity ($\\Omega m$)\")\n",
    "ax1.set_xlim(0.8 * x_min, 1.5 * x_max)\n",
    "ax1.set_ylim([np.sum(true_layers), 0])\n",
    "ax1.legend([\"True Model\", \"L2 Model\", \"IRLS Model\"])\n",
    "plt.show()"
   ]
  },
  {
   "cell_type": "markdown",
   "metadata": {},
   "source": [
    "## Parametric Inversion\n",
    "\n",
    "Here, we assume the subsurface is defined by a 3-layered Earth. However, the electrical properties and thicknesses of the layers are unknown. Here, we define our model to include log-conductivities and log-thicknesses. When including quantities that span different scales, it is frequently best to define the model in terms of log values so that each quantity influences the predicted data evenly."
   ]
  },
  {
   "cell_type": "markdown",
   "metadata": {},
   "source": [
    "### Model and Mapping\n",
    "\n",
    "For a 3-layered Earth model, the model consists of 2 log-thicknesses and 3 log-conductivities. Similar to the [1D Forward Simulation of Time Domain EM Data for a Single Sounding](fwd_tdem_1d.ipynb) tutorial, need a mapping that extract log-thicknesses and log-resistivities from the model, and mappings that convert log-values to property values. For this, we require the [SimPEG.maps.Wires](myst:SimPEG#SimPEG.maps.Wires) mapping and [SimPEG.maps.ExpMap](myst:SimPEG#SimPEG.maps.ExpMap) mapping classes. Note that successive mappings can be chained together using the $*$ operator."
   ]
  },
  {
   "cell_type": "code",
   "execution_count": null,
   "metadata": {},
   "outputs": [],
   "source": [
    "# Wire maps to extract log-thicknesses and log-conductivities\n",
    "wire_map = maps.Wires(\n",
    "    ('log_thicknesses', 2),\n",
    "    ('log_resistivity', 3)\n",
    ")\n",
    "\n",
    "# Maping for layer thicknesses\n",
    "log_thicknesses_map = maps.ExpMap() * wire_map.log_thicknesses\n",
    "\n",
    "# Mapping for conductivities\n",
    "log_resistivity_map = maps.ExpMap() * wire_map.log_resistivity"
   ]
  },
  {
   "cell_type": "markdown",
   "metadata": {},
   "source": [
    "### Starting and Reference Model\n",
    "\n",
    "This problem is highly non-linear so it is important to have a reasonable estimate of the true model. "
   ]
  },
  {
   "cell_type": "code",
   "execution_count": null,
   "metadata": {},
   "outputs": [],
   "source": [
    "starting_parametric_model = np.log(np.r_[30., 20., 20, 0.5, 5])\n",
    "\n",
    "reference_parametric_model = starting_parametric_model.copy()"
   ]
  },
  {
   "cell_type": "markdown",
   "metadata": {},
   "source": [
    "### Forward Simulation\n",
    "\n",
    "Because the layer thicknesses are part of the model, we define the ``thicknessesMap``. Because we are working in terms of electrical resistivity, we must define the ``rhoMap``."
   ]
  },
  {
   "cell_type": "code",
   "execution_count": null,
   "metadata": {},
   "outputs": [],
   "source": [
    "simulation_parametric = tdem.simulation_1d.Simulation1DLayered(\n",
    "    survey=survey,\n",
    "    rhoMap=log_resistivity_map,\n",
    "    thicknessesMap=log_thicknesses_map,\n",
    ")"
   ]
  },
  {
   "cell_type": "markdown",
   "metadata": {},
   "source": [
    "### Data Misfit"
   ]
  },
  {
   "cell_type": "code",
   "execution_count": null,
   "metadata": {},
   "outputs": [],
   "source": [
    "dmis_parametric = data_misfit.L2DataMisfit(\n",
    "    simulation=simulation_parametric, data=data_object\n",
    ")"
   ]
  },
  {
   "cell_type": "markdown",
   "metadata": {},
   "source": [
    "### (Combo) Regularization\n",
    "\n",
    "We need to define a regularization for each model parameter type. In this case, we have log-thicknesses and log-conductivities. For each model parameter type, we create a 1D [tensor mesh](myst:discretize#discretize.TensorMesh) with length equal to the number of parameters. In the ``mapping`` keyword argument, we used the wire map that extracts the specific model parameters from the model.\n",
    "\n",
    "Using the $*$ operator, separate regularizations can be summed to form a regularization that is also a [ComboObjectiveFunction](myst:SimPEG#SimPEG.objective_function.ComboObjectiveFunction). By setting the ``multipliers`` property, we can emphasis the relative contributions of the log-thicknesses and log-conductivities regularizations."
   ]
  },
  {
   "cell_type": "code",
   "execution_count": null,
   "metadata": {},
   "outputs": [],
   "source": [
    "reg_1 = regularization.Smallness(\n",
    "    TensorMesh([(np.ones(2))], \"0\"),\n",
    "    mapping=wire_map.log_thicknesses,\n",
    "    reference_model=reference_parametric_model\n",
    ")\n",
    "\n",
    "reg_2 = regularization.Smallness(\n",
    "    TensorMesh([(np.ones(3))], \"0\"),\n",
    "    mapping=wire_map.log_resistivity,\n",
    "    reference_model=reference_parametric_model\n",
    ")\n",
    "\n",
    "reg_parametric = reg_1 + reg_2\n",
    "reg_parametric.multipliers = [1., 0.1]"
   ]
  },
  {
   "cell_type": "markdown",
   "metadata": {},
   "source": [
    "### Optimization"
   ]
  },
  {
   "cell_type": "code",
   "execution_count": null,
   "metadata": {},
   "outputs": [],
   "source": [
    "opt_parametric = optimization.InexactGaussNewton(\n",
    "    maxIter=100, maxIterLS=20, maxIterCG=20, tolCG=1e-3\n",
    ")"
   ]
  },
  {
   "cell_type": "markdown",
   "metadata": {},
   "source": [
    "### Inverse Problem"
   ]
  },
  {
   "cell_type": "code",
   "execution_count": null,
   "metadata": {},
   "outputs": [],
   "source": [
    "inv_prob_parametric = inverse_problem.BaseInvProblem(\n",
    "    dmis_parametric, reg_parametric, opt_parametric\n",
    ")"
   ]
  },
  {
   "cell_type": "markdown",
   "metadata": {},
   "source": [
    "### Directives"
   ]
  },
  {
   "cell_type": "code",
   "execution_count": null,
   "metadata": {},
   "outputs": [],
   "source": [
    "update_jacobi = directives.UpdatePreconditioner(update_every_iteration=True)\n",
    "starting_beta = directives.BetaEstimate_ByEig(beta0_ratio=10)\n",
    "beta_schedule = directives.BetaSchedule(coolingFactor=2., coolingRate=3)\n",
    "target_misfit = directives.TargetMisfit(chifact=1.0)\n",
    "\n",
    "directives_list_parametric = [\n",
    "    update_jacobi,\n",
    "    starting_beta,\n",
    "    beta_schedule,\n",
    "    target_misfit\n",
    "]"
   ]
  },
  {
   "cell_type": "markdown",
   "metadata": {},
   "source": [
    "### Define and Run Inversion"
   ]
  },
  {
   "cell_type": "code",
   "execution_count": null,
   "metadata": {},
   "outputs": [],
   "source": [
    "inv_parametric = inversion.BaseInversion(\n",
    "    inv_prob_parametric, directives_list_parametric\n",
    ")\n",
    "recovered_model_parametric = inv_parametric.run(starting_parametric_model)"
   ]
  },
  {
   "cell_type": "markdown",
   "metadata": {},
   "source": [
    "### Data Misfit and Recovered Model"
   ]
  },
  {
   "cell_type": "code",
   "execution_count": null,
   "metadata": {},
   "outputs": [],
   "source": [
    "dpred_parametric = simulation_parametric.dpred(recovered_model_parametric)\n",
    "\n",
    "fig = plt.figure(figsize=(5, 5))\n",
    "ax1 = fig.add_axes([0.15, 0.15, 0.8, 0.75])\n",
    "ax1.loglog(times, np.abs(dobs), \"k-o\")\n",
    "ax1.loglog(times, np.abs(dpred_L2), \"b-o\")\n",
    "ax1.loglog(times, np.abs(dpred_irls), \"r-o\")\n",
    "ax1.loglog(times, np.abs(dpred_parametric), \"g-o\")\n",
    "ax1.grid(which=\"both\")\n",
    "ax1.set_xlabel(\"times (s)\")\n",
    "ax1.set_ylabel(\"Bz (T)\")\n",
    "ax1.set_title(\"Predicted and Observed Data\")\n",
    "ax1.legend(\n",
    "    [\"Observed\", \"L2 Inversion\", \"IRLS Inversion\", \"Parametric Inversion\"],\n",
    "    loc=\"upper right\"\n",
    ")\n",
    "plt.show()"
   ]
  },
  {
   "cell_type": "code",
   "execution_count": null,
   "metadata": {},
   "outputs": [],
   "source": [
    "fig = plt.figure(figsize=(6, 6))\n",
    "\n",
    "ax1 = fig.add_axes([0.2, 0.15, 0.7, 0.7])\n",
    "plot_1d_layer_model(true_layers, true_conductivities, ax=ax1, color=\"k\")\n",
    "plot_1d_layer_model(\n",
    "    layer_thicknesses, log_conductivity_map * recovered_model_L2, ax=ax1, color=\"b\"\n",
    ")\n",
    "plot_1d_layer_model(\n",
    "    layer_thicknesses, log_conductivity_map * recovered_model_irls, ax=ax1, color=\"r\"\n",
    ")\n",
    "plot_1d_layer_model(\n",
    "    log_thicknesses_map * recovered_model_parametric,\n",
    "    1 / (log_resistivity_map * recovered_model_parametric),\n",
    "    ax=ax1,\n",
    "    color=\"g\"\n",
    ")\n",
    "ax1.grid()\n",
    "ax1.set_xlabel(r\"Resistivity ($\\Omega m$)\")\n",
    "ax1.set_xlim(0.8 * x_min, 2 * x_max)\n",
    "ax1.set_ylim([np.sum(true_layers), 0])\n",
    "ax1.legend([\"True Model\", \"L2 Model\", \"IRLS Model\", \"Parametric Model\"])\n",
    "plt.show()"
   ]
  },
  {
   "cell_type": "code",
   "execution_count": null,
   "metadata": {},
   "outputs": [],
   "source": []
  }
 ],
 "metadata": {
  "kernelspec": {
   "display_name": "Python 3 (ipykernel)",
   "language": "python",
   "name": "python3"
  },
  "language_info": {
   "codemirror_mode": {
    "name": "ipython",
    "version": 3
   },
   "file_extension": ".py",
   "mimetype": "text/x-python",
   "name": "python",
   "nbconvert_exporter": "python",
   "pygments_lexer": "ipython3",
   "version": "3.10.9"
  }
 },
 "nbformat": 4,
 "nbformat_minor": 1
}
