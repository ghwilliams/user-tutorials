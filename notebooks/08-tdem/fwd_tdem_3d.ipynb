{
 "cells": [
  {
   "cell_type": "markdown",
   "metadata": {},
   "source": [
    "```{admonition} Intermediate notebook\n",
    ":class: caution\n",
    "This tutorial focusses on intermediate level functionality within SimPEG. Basic functionality within SimPEG is not discussed in detail, as we assume the user is already familiar. \n",
    "```"
   ]
  },
  {
   "cell_type": "markdown",
   "metadata": {},
   "source": [
    "```{admonition} Medium-weight notebook\n",
    ":class: caution\n",
    "Requires moderate computational resources. Run-times may exceed several minutes and require up to 8 GB of available RAM.\n",
    "```"
   ]
  },
  {
   "cell_type": "markdown",
   "metadata": {},
   "source": [
    "# Forward Simulation of 3D Transient Airborne TDEM Data on a Tree Mesh\n",
    "\n",
    "</br>\n",
    "\n",
    "**Author:** Devin C. Cowan\n",
    "\n",
    "</br>\n",
    "\n",
    "**Keywords:** TDEM, 3D forward simulation, tree mesh.\n",
    "\n",
    "</br>\n",
    "\n",
    "**Summary:** In this tutorial, we present the fundamentals of simulating 3D TDEM data in SimPEG. We use the module [SimPEG.electromagnetics.static.time_domain](myst:SimPEG#SimPEG.electromagnetics.time_domain) to simulate airborne TDEM data on a tree mesh. We assume the reader is already familiar with the fundamental aspects of simulating TDEM data in SimPEG, which were covered in the [Forward Simulation of Time Domain EM Data for a 1D Sounding](fwd_tdem_1d.ipynb) tutorial. This tutorial focusses on the following:\n",
    "\n",
    "- Defining TDEM surveys for 3D simulations\n",
    "- How to define an appropriate tree mesh based on problem geometry\n",
    "- Defining models and mappings for simulation on a tree mesh\n",
    "- Including surface topography in the simulation\n",
    "- Choosing a 3D formulation that works best for the geometry of the problem\n",
    "- Defining appropriate time-steps for the forward simulation"
   ]
  },
  {
   "cell_type": "markdown",
   "metadata": {},
   "source": [
    "## Importing Modules\n",
    "\n",
    "Here, we import all of the functionality required to run the notebook for the tutorial exercise. All of the functionality specific to TDEM is imported from [SimPEG.electromagnetics.time_domain](myst:SimPEG#SimPEG.electromagnetics.time_domain). \n",
    "We also import some useful utility functions from [SimPEG.utils](myst:SimPEG#SimPEG.utils). And to generate the mesh, we use the [discretize](https://discretize.simpeg.xyz/en/main) package."
   ]
  },
  {
   "cell_type": "code",
   "execution_count": null,
   "metadata": {},
   "outputs": [],
   "source": [
    "# SimPEG functionality\n",
    "import SimPEG.electromagnetics.time_domain as tdem\n",
    "from SimPEG.utils import plot2Ddata\n",
    "from SimPEG import maps\n",
    "\n",
    "# discretize functionality\n",
    "from discretize import TreeMesh\n",
    "from discretize.utils import mkvc, active_from_xyz\n",
    "\n",
    "# Common Python functionality\n",
    "import os\n",
    "import numpy as np\n",
    "import matplotlib as mpl\n",
    "import matplotlib.pyplot as plt\n",
    "mpl.rcParams.update({\"font.size\": 14})\n",
    "\n",
    "save_file = False"
   ]
  },
  {
   "cell_type": "markdown",
   "metadata": {},
   "source": [
    "## Defining Topography\n",
    "\n",
    "Surface topography is defined as an (N, 3) [numpy.ndarray](myst:numpy#numpy.ndarray) for 3D simulations.\n",
    "To keep things simple, we create flat topography for the forward simulation.\n",
    "For user-specific simulations, you may generate less trivial topography or load topography from an XYZ file."
   ]
  },
  {
   "cell_type": "code",
   "execution_count": null,
   "metadata": {},
   "outputs": [],
   "source": [
    "x_topo, y_topo = np.meshgrid(np.linspace(-3000, 3000, 101), np.linspace(-3000, 3000, 101))\n",
    "z_topo = np.zeros(np.shape(x_topo))"
   ]
  },
  {
   "cell_type": "code",
   "execution_count": null,
   "metadata": {},
   "outputs": [],
   "source": [
    "fig = plt.figure(figsize=(6, 6))\n",
    "ax = fig.add_axes([0.1, 0.1, 0.8, 0.8], projection='3d')\n",
    "ax.set_zlim([-250, 0])\n",
    "ax.plot_surface(x_topo, y_topo, z_topo, color='r', edgecolor='k', linewidth=0.5)\n",
    "ax.set_box_aspect(aspect=None, zoom=0.85)\n",
    "ax.set_xlabel('X (m)', labelpad=10)\n",
    "ax.set_ylabel('Y (m)', labelpad=10)\n",
    "ax.set_zlabel('Z (m)', labelpad=10)\n",
    "ax.set_title('Topography (Exaggerated z-axis)', fontsize=16, pad=-20)\n",
    "ax.view_init(elev=30.)"
   ]
  },
  {
   "cell_type": "code",
   "execution_count": null,
   "metadata": {},
   "outputs": [],
   "source": [
    "# Turn into a (N, 3) numpy.ndarray\n",
    "x_topo, y_topo, z_topo = mkvc(x_topo), mkvc(y_topo), mkvc(z_topo)\n",
    "topo_xyz = np.c_[mkvc(x_topo), mkvc(y_topo), mkvc(z_topo)]"
   ]
  },
  {
   "cell_type": "markdown",
   "metadata": {},
   "source": [
    "## Defining the Survey\n",
    "\n",
    "The fundamentals of constructing TDEM surveys was presented in the [Forward Simulation of Time Domain EM Data for a 1D Sounding](fwd_tdem_1d.ipynb) tutorial. We advise the reader to already be familiar with this material. For a full description of all source and receiver classes, please visit API documentation for [SimPEG.electromagnetics.time_domain](myst:SimPEG#SimPEG.electromagnetics.time_domain).\n",
    "\n",
    "**For this tutorial**, we simulate data for "
   ]
  },
  {
   "cell_type": "markdown",
   "metadata": {},
   "source": [
    "### Survey Geometry"
   ]
  },
  {
   "cell_type": "code",
   "execution_count": null,
   "metadata": {},
   "outputs": [],
   "source": [
    "# Data locations\n",
    "N = 15\n",
    "xloc, yloc, zloc = np.meshgrid(\n",
    "    np.linspace(-175, 175, N), np.linspace(-175, 175, N), [31.]\n",
    ")\n",
    "data_locations = np.c_[mkvc(xloc), mkvc(yloc), mkvc(zloc)]\n",
    "n_locations = np.size(xloc)\n",
    "\n",
    "# Source properties\n",
    "loop_radius = 9.5\n",
    "n_segments = 8\n",
    "\n",
    "# Receiver properties\n",
    "rx_separation = np.r_[0., 0., -10.]\n",
    "time_channels = np.logspace(-4, -2, 7)\n",
    "n_times = len(time_channels)"
   ]
  },
  {
   "cell_type": "markdown",
   "metadata": {},
   "source": [
    "### Defining the Waveform\n",
    "\n",
    "In Part 3 the [Forward Simulation of 1D Time Domain EM Sounding Data](fwd_tdem_1d.ipynb) tutorial, we demonstrated how to define "
   ]
  },
  {
   "cell_type": "code",
   "execution_count": null,
   "metadata": {},
   "outputs": [],
   "source": [
    "waveform = tdem.sources.StepOffWaveform()"
   ]
  },
  {
   "cell_type": "code",
   "execution_count": null,
   "metadata": {},
   "outputs": [],
   "source": [
    "plot_times = np.linspace(-0.01, 0.01, 100)\n",
    "\n",
    "# Evaluate the waveform for each on time.\n",
    "waveform_value = [waveform.eval(t) for t in plot_times]\n",
    "\n",
    "# Plot the waveform\n",
    "fig = plt.figure(figsize=(10, 4))\n",
    "ax1 = fig.add_subplot(111)\n",
    "ax1.plot(plot_times, waveform_value, lw=2)\n",
    "ax1.set_xlabel(\"Times [s]\")\n",
    "ax1.set_ylabel(\"Waveform value\")\n",
    "ax1.set_title(\"Waveform\")"
   ]
  },
  {
   "cell_type": "markdown",
   "metadata": {},
   "source": [
    "### Create Airborne Survey"
   ]
  },
  {
   "cell_type": "code",
   "execution_count": null,
   "metadata": {},
   "outputs": [],
   "source": [
    "PHI = np.linspace(0, 2*np.pi, n_segments+1)\n",
    "xyz_loop = np.c_[\n",
    "    loop_radius*np.cos(PHI),\n",
    "    loop_radius*np.sin(PHI),\n",
    "    np.zeros_like(PHI)\n",
    "]"
   ]
  },
  {
   "cell_type": "code",
   "execution_count": null,
   "metadata": {},
   "outputs": [],
   "source": [
    "source_list = []  # Create empty list to store sources\n",
    "\n",
    "# Each unique location defines a new transmitter\n",
    "for ii in range(n_locations):\n",
    "    \n",
    "    # Here we define receivers that measure the h-field in A/m\n",
    "    receivers_list = [\n",
    "        tdem.receivers.PointMagneticFluxTimeDerivative(\n",
    "            data_locations[ii, :]+rx_separation, time_channels, \"z\"\n",
    "        )\n",
    "    ]\n",
    "\n",
    "    # Must define the transmitter properties and associated receivers\n",
    "    source_list.append(\n",
    "        tdem.sources.LineCurrent(\n",
    "            receivers_list,\n",
    "            location=xyz_loop+data_locations[ii, :],\n",
    "            waveform=waveform\n",
    "        )\n",
    "    )\n",
    "\n",
    "# Define the survey\n",
    "survey = tdem.Survey(source_list)"
   ]
  },
  {
   "cell_type": "markdown",
   "metadata": {},
   "source": [
    "## Designing a (Tree) Mesh for FDEM\n",
    "\n",
    "Meshes are designed using the [discretize](https://discretize.simpeg.xyz/en/main) package. See the [discretize user tutorials](https://discretize.simpeg.xyz/en/main/tutorials/mesh_generation/index.html) to learn more about creating meshes.\n",
    "Here, the forward simulation is computed for a [tree mesh](myst:discretize#discretize.TreeMesh). Because of the modular nature of SimPEG, you could define a [tensor mesh](myst:discretize#discretize.TensorMesh) instead.\n",
    "\n",
    "### General Approach:\n",
    "\n",
    "The primary electromagnetic fields produced by controlled sources fall off very quickly with respect to distance. For example, the primary magnetic field produced by a magnetic dipole source falls off as $r^{-3}$. Because the amplitude and direction of the primary fields varies greatly close to the source, smaller cells are needed there to model the fields accurately. Far away from the source, larger cells can be used since the fields are much smoother. Tree meshes are well-suited for TDEM simulations because the cell size can be increased at specified distances from controlled sources. For any controlled source TDEM simulation, we advise the following considerations and rules of thumb:\n",
    "\n",
    "1. The smallest cell size used to discretize the Earth should be at most 1/2 of the diffusion distance for the earliest time channel.\n",
    "2. To impose the boundary conditions properly, the padding thickness should be at least 2-3 times the diffusion distance for the latest time channel and background conductivity. You must also pad upwards into the air.\n",
    "3. Successive increases in cell size should not happen too abruptly. Within your volume of interest, you should have 4 layers of cells of the same size before increasing the cell size.\n",
    "4. You generally need to have several cells between the source and receiver in order to simulate the primary signal at the receiver accurately. This is less problematic when data are measured during the off-time\n",
    "5. Finer discretization is required when topography is significant.\n",
    "\n",
    "**Important:** because the diffusion distance depends on observation time and electrical conductivity, we must know something about the subsurface physical properties as well as the survey properties prior to designing our mesh."
   ]
  },
  {
   "cell_type": "code",
   "execution_count": null,
   "metadata": {},
   "outputs": [],
   "source": [
    "# Define the base mesh\n",
    "dh = 5.             # base cell width\n",
    "dom_width = 6000.0  # domain width\n",
    "nbc = 2 ** int(np.round(np.log(dom_width / dh) / np.log(2.0)))  # num. base cells\n",
    "\n",
    "h = [(dh, nbc)]\n",
    "mesh = TreeMesh([h, h, h], x0=\"CCC\")\n",
    "\n",
    "# Mesh refinement based on surface topography (starting with 20 cells)\n",
    "k = np.sqrt(np.sum(topo_xyz[:, 0:2] ** 2, axis=1)) < 400\n",
    "mesh.refine_surface(\n",
    "    topo_xyz[k, :], level=-3, padding_cells_by_level=[2, 4], finalize=False\n",
    ")\n",
    "\n",
    "# Mesh refinement near controlled sources (starting with 2.5 m cells)\n",
    "pts = np.repeat(data_locations, n_segments+1, axis=0) + np.tile(xyz_loop, (n_locations, 1))\n",
    "mesh.refine_points(\n",
    "    pts, level=-1, padding_cells_by_level=[2, 2, 2], finalize=False\n",
    ")\n",
    "\n",
    "# Refine core mesh region (starting with 10 m cells)\n",
    "xp, yp, zp = np.meshgrid([-280.0, 280.0], [-280.0, 280.0], [-80.0, 20.0])\n",
    "box_points = np.c_[mkvc(xp), mkvc(yp), mkvc(zp)]\n",
    "mesh.refine_bounding_box(\n",
    "    box_points, level=-2, padding_cells_by_level=[0, 4, 4, 4], finalize=False\n",
    ")\n",
    "\n",
    "# Finalize the mesh\n",
    "mesh.finalize()"
   ]
  },
  {
   "cell_type": "code",
   "execution_count": null,
   "metadata": {},
   "outputs": [],
   "source": [
    "print('# of cells: {}'.format(mesh.n_cells))                  # Number of cells\n",
    "print('# of x-faces: {}'.format(mesh.n_faces_x))              # Number of x-faces\n",
    "print('Origin: {}'.format(mesh.origin))                       # bottom-southewest corner\n",
    "print('Max cell volume: {}'.format(mesh.cell_volumes.max()))  # Largest cell size\n",
    "print(mesh.cell_centers[0:5, :])                              # Cell center locations"
   ]
  },
  {
   "cell_type": "markdown",
   "metadata": {},
   "source": [
    "## Active Cells\n",
    "\n",
    "Simulated geophysical data are dependent on the subsurface distribution of physical property values. As a result, the cells lying below the surface topography are commonly referred to as 'active cells'. And air cells, whose physical property values are fixed, are commonly referred to as 'inactive cells'. Here, the discretize [active_from_xyz](myst:discretize#discretize.utils.active_from_xyz) utility function is used to find the indices of the active cells using the mesh and surface topography. The output quantity is a ``bool`` array."
   ]
  },
  {
   "cell_type": "code",
   "execution_count": null,
   "metadata": {},
   "outputs": [],
   "source": [
    "# Indices of the active mesh cells from topography (e.g. cells below surface)\n",
    "ind_active = active_from_xyz(mesh, topo_xyz)\n",
    "nP = np.sum(ind_active)  # number of parameters"
   ]
  },
  {
   "cell_type": "markdown",
   "metadata": {},
   "source": [
    "## Models and Mapping from the Model to the Mesh\n",
    "\n",
    "In SimPEG, the term 'model' is not necessarily synonymous with the set of physical property values defined on the mesh. For example, the model may be defined as the logarithms of the physical property values, or be the parameters defining a layered Earth geometry. Models in SimPEG are 1D [numpy.ndarray](myst:numpy#numpy.ndarray) whose lengths are\n",
    "equal to the number of model parameters.\n",
    "\n",
    "Classes within the [SimPEG.maps](myst:SimPEG#SimPEG.maps.IdentityMap) module are used to define the mapping that connects the model to the physical property values used in the 3D FDEM simulation. Sophisticated mappings can be defined by combining multiple mapping objects. But in the simplest case, the mapping is an identity map and the model consists of the conductivity/resistivity values for all mesh cells (including air). Here, the model consists of the log-conductivity values for all active mesh cells.\n",
    "\n",
    "When simulating 3D FDEM data, we have the choice of using resistivity or conductivity to define the Earth's electrical properties. However, one option may be implemented more naturally depending on the formulation used."
   ]
  },
  {
   "cell_type": "markdown",
   "metadata": {},
   "source": [
    "### Defining the Model"
   ]
  },
  {
   "cell_type": "code",
   "execution_count": null,
   "metadata": {},
   "outputs": [],
   "source": [
    "# Define conductivity values in S/m (or resistivity in Ohm m)\n",
    "air_conductivity = 1e-8\n",
    "background_conductivity = 0.01\n",
    "block_conductivity = 0.1"
   ]
  },
  {
   "cell_type": "code",
   "execution_count": null,
   "metadata": {},
   "outputs": [],
   "source": [
    "# Define conductivities on active cells\n",
    "active_conductivities = background_conductivity * np.ones(nP)\n",
    "ind_block = (\n",
    "    (mesh.cell_centers[ind_active, 0] < 80.0)\n",
    "    & (mesh.cell_centers[ind_active, 0] > -80.0)\n",
    "    & (mesh.cell_centers[ind_active, 1] < 80.0)\n",
    "    & (mesh.cell_centers[ind_active, 1] > -80.0)\n",
    "    & (mesh.cell_centers[ind_active, 2] > -120.0)\n",
    "    & (mesh.cell_centers[ind_active, 2] < -30.0)\n",
    ")\n",
    "active_conductivities[ind_block] = block_conductivity"
   ]
  },
  {
   "cell_type": "code",
   "execution_count": null,
   "metadata": {},
   "outputs": [],
   "source": [
    "# Define the log-conductivity model\n",
    "log_conductivity_model = np.log(active_conductivities)"
   ]
  },
  {
   "cell_type": "markdown",
   "metadata": {},
   "source": [
    "### Defining the Mapping\n",
    "\n",
    "Here, we use the [SimPEG.maps.ExpMap](myst:SimPEG#SimPEG.maps.ExpMap) mapping to convert our model values from log-conductivities to conductivities, and the [SimPEG.maps.InjectActiveCells](myst:SimPEG#SimPEG.maps.InjectActiveCells) mapping to project active cells to the entire mesh. As we will demonstrate, a single mapping can be constructed from multiple mapping classes using the $*$ operator. **Important:** When defining the active cells mapping, we set all inactive (air) cells to 1e-8 $S/m$ instead of $0$. This is done to ensure that the linear system constructed to solve the PDE for the DC resistivity problem is well-conditioned."
   ]
  },
  {
   "cell_type": "code",
   "execution_count": null,
   "metadata": {},
   "outputs": [],
   "source": [
    "log_conductivity_map = (\n",
    "    maps.InjectActiveCells(mesh, ind_active, air_conductivity) *\n",
    "    maps.ExpMap(nP=nP)\n",
    ")"
   ]
  },
  {
   "cell_type": "markdown",
   "metadata": {},
   "source": [
    "### Plotting the discretization and active conductivities\n",
    "\n",
    "To show the geometry of the problem, we plot the discretization near several sources and the active cell conductivities using the [plot_slice](myst:discretize#discretize.TreeMesh.plot_slice) method."
   ]
  },
  {
   "cell_type": "code",
   "execution_count": null,
   "metadata": {},
   "outputs": [],
   "source": [
    "fig = plt.figure(figsize=(12, 4))\n",
    "\n",
    "# Plot discretization near source\n",
    "ax1 = fig.add_axes([0.05, 0.1, 0.32, 0.8])\n",
    "mesh.plot_slice(\n",
    "    np.zeros(mesh.nC),\n",
    "    normal=\"Y\",\n",
    "    ax=ax1,\n",
    "    ind=int(mesh.h[0].size / 2),\n",
    "    grid=True,\n",
    "    clim=[-1, 1],\n",
    "    pcolor_opts={\"cmap\": mpl.cm.bwr}\n",
    ")\n",
    "ax1.set_xlim([-320, -160])\n",
    "ax1.set_ylim([-40, 80])\n",
    "ax1.set_title(\"Discretization at survey edge\")\n",
    "\n",
    "# Plot active cell conductivities\n",
    "plotting_map = maps.InjectActiveCells(mesh, ind_active, np.nan)\n",
    "log10_conductivities = np.log10(active_conductivities)\n",
    "norm = mpl.colors.Normalize(\n",
    "    vmin=np.log10(background_conductivity), vmax=np.log10(block_conductivity)\n",
    ")\n",
    "\n",
    "ax2 = fig.add_axes([0.45, 0.1, 0.4, 0.8])\n",
    "mesh.plot_slice(\n",
    "    plotting_map * log10_conductivities,\n",
    "    normal=\"Y\",\n",
    "    ax=ax2,\n",
    "    ind=int(mesh.h[0].size / 2),\n",
    "    grid=True,\n",
    "    pcolor_opts={\"norm\": norm},\n",
    ")\n",
    "ax2.set_xlim([-500, 500])\n",
    "ax2.set_ylim([-500, 100])\n",
    "ax2.set_title(\"Active cell conductivities (Y = 0 m)\")\n",
    "\n",
    "cax2 = fig.add_axes([0.87, 0.1, 0.02, 0.8])\n",
    "\n",
    "cbar = mpl.colorbar.ColorbarBase(\n",
    "    cax2, norm=norm, orientation=\"vertical\", format=\"$10^{%.1f}$\"\n",
    ")\n",
    "cbar.set_label(\"Conductivity [S/m]\", rotation=270, labelpad=15, size=12)"
   ]
  },
  {
   "cell_type": "markdown",
   "metadata": {},
   "source": [
    "## Time Stepping"
   ]
  },
  {
   "cell_type": "code",
   "execution_count": null,
   "metadata": {},
   "outputs": [],
   "source": [
    "time_steps = [(4e-6, 30), (3.2e-5, 30), (2.4e-4, 41)]"
   ]
  },
  {
   "cell_type": "markdown",
   "metadata": {},
   "source": [
    "## Defining the Forward Simulation\n",
    "\n",
    "In SimPEG, the physics of the forward simulation is defined by creating an instance of an appropriate simulation class. To fully define the forward simulation, we need to connect the simulation object to:\n",
    "\n",
    "- the survey\n",
    "- the mesh\n",
    "- the mapping from the model to the mesh\n",
    "\n",
    "This is accomplished by setting each one of the aforementioned items as a property of the simulation object. Here, we define two simulation objects, one where the model defines the subsurface conductivities, and one where the model defines subsurface log-resistivities. When our model is used to define subsurface electric conductivity, the mapping is set using the ``sigmaMap`` keyword argument. However when our model is used to define subsurface electric resistivity, the mapping must be set using the ``rhoMap`` keyword argument.\n",
    "\n",
    "### Choosing a formulation\n",
    "\n",
    "There are a multitude of simulation classes, each of which solves Maxwell's equations in terms of a different field:\n",
    "\n",
    "- [Simulation3DElectricField](myst:SimPEG#SimPEG.electromagnetics.frequency_domain.Simulation3DElectricField), which solves for the electric fields on mesh edges.\n",
    "- [Simulation3DMagneticFluxDensity](myst:SimPEG#SimPEG.electromagnetics.frequency_domain.Simulation3DMagneticFluxDensity), which solves for the magnetic flux density on mesh faces.\n",
    "- [Simulation3DMagneticField](myst:SimPEG#SimPEG.electromagnetics.frequency_domain.Simulation3DMagneticField), which solves for the magnetic fields on mesh edges.\n",
    "- [Simulation3DCurrentDensity](myst:SimPEG#SimPEG.electromagnetics.frequency_domain.Simulation3DCurrentDensity), which solves for the current density on mesh faces.\n",
    "\n",
    "The optimum choice in simulation class depends on the fields being measured and the class used to define FDEM sources. For example, it may be best to use the electric field formulation when the source is a line-current and electric fields are being measured. And it may be best to use the magnetic field formulation for a magnetic dipole source and magnetic field measurements.\n",
    "\n",
    "### Practical considerations\n",
    "\n",
    "For each unique operating frequency, we need to factor the\n",
    "\n",
    "For each source\n",
    "\n",
    "Mesh size"
   ]
  },
  {
   "cell_type": "code",
   "execution_count": null,
   "metadata": {},
   "outputs": [],
   "source": [
    "simulation = tdem.simulation.Simulation3DElectricField(\n",
    "    mesh, survey=survey, sigmaMap=log_conductivity_map\n",
    ")\n",
    "\n",
    "# Set the time-stepping for the simulation\n",
    "simulation.time_steps = time_steps"
   ]
  },
  {
   "cell_type": "code",
   "execution_count": null,
   "metadata": {},
   "outputs": [],
   "source": [
    "simulation.times"
   ]
  },
  {
   "cell_type": "markdown",
   "metadata": {},
   "source": [
    "## Simulating Total Field and Secondary Field Data\n",
    "\n",
    "Once any simulation within SimPEG has been properly constructed, simulated data for a given model vector can be computed using the [dpred](myst:SimPEG#SimPEG.simulation.BaseSimulation.dpred) method. Note that despite the difference in how we defined the models representing the Earth's electrical properties, the data predicted by both simulations is equivalent."
   ]
  },
  {
   "cell_type": "code",
   "execution_count": null,
   "metadata": {},
   "outputs": [],
   "source": [
    "# Predict data for a given model\n",
    "dpred = simulation.dpred(log_conductivity_model)\n",
    "\n"
   ]
  },
  {
   "cell_type": "markdown",
   "metadata": {},
   "source": [
    "## Plotting"
   ]
  },
  {
   "cell_type": "code",
   "execution_count": null,
   "metadata": {},
   "outputs": [],
   "source": [
    "# Data were organized by location, then by time channel\n",
    "dpred_plotting = np.reshape(dpred, (n_locations, n_times))\n",
    "\n",
    "# Plot\n",
    "fig = plt.figure(figsize=(10, 4))\n",
    "\n",
    "# dB/dt at early time\n",
    "v_max = np.max(np.abs(dpred_plotting[:, 0]))\n",
    "ax11 = fig.add_axes([0.05, 0.05, 0.35, 0.9])\n",
    "plot2Ddata(\n",
    "    data_locations[:, 0:2],\n",
    "    dpred_plotting[:, 0],\n",
    "    ax=ax11,\n",
    "    ncontour=30,\n",
    "    clim=(-v_max, v_max),\n",
    "    contourOpts={\"cmap\": \"bwr\"},\n",
    ")\n",
    "ax11.set_title(\"dBz/dt at 0.0001 s\")\n",
    "\n",
    "ax12 = fig.add_axes([0.42, 0.05, 0.02, 0.9])\n",
    "norm1 = mpl.colors.Normalize(vmin=-v_max, vmax=v_max)\n",
    "cbar1 = mpl.colorbar.ColorbarBase(\n",
    "    ax12, norm=norm1, orientation=\"vertical\", cmap=mpl.cm.bwr\n",
    ")\n",
    "cbar1.set_label(\"$T/s$\", rotation=270, labelpad=15, size=12)\n",
    "\n",
    "# dB/dt at later times\n",
    "v_max = np.max(np.abs(dpred_plotting[:, -1]))\n",
    "ax21 = fig.add_axes([0.55, 0.05, 0.35, 0.9])\n",
    "plot2Ddata(\n",
    "    data_locations[:, 0:2],\n",
    "    dpred_plotting[:, -1],\n",
    "    ax=ax21,\n",
    "    ncontour=30,\n",
    "    clim=(-v_max, v_max),\n",
    "    contourOpts={\"cmap\": \"bwr\"},\n",
    ")\n",
    "ax21.set_title(\"dBz/dt at 0.001 s\")\n",
    "\n",
    "ax22 = fig.add_axes([0.92, 0.05, 0.02, 0.9])\n",
    "norm2 = mpl.colors.Normalize(vmin=-v_max, vmax=v_max)\n",
    "cbar2 = mpl.colorbar.ColorbarBase(\n",
    "    ax22, norm=norm2, orientation=\"vertical\", cmap=mpl.cm.bwr\n",
    ")\n",
    "cbar2.set_label(\"$T/s$\", rotation=270, labelpad=15, size=12)\n",
    "\n",
    "plt.show()"
   ]
  },
  {
   "cell_type": "markdown",
   "metadata": {},
   "source": [
    "## Optional: Export Data\n",
    "\n",
    "Write the true model, data and topography\n",
    "\n",
    "\n"
   ]
  },
  {
   "cell_type": "code",
   "execution_count": null,
   "metadata": {},
   "outputs": [],
   "source": [
    "if save_file:\n",
    "    dir_path = os.path.dirname(tdem.__file__).split(os.path.sep)[:-3]\n",
    "    dir_path.extend([\"tutorials\", \"assets\", \"tdem\"])\n",
    "    dir_path = os.path.sep.join(dir_path) + os.path.sep\n",
    "\n",
    "    fname = dir_path + \"tdem_topo.txt\"\n",
    "    np.savetxt(fname, np.c_[topo_xyz], fmt=\"%.4e\")\n",
    "\n",
    "    # Write data with 2% noise added\n",
    "    fname = dir_path + \"tdem_data.obs\"\n",
    "    dpred = dpred + 0.02 * np.abs(dpred) * np.random.rand(len(dpred))\n",
    "    t_vec = np.kron(np.ones(ntx), time_channels)\n",
    "    receiver_locations = np.kron(receiver_locations, np.ones((len(time_channels), 1)))\n",
    "\n",
    "    np.savetxt(fname, np.c_[receiver_locations, t_vec, dpred], fmt=\"%.4e\")\n",
    "\n",
    "    # Plot true model\n",
    "    output_model = plotting_map * model\n",
    "    output_model[np.isnan(output_model)] = 1e-8\n",
    "\n",
    "    fname = dir_path + \"true_model.txt\"\n",
    "    np.savetxt(fname, output_model, fmt=\"%.4e\")"
   ]
  }
 ],
 "metadata": {
  "kernelspec": {
   "display_name": "Python 3 (ipykernel)",
   "language": "python",
   "name": "python3"
  },
  "language_info": {
   "codemirror_mode": {
    "name": "ipython",
    "version": 3
   },
   "file_extension": ".py",
   "mimetype": "text/x-python",
   "name": "python",
   "nbconvert_exporter": "python",
   "pygments_lexer": "ipython3",
   "version": "3.10.9"
  }
 },
 "nbformat": 4,
 "nbformat_minor": 1
}
