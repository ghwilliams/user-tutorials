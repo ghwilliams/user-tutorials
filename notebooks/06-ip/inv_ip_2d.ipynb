{
 "cells": [
  {
   "cell_type": "markdown",
   "metadata": {},
   "source": [
    "# 2.5D IP Inversion"
   ]
  },
  {
   "cell_type": "markdown",
   "metadata": {},
   "source": [
    "```{admonition} Intermediate notebook\n",
    ":class: caution\n",
    "This tutorial focusses on intermediate level functionality within SimPEG. Basic functionality within SimPEG is not discussed in detail, as we assume the user is already familiar. \n",
    "```"
   ]
  },
  {
   "cell_type": "markdown",
   "metadata": {},
   "source": [
    "```{admonition} Light-weight notebook\n",
    ":class: hint\n",
    "This tutorial requires minimal computational resources and can be executed quickly in the background while other computer processes are running.\n",
    "```"
   ]
  },
  {
   "cell_type": "markdown",
   "metadata": {},
   "source": [
    "**Author:** Devin C. Cowan\n",
    "\n",
    "</br>\n",
    "\n",
    "**Keywords:** induced polarization, 2.5D inversion, sparse norm, tree mesh.\n",
    "\n",
    "</br>\n",
    "\n",
    "**Summary:** Here we invert IP data to recover the subsurface chargeability distribution on a tree mesh. We demonstrate two inversion approaches for recovering a chargeability model:\n",
    "\n",
    "1. Weighted least-squares inversion\n",
    "2. Iteratively re-weighted least-squares (IRLS) inversion\n",
    "\n",
    "Almost all of the details of defining and carrying out weighted least-squares and iteratively weighted least squares inversion were covered in the [2.5D DC Resistivity Inversion](fwd_dcr_2d.ipynb) tutorial. And functionality specific to defining the IP forward simulation was covered in the [2.5D IP Forward Simulation](fwd_dcr_2d.ipynb) tutorial. As we will focus primarily on content specific to IP inversion, we strongly urge the reader to work through the aforementioned tutorials prior to working through this one.\n",
    "\n",
    "</br>\n",
    "\n",
    "**Learning Objectives:**\n",
    "\n",
    "- Assigning appropriate uncertainties to IP data\n",
    "- Designing a mesh for IP inversion\n",
    "- Obtaining a background conductivity/resistivity model for the IP inversion\n",
    "- Analyzing inversion results"
   ]
  },
  {
   "cell_type": "markdown",
   "metadata": {},
   "source": [
    "## Import Modules\n",
    "\n",
    "Here, we import all of the functionality required to run the notebook for the tutorial exercise.\n",
    "All of the functionality specific to IP is imported from [SimPEG.electromagnetics.static.induced_polarization](myst:SimPEG#SimPEG.electromagnetics.static.induced_polarization).\n",
    "We also import some useful utility functions from [SimPEG.utils](myst:SimPEG#SimPEG.utils). Classes required to define the data misfit, regularization, optimization, etc... are imported from elsewhere within SimPEG. We also import some useful utility functions from [SimPEG.utils](myst:SimPEG#SimPEG.utils). To generate the mesh used for the inversion, we use the [discretize](https://discretize.simpeg.xyz/en/main) package."
   ]
  },
  {
   "cell_type": "code",
   "execution_count": 1,
   "metadata": {},
   "outputs": [],
   "source": [
    "# SimPEG functionality\n",
    "from SimPEG.electromagnetics.static import induced_polarization as ip\n",
    "from SimPEG.electromagnetics.static.utils.static_utils import (\n",
    "    plot_pseudosection,\n",
    "    generate_survey_from_abmn_locations,\n",
    "    apparent_resistivity_from_voltage,\n",
    "    geometric_factor\n",
    ")\n",
    "from SimPEG.utils.io_utils.io_utils_electromagnetics import read_dcip2d_ubc\n",
    "from SimPEG.utils import download, model_builder\n",
    "from SimPEG import (\n",
    "    maps,\n",
    "    data,\n",
    "    data_misfit,\n",
    "    regularization,\n",
    "    optimization,\n",
    "    inverse_problem,\n",
    "    inversion,\n",
    "    directives,\n",
    ")\n",
    "\n",
    "# discretize functionality\n",
    "from discretize import TreeMesh\n",
    "from discretize.utils import mkvc, active_from_xyz\n",
    "\n",
    "# Basic Python functionality\n",
    "import os\n",
    "import numpy as np\n",
    "import matplotlib as mpl\n",
    "import matplotlib.pyplot as plt\n",
    "from matplotlib.colors import Normalize, LogNorm\n",
    "from scipy.interpolate import LinearNDInterpolator\n",
    "import tarfile\n",
    "\n",
    "mpl.rcParams.update({\"font.size\": 14})  # default font size\n",
    "cmap = mpl.cm.RdYlBu_r  # default colormap"
   ]
  },
  {
   "cell_type": "markdown",
   "metadata": {},
   "source": [
    "## Load and Plot Tutorial Data\n",
    "\n",
    "For most geophysical inversion projects, a reasonable inversion result can be obtained so long as the practitioner has observed data, the survey geometry and topography. For this tutorial, the observed data and topography files are provided. Here, we download and import the observed data and topography into the SimPEG framework."
   ]
  },
  {
   "cell_type": "code",
   "execution_count": 4,
   "metadata": {},
   "outputs": [
    {
     "name": "stdout",
     "output_type": "stream",
     "text": [
      "overwriting D:\\Documents\\Repositories\\user-tutorials\\notebooks\\06-ip\\inv_ip_2d_files.tar.gz\n",
      "Downloading https://github.com/simpeg/user-tutorials/raw/main/assets/06-ip/inv_ip_2d_files.tar.gz\n",
      "   saved to: D:\\Documents\\Repositories\\user-tutorials\\notebooks\\06-ip\\inv_ip_2d_files.tar.gz\n",
      "Download completed!\n"
     ]
    }
   ],
   "source": [
    "# URL to download from repository assets\n",
    "data_source = \"https://github.com/simpeg/user-tutorials/raw/main/assets/06-ip/inv_ip_2d_files.tar.gz\"\n",
    "\n",
    "# download the data\n",
    "downloaded_data = download(data_source, overwrite=True)\n",
    "\n",
    "# unzip the tarfile\n",
    "tar = tarfile.open(downloaded_data, \"r\")\n",
    "tar.extractall()\n",
    "tar.close()\n",
    "\n",
    "# path to the directory containing our data\n",
    "dir_path = downloaded_data.split(\".\")[0] + os.path.sep\n",
    "\n",
    "# files to work with\n",
    "topo_filename = dir_path + \"topo_2d.txt\"\n",
    "data_filename = dir_path + \"ip_data.obs\""
   ]
  },
  {
   "cell_type": "markdown",
   "metadata": {},
   "source": [
    "### Load the Topography\n",
    "\n",
    "True surface topography is defined as an (N, 3) [numpy.ndarray](myst:numpy#numpy.ndarray).\n",
    "For the 2.5D problem geometry however, topography is an (N, 2) [numpy.ndarray](myst:numpy#numpy.ndarray), where the first coordinate represent along-line position and the second coordinate represents the vertical position. In this tutorial, we assume the topography and electrode locations are defined according to the 2.5D geometry."
   ]
  },
  {
   "cell_type": "code",
   "execution_count": 3,
   "metadata": {},
   "outputs": [
    {
     "ename": "FileNotFoundError",
     "evalue": "D:\\Documents\\Repositories\\user-tutorials\\notebooks\\06-ip\\inv_ip_2d_files\\topo_2d.txt not found.",
     "output_type": "error",
     "traceback": [
      "\u001b[1;31m---------------------------------------------------------------------------\u001b[0m",
      "\u001b[1;31mFileNotFoundError\u001b[0m                         Traceback (most recent call last)",
      "Cell \u001b[1;32mIn[3], line 2\u001b[0m\n\u001b[0;32m      1\u001b[0m \u001b[38;5;66;03m# Load 2D topography\u001b[39;00m\n\u001b[1;32m----> 2\u001b[0m topo_2d \u001b[38;5;241m=\u001b[39m \u001b[43mnp\u001b[49m\u001b[38;5;241;43m.\u001b[39;49m\u001b[43mloadtxt\u001b[49m\u001b[43m(\u001b[49m\u001b[38;5;28;43mstr\u001b[39;49m\u001b[43m(\u001b[49m\u001b[43mtopo_filename\u001b[49m\u001b[43m)\u001b[49m\u001b[43m)\u001b[49m\n",
      "File \u001b[1;32m~\\anaconda3\\lib\\site-packages\\numpy\\lib\\npyio.py:1338\u001b[0m, in \u001b[0;36mloadtxt\u001b[1;34m(fname, dtype, comments, delimiter, converters, skiprows, usecols, unpack, ndmin, encoding, max_rows, quotechar, like)\u001b[0m\n\u001b[0;32m   1335\u001b[0m \u001b[38;5;28;01mif\u001b[39;00m \u001b[38;5;28misinstance\u001b[39m(delimiter, \u001b[38;5;28mbytes\u001b[39m):\n\u001b[0;32m   1336\u001b[0m     delimiter \u001b[38;5;241m=\u001b[39m delimiter\u001b[38;5;241m.\u001b[39mdecode(\u001b[38;5;124m'\u001b[39m\u001b[38;5;124mlatin1\u001b[39m\u001b[38;5;124m'\u001b[39m)\n\u001b[1;32m-> 1338\u001b[0m arr \u001b[38;5;241m=\u001b[39m \u001b[43m_read\u001b[49m\u001b[43m(\u001b[49m\u001b[43mfname\u001b[49m\u001b[43m,\u001b[49m\u001b[43m \u001b[49m\u001b[43mdtype\u001b[49m\u001b[38;5;241;43m=\u001b[39;49m\u001b[43mdtype\u001b[49m\u001b[43m,\u001b[49m\u001b[43m \u001b[49m\u001b[43mcomment\u001b[49m\u001b[38;5;241;43m=\u001b[39;49m\u001b[43mcomment\u001b[49m\u001b[43m,\u001b[49m\u001b[43m \u001b[49m\u001b[43mdelimiter\u001b[49m\u001b[38;5;241;43m=\u001b[39;49m\u001b[43mdelimiter\u001b[49m\u001b[43m,\u001b[49m\n\u001b[0;32m   1339\u001b[0m \u001b[43m            \u001b[49m\u001b[43mconverters\u001b[49m\u001b[38;5;241;43m=\u001b[39;49m\u001b[43mconverters\u001b[49m\u001b[43m,\u001b[49m\u001b[43m \u001b[49m\u001b[43mskiplines\u001b[49m\u001b[38;5;241;43m=\u001b[39;49m\u001b[43mskiprows\u001b[49m\u001b[43m,\u001b[49m\u001b[43m \u001b[49m\u001b[43musecols\u001b[49m\u001b[38;5;241;43m=\u001b[39;49m\u001b[43musecols\u001b[49m\u001b[43m,\u001b[49m\n\u001b[0;32m   1340\u001b[0m \u001b[43m            \u001b[49m\u001b[43munpack\u001b[49m\u001b[38;5;241;43m=\u001b[39;49m\u001b[43munpack\u001b[49m\u001b[43m,\u001b[49m\u001b[43m \u001b[49m\u001b[43mndmin\u001b[49m\u001b[38;5;241;43m=\u001b[39;49m\u001b[43mndmin\u001b[49m\u001b[43m,\u001b[49m\u001b[43m \u001b[49m\u001b[43mencoding\u001b[49m\u001b[38;5;241;43m=\u001b[39;49m\u001b[43mencoding\u001b[49m\u001b[43m,\u001b[49m\n\u001b[0;32m   1341\u001b[0m \u001b[43m            \u001b[49m\u001b[43mmax_rows\u001b[49m\u001b[38;5;241;43m=\u001b[39;49m\u001b[43mmax_rows\u001b[49m\u001b[43m,\u001b[49m\u001b[43m \u001b[49m\u001b[43mquote\u001b[49m\u001b[38;5;241;43m=\u001b[39;49m\u001b[43mquotechar\u001b[49m\u001b[43m)\u001b[49m\n\u001b[0;32m   1343\u001b[0m \u001b[38;5;28;01mreturn\u001b[39;00m arr\n",
      "File \u001b[1;32m~\\anaconda3\\lib\\site-packages\\numpy\\lib\\npyio.py:975\u001b[0m, in \u001b[0;36m_read\u001b[1;34m(fname, delimiter, comment, quote, imaginary_unit, usecols, skiplines, max_rows, converters, ndmin, unpack, dtype, encoding)\u001b[0m\n\u001b[0;32m    973\u001b[0m     fname \u001b[38;5;241m=\u001b[39m os\u001b[38;5;241m.\u001b[39mfspath(fname)\n\u001b[0;32m    974\u001b[0m \u001b[38;5;28;01mif\u001b[39;00m \u001b[38;5;28misinstance\u001b[39m(fname, \u001b[38;5;28mstr\u001b[39m):\n\u001b[1;32m--> 975\u001b[0m     fh \u001b[38;5;241m=\u001b[39m \u001b[43mnp\u001b[49m\u001b[38;5;241;43m.\u001b[39;49m\u001b[43mlib\u001b[49m\u001b[38;5;241;43m.\u001b[39;49m\u001b[43m_datasource\u001b[49m\u001b[38;5;241;43m.\u001b[39;49m\u001b[43mopen\u001b[49m\u001b[43m(\u001b[49m\u001b[43mfname\u001b[49m\u001b[43m,\u001b[49m\u001b[43m \u001b[49m\u001b[38;5;124;43m'\u001b[39;49m\u001b[38;5;124;43mrt\u001b[39;49m\u001b[38;5;124;43m'\u001b[39;49m\u001b[43m,\u001b[49m\u001b[43m \u001b[49m\u001b[43mencoding\u001b[49m\u001b[38;5;241;43m=\u001b[39;49m\u001b[43mencoding\u001b[49m\u001b[43m)\u001b[49m\n\u001b[0;32m    976\u001b[0m     \u001b[38;5;28;01mif\u001b[39;00m encoding \u001b[38;5;129;01mis\u001b[39;00m \u001b[38;5;28;01mNone\u001b[39;00m:\n\u001b[0;32m    977\u001b[0m         encoding \u001b[38;5;241m=\u001b[39m \u001b[38;5;28mgetattr\u001b[39m(fh, \u001b[38;5;124m'\u001b[39m\u001b[38;5;124mencoding\u001b[39m\u001b[38;5;124m'\u001b[39m, \u001b[38;5;124m'\u001b[39m\u001b[38;5;124mlatin1\u001b[39m\u001b[38;5;124m'\u001b[39m)\n",
      "File \u001b[1;32m~\\anaconda3\\lib\\site-packages\\numpy\\lib\\_datasource.py:193\u001b[0m, in \u001b[0;36mopen\u001b[1;34m(path, mode, destpath, encoding, newline)\u001b[0m\n\u001b[0;32m    156\u001b[0m \u001b[38;5;124;03m\"\"\"\u001b[39;00m\n\u001b[0;32m    157\u001b[0m \u001b[38;5;124;03mOpen `path` with `mode` and return the file object.\u001b[39;00m\n\u001b[0;32m    158\u001b[0m \n\u001b[1;32m   (...)\u001b[0m\n\u001b[0;32m    189\u001b[0m \n\u001b[0;32m    190\u001b[0m \u001b[38;5;124;03m\"\"\"\u001b[39;00m\n\u001b[0;32m    192\u001b[0m ds \u001b[38;5;241m=\u001b[39m DataSource(destpath)\n\u001b[1;32m--> 193\u001b[0m \u001b[38;5;28;01mreturn\u001b[39;00m \u001b[43mds\u001b[49m\u001b[38;5;241;43m.\u001b[39;49m\u001b[43mopen\u001b[49m\u001b[43m(\u001b[49m\u001b[43mpath\u001b[49m\u001b[43m,\u001b[49m\u001b[43m \u001b[49m\u001b[43mmode\u001b[49m\u001b[43m,\u001b[49m\u001b[43m \u001b[49m\u001b[43mencoding\u001b[49m\u001b[38;5;241;43m=\u001b[39;49m\u001b[43mencoding\u001b[49m\u001b[43m,\u001b[49m\u001b[43m \u001b[49m\u001b[43mnewline\u001b[49m\u001b[38;5;241;43m=\u001b[39;49m\u001b[43mnewline\u001b[49m\u001b[43m)\u001b[49m\n",
      "File \u001b[1;32m~\\anaconda3\\lib\\site-packages\\numpy\\lib\\_datasource.py:533\u001b[0m, in \u001b[0;36mDataSource.open\u001b[1;34m(self, path, mode, encoding, newline)\u001b[0m\n\u001b[0;32m    530\u001b[0m     \u001b[38;5;28;01mreturn\u001b[39;00m _file_openers[ext](found, mode\u001b[38;5;241m=\u001b[39mmode,\n\u001b[0;32m    531\u001b[0m                               encoding\u001b[38;5;241m=\u001b[39mencoding, newline\u001b[38;5;241m=\u001b[39mnewline)\n\u001b[0;32m    532\u001b[0m \u001b[38;5;28;01melse\u001b[39;00m:\n\u001b[1;32m--> 533\u001b[0m     \u001b[38;5;28;01mraise\u001b[39;00m \u001b[38;5;167;01mFileNotFoundError\u001b[39;00m(\u001b[38;5;124mf\u001b[39m\u001b[38;5;124m\"\u001b[39m\u001b[38;5;132;01m{\u001b[39;00mpath\u001b[38;5;132;01m}\u001b[39;00m\u001b[38;5;124m not found.\u001b[39m\u001b[38;5;124m\"\u001b[39m)\n",
      "\u001b[1;31mFileNotFoundError\u001b[0m: D:\\Documents\\Repositories\\user-tutorials\\notebooks\\06-ip\\inv_ip_2d_files\\topo_2d.txt not found."
     ]
    }
   ],
   "source": [
    "# Load 2D topography\n",
    "topo_2d = np.loadtxt(str(topo_filename))"
   ]
  },
  {
   "cell_type": "code",
   "execution_count": null,
   "metadata": {},
   "outputs": [],
   "source": [
    "# Plot 2D topography\n",
    "fig = plt.figure(figsize=(10, 2))\n",
    "ax = fig.add_axes([0.1, 0.1, 0.8, 0.8])\n",
    "ax.plot(topo_2d[:, 0], topo_2d[:, -1], color='b', linewidth=1)\n",
    "ax.set_xlim([topo_2d[:, 0].min(), topo_2d[:, 0].max()])\n",
    "ax.set_xlabel('x (m)', labelpad=5)\n",
    "ax.set_ylabel('z (m)', labelpad=5)\n",
    "ax.grid(True)\n",
    "ax.set_title('Topography (Exaggerated z-axis)', fontsize=16, pad=10)\n",
    "plt.show(fig)"
   ]
  },
  {
   "cell_type": "markdown",
   "metadata": {},
   "source": [
    "### Load the IP Data"
   ]
  },
  {
   "cell_type": "markdown",
   "metadata": {},
   "source": [
    "**Option A: DCIP2D formatted data**\n",
    "\n",
    "For this tutorial, the observed data are organized with a UBC-GIF DCIP2D formatted data file. We can use the [read_dcip2d_ubc](myst:SimPEG#SimPEG.utils.io_utils.read_dcip2d_ubc) utility function to load data in this format. This function outputs a SimPEG [Data](myst:SimPEG#SimPEG.data.Data) object. The data are apparent chargeabilities in V/V."
   ]
  },
  {
   "cell_type": "code",
   "execution_count": null,
   "metadata": {},
   "outputs": [],
   "source": [
    "ip_data = read_dcip2d_ubc(data_filename, \"apparent_chargeability\", \"general\")"
   ]
  },
  {
   "cell_type": "markdown",
   "metadata": {},
   "source": [
    "**Option B: Survey from ABMN electrode locations**\n",
    "\n",
    "If you have CSV-formatted data containing the ABMN electrode locations, you will need to:\n",
    "\n",
    "* load the file into a [numpy.ndarray](myst:numpy#numpy.ndarray)\n",
    "* extract the data column and the A, B, M and N electrode locations\n",
    "* transform the electrode locations to the 2.5D geometry if necessary; i.e. (N, 2) [numpy.ndarray](myst:numpy#numpy.ndarray)\n",
    "* use the [generate_survey_from_abmn_locations](myst:SimPEG#SimPEG.electromagnetics.static.utils.generate_survey_from_abmn_locations) to generate a [survey](myst:SimPEG#SimPEG.electromagnetics.static.resistivity.Survey) object automatically.\n",
    "* Define a [Data](myst:SimPEG#SimPEG.data.Data) object attached to the survey and observed data.\n",
    "\n",
    "E.g. for a file containing electrode locations already formatted for a 2.5D geometry:\n",
    "```\n",
    "data_array = np.loadtxt(data_filename, skiprows=1)\n",
    "\n",
    "dobs = data_array[:, -1]\n",
    "A = data_array[:, 0:2]\n",
    "B = data_array[:, 2:4]\n",
    "M = data_array[:, 4:6]\n",
    "N = data_array[:, 6:8]\n",
    "\n",
    "survey = generate_survey_from_abmn_locations(\n",
    "    locations_a=A,\n",
    "    locations_b=B,\n",
    "    locations_m=M,\n",
    "    locations_n=M,\n",
    "    data_type='apparent_chargeability'\n",
    ")\n",
    "\n",
    "dc_data = data.Data(survey, dobs=dobs)\n",
    "```"
   ]
  },
  {
   "cell_type": "markdown",
   "metadata": {},
   "source": [
    "### Plot IP Data in Pseudo-Section\n",
    "\n",
    "Here we use the [plot_pseudosection](SimPEG#SimPEG.electromagnetics.static.utils.plot_pseudosection) utility function to represent the observed apparent chargeability data in pseudosection. In this case, the apparent chargeabilities are represented in V/V.\n",
    "\n",
    "**In the case of secondary voltage data,** you would need to convert the values to apparent chargeabilities. This accomplished by normalizing the secondary IP voltages by the DC voltages."
   ]
  },
  {
   "cell_type": "code",
   "execution_count": null,
   "metadata": {},
   "outputs": [],
   "source": [
    "# Plot apparent conductivity using pseudo-section\n",
    "mpl.rcParams.update({\"font.size\": 12})\n",
    "\n",
    "apparent_chargeability = ip_data.dobs\n",
    "\n",
    "fig = plt.figure(figsize=(12, 5))\n",
    "ax1 = fig.add_axes([0.1, 0.15, 0.75, 0.78])\n",
    "plot_pseudosection(\n",
    "    ip_data.survey,\n",
    "    apparent_chargeability,\n",
    "    \"contourf\",\n",
    "    ax=ax1,\n",
    "    scale=\"linear\",\n",
    "    cbar_label=\"V/V\",\n",
    "    mask_topography=True,\n",
    "    contourf_opts={\"levels\": 20, \"cmap\": mpl.cm.plasma},\n",
    ")\n",
    "ax1.set_title(\"Apparent Chargeability\")\n",
    "plt.show()"
   ]
  },
  {
   "cell_type": "markdown",
   "metadata": {},
   "source": [
    "## Assign Uncertainties\n",
    "\n",
    "Inversion with SimPEG requires that we define the uncertainties on our data; that is, an estimate of the standard deviation of the noise on our data assuming it is uncorrelated Gaussian with zero mean. An online resource explaining uncertainties and their role in the inversion can be found [here](https://giftoolscookbook.readthedocs.io/en/latest/content/fundamentals/Uncertainties.html).\n",
    "\n",
    "**For secondary voltage data,** we generally apply a percent uncertainty and a very small floor uncertainty to all data. Differences in electrode spacing and subsurface conductivity result in secondary voltage IP data that span many orders of magnitude. A percent uncertainty ensures all data are fit equally. Depending on the quality of the data, we may choose a percent uncertainty between 2% - 10%. The floor uncertainty ensures stability when there are zero-crossings or erroneously small voltages.\n",
    "\n",
    "**For apparent chargeability data,** we generally apply a floor uncertainty to all data. This is because apparent chargeability data is obtained by normalizing the secondary voltage defining the IP signature by the DC voltage. This effectively removes the influence of electrode spacing on the amplitude of the datum. Here, we apply a floor uncertainty of 5e-3 V/V to all data."
   ]
  },
  {
   "cell_type": "code",
   "execution_count": null,
   "metadata": {},
   "outputs": [],
   "source": [
    "ip_data.standard_deviation = 5e-3 * np.ones_like(ip_data.dobs)"
   ]
  },
  {
   "cell_type": "markdown",
   "metadata": {},
   "source": [
    "## Design a (Tree) Mesh\n",
    "\n",
    "IP inversion is carried out on the same mesh that is used for DC resistivity inversion. Here, we reproduce the survey-based meshing approach that was used in the  [2.5D Inversion of DC Resistivity Data](../05-dcr/inv_dcr_2d.ipynb) tutorial. The best-practices for meshes design for DC/IP problems is provided in the [2.5D Forward Simulation of DC Resistivity Data](../05-dcr/fwd_dcr_2d.ipynb) tutorial.\n",
    "\n",
    "**Tutorial mesh:** Here, a minimum cell width of 4 m (or 1/10 the minimum electrode spacing) is used within our survey region. The largest electrode spacing was 400 m, so a the padding was extended at least 1200 m from the survey region. Using the [refine_surface](myst:discretize#discretize.TreeMesh.refine_surface) method, we refine the tree mesh where there is significant topography. And using the [refine_points](myst:discretize#discretize.TreeMesh.refine_points) methods, we refine based on electrodes locations. Visit the [tree mesh](myst:discretize#discretize.TreeMesh) API to see additional refinement methods."
   ]
  },
  {
   "cell_type": "code",
   "execution_count": null,
   "metadata": {},
   "outputs": [],
   "source": [
    "dh = 4  # base cell width\n",
    "dom_width_x = 3200.0  # domain width x\n",
    "dom_width_z = 2400.0  # domain width z\n",
    "nbcx = 2 ** int(np.round(np.log(dom_width_x / dh) / np.log(2.0)))  # num. base cells x\n",
    "nbcz = 2 ** int(np.round(np.log(dom_width_z / dh) / np.log(2.0)))  # num. base cells z\n",
    "\n",
    "# Define the base mesh with top at z = 0 m\n",
    "hx = [(dh, nbcx)]\n",
    "hz = [(dh, nbcz)]\n",
    "mesh = TreeMesh([hx, hz], x0=\"CN\")\n",
    "\n",
    "# Shift top to maximum topography\n",
    "mesh.origin = mesh.origin + np.r_[0., topo_2d[:, -1].max()]\n",
    "\n",
    "# Mesh refinement based on topography\n",
    "mesh.refine_surface(\n",
    "    topo_2d, padding_cells_by_level=[0, 0, 4, 4], finalize=False,\n",
    ")\n",
    "\n",
    "# Extract unique electrode locations.\n",
    "unique_locations = ip_data.survey.unique_electrode_locations\n",
    "\n",
    "# Mesh refinement near electrodes.\n",
    "mesh.refine_points(\n",
    "    unique_locations, padding_cells_by_level=[8, 12, 6, 6], finalize=False\n",
    ")\n",
    "\n",
    "mesh.finalize()"
   ]
  },
  {
   "cell_type": "markdown",
   "metadata": {},
   "source": [
    "## Define the Active Cells\n",
    "\n",
    "Use the [active_from_xyz](myst:discretize#discretize.utils.active_from_xyz) utility function to obtain the indices of the active mesh cells from topography (e.g. cells below surface)."
   ]
  },
  {
   "cell_type": "code",
   "execution_count": null,
   "metadata": {},
   "outputs": [],
   "source": [
    "# Indices of the active mesh cells from topography (e.g. cells below surface)\n",
    "active_cells = active_from_xyz(mesh, topo_2d)\n",
    "\n",
    "# number of active cells\n",
    "n_active = np.sum(active_cells)"
   ]
  },
  {
   "cell_type": "markdown",
   "metadata": {},
   "source": [
    "## Project Electrodes to Discretized Topography\n",
    "\n",
    "Surface IP data will not be modeled accurately if the electrodes are modeled as living above or below the surface. It is especially problematic when electrodes are modeled as living in the air. Prior to inverting surface IP data, we must project the electrodes from their true elevation to the surface of the *discretized* topography. This is done using the [drape_electrodes_on_topography](myst:SimPEG#SimPEG.electromagnetics.static.resistivity.Survey.drape_electrodes_on_topography) method."
   ]
  },
  {
   "cell_type": "code",
   "execution_count": null,
   "metadata": {},
   "outputs": [],
   "source": [
    "ip_data.survey.drape_electrodes_on_topography(mesh, active_cells, option=\"top\")"
   ]
  },
  {
   "cell_type": "markdown",
   "metadata": {},
   "source": [
    "## Define the Background Conductivity/Resistivity\n",
    "\n",
    "In order to invert IP data, we require the background conductivity/resistivity model. **In practice,** a conductivity/resistivity model is recovered by inverting DC resistivity data; see the [2.5D Inversion of DC Resistivity Data](../05-dcr/inv_dcr_2d.ipynb) tutorial. Since the conductivity/resistivity model greatly impacts the sensitivities for the IP problem, IP inversion is most successful when the recovered conductivity/resistivity model accurately characterizes the true subsurface distribution of electrical properties.\n",
    "\n",
    "**For the tutorial,** we will demonstrate the importance of using an appropriate background conductivity model for IP inversion. For our weighted least-squares inversion approach, we use a halfspace as the background conductivity model. For the iteratively re-weighted least-squares inversion approach, we use the true subsurface conductivity model. In both cases, the model is defined on the active mesh cells, and we must use the [SimPEG.maps.InjectActiveCells](myst:SimPEG#SimPEG.maps.InjectActiveCells) mapping to map from the model space to the conductivities on the entire mesh."
   ]
  },
  {
   "cell_type": "code",
   "execution_count": null,
   "metadata": {},
   "outputs": [],
   "source": [
    "# Define electrical conductivities in S/m\n",
    "air_conductivity = 1e-8\n",
    "background_conductivity = 1e-2\n",
    "conductor_conductivity = 1e-1\n",
    "resistor_conductivity = 1e-3"
   ]
  },
  {
   "cell_type": "code",
   "execution_count": null,
   "metadata": {},
   "outputs": [],
   "source": [
    "# Define halfspace conductivity model\n",
    "halfspace_conductivity_model = background_conductivity * np.ones(n_active)\n",
    "\n",
    "# Define true conductivit model\n",
    "true_conductivity_model = halfspace_conductivity_model.copy()\n",
    "\n",
    "ind_conductor = model_builder.get_indices_sphere(\n",
    "    np.r_[-120.0, 40.0], 60.0, mesh.cell_centers[active_cells, :]\n",
    ")\n",
    "true_conductivity_model[ind_conductor] = conductor_conductivity\n",
    "\n",
    "ind_resistor = model_builder.get_indices_sphere(\n",
    "    np.r_[120.0, 72.0], 60.0, mesh.cell_centers[active_cells, :]\n",
    ")\n",
    "true_conductivity_model[ind_resistor] = resistor_conductivity"
   ]
  },
  {
   "cell_type": "code",
   "execution_count": null,
   "metadata": {},
   "outputs": [],
   "source": [
    "# Mapping from conductivity model to conductivity on all cells\n",
    "conductivity_map = maps.InjectActiveCells(mesh, active_cells, air_conductivity)"
   ]
  },
  {
   "cell_type": "code",
   "execution_count": null,
   "metadata": {},
   "outputs": [],
   "source": [
    "# Mapping to neglect air cells in plot\n",
    "plotting_map = maps.InjectActiveCells(mesh, active_cells, np.nan)"
   ]
  },
  {
   "cell_type": "code",
   "execution_count": null,
   "metadata": {},
   "outputs": [],
   "source": [
    "fig = plt.figure(figsize=(9, 4))\n",
    "\n",
    "norm = LogNorm(vmin=1e-3, vmax=1e-1)\n",
    "\n",
    "ax1 = fig.add_axes([0.14, 0.17, 0.68, 0.7])\n",
    "mesh.plot_image(\n",
    "    plotting_map * true_conductivity_model,\n",
    "    ax=ax1,\n",
    "    grid=False,\n",
    "    pcolor_opts={\"norm\": norm, \"cmap\": mpl.cm.RdYlBu_r}\n",
    ")\n",
    "ax1.set_xlim(-500, 500)\n",
    "ax1.set_ylim(-300, 200)\n",
    "ax1.set_title(\"True Background Conductivity\")\n",
    "ax1.set_xlabel(\"x (m)\")\n",
    "ax1.set_ylabel(\"z (m)\")\n",
    "\n",
    "ax2 = fig.add_axes([0.84, 0.17, 0.03, 0.7])\n",
    "cbar = mpl.colorbar.ColorbarBase(\n",
    "    ax2, norm=norm, orientation=\"vertical\", cmap=mpl.cm.RdYlBu_r\n",
    ")\n",
    "cbar.set_label(r\"$\\sigma$ (S/m)\", rotation=270, labelpad=15, size=12)\n",
    "\n",
    "plt.show()"
   ]
  },
  {
   "cell_type": "markdown",
   "metadata": {},
   "source": [
    "## Weighted Least-Squares Inversion\n",
    "\n",
    "Here, a weighted least-squares inversion approach is used to apparent chargeability data to recover an intrinsic chargeability model."
   ]
  },
  {
   "cell_type": "markdown",
   "metadata": {},
   "source": [
    "### Mapping from the Model to the Mesh\n",
    "\n",
    "In SimPEG, the term 'model' is not synonymous with the physical property values defined on the mesh. For whatever model we choose, we must define a mapping from the set of model parameters (a [1D numpy.ndarray](myst:numpy#numpy.ndarray)) to the physical property values of all cells in the mesh. Mappings are created using the [SimPEG.maps](myst:SimPEG#SimPEG.maps.IdentityMap) module.\n",
    "\n",
    "SimPEG uses a linearized formulation for simulating IP data; see [Simulation2DCellCentered](myst:SimPEG#SimPEG.electromagnetics.static.induced_polarization.Simulation2DCellCentered) or [Simulation2DNodal](myst:SimPEG#SimPEG.electromagnetics.static.induced_polarization.Simulation2DNodal). In this formulation, any standard definition of the chargeability can be inverted. And the units of the recovered chargeability values is the same as the data units; e.g. intrinsic chargeability (V/V or mV/V) or integrated chargeability (ms). If you are inverting secondary voltages however, the chargeability model must represent intrinsic chargeabilities ($0 \\leq \\eta \\leq 1$) in V/V.\n",
    "\n",
    "**In this tutorial,** the model parameters are the subsurface chargeabilities ($0 \\leq \\eta \\leq 1$) in V/V. We use the [SimPEG.maps.InjectActiveCells](myst:SimPEG#SimPEG.maps.InjectActiveCells) map to project the active cell chargeabilities to the entire mesh. "
   ]
  },
  {
   "cell_type": "code",
   "execution_count": null,
   "metadata": {},
   "outputs": [],
   "source": [
    "chargeability_map = maps.InjectActiveCells(mesh, active_cells, 0.)"
   ]
  },
  {
   "cell_type": "markdown",
   "metadata": {},
   "source": [
    "### Starting and Reference Models for IP Inversion\n",
    "\n",
    "Here, we would create starting and/or reference models for the IP inversion as well as the mapping from the model space to the active cells. Starting and reference models can be a constant background value or contain a-priori structures. Here, the starting model is the 1e-6 V/V. It should be noted that the staring model **cannot be vector of zeros,** otherwise the inversion will be unable to compute a gradient direction at the first iteration."
   ]
  },
  {
   "cell_type": "code",
   "execution_count": null,
   "metadata": {},
   "outputs": [],
   "source": [
    "# Create staring model from log-conductivity\n",
    "starting_chargeability_model = 1e-6 * np.ones(n_active)\n",
    "\n",
    "# Zero reference conductivity model\n",
    "reference_chargeability_model = np.zeros_like(starting_chargeability_model)"
   ]
  },
  {
   "cell_type": "markdown",
   "metadata": {},
   "source": [
    "### Define the Forward Simulation\n",
    "\n",
    "A simulation object defining the forward problem is required in order to predict data and calculate misfits for recovered models. A comprehensive description of the simulation object for 2.5D IP was discussed in the [2.5D IP Forward Simulation](fwd_dcip_2d.ipynb) tutorial. Here, we use the [Simulation2DNodel](myst:SimPEG#SimPEG.electromagnetics.static.induced_polarization.Simulation2DNodal) simulation which solves for the electric potential on mesh nodes.\n",
    "\n",
    "Since we are using a background *conductivity* model, we use ``sigma`` to define the background conductivity on the entire mesh. Because the IP problem has been linearized, we store the sensitivities for the inversion using ``storeJ``."
   ]
  },
  {
   "cell_type": "code",
   "execution_count": null,
   "metadata": {},
   "outputs": [],
   "source": [
    "simulation_L2 = ip.Simulation2DNodal(\n",
    "    mesh,\n",
    "    survey=ip_data.survey,\n",
    "    sigma=conductivity_map * halfspace_conductivity_model,\n",
    "    etaMap=chargeability_map,\n",
    "    storeJ=True\n",
    ")"
   ]
  },
  {
   "cell_type": "markdown",
   "metadata": {},
   "source": [
    "### Define the Data Misfit\n",
    "\n",
    "To understand the role of the data misfit in the inversion, please visit [this online resource](https://giftoolscookbook.readthedocs.io/en/latest/content/fundamentals/Uncertainties.html).\n",
    "Here, we use the [L2DataMisfit](myst:SimPEG#SimPEG.data_misfit.L2DataMisfit) class to define the data misfit. In this case, the data misfit is the L2 norm of the weighted residual between the observed data and the data predicted for a given model. When instantiating the data misfit object within SimPEG, we must assign an appropriate *data object* and *simulation object* as properties."
   ]
  },
  {
   "cell_type": "code",
   "execution_count": null,
   "metadata": {},
   "outputs": [],
   "source": [
    "dmis_L2 = data_misfit.L2DataMisfit(simulation=simulation_L2, data=ip_data)"
   ]
  },
  {
   "cell_type": "markdown",
   "metadata": {},
   "source": [
    "### Define the Regularization\n",
    "\n",
    "To understand the role of the regularization in the inversion, please visit [this online resource](https://giftoolscookbook.readthedocs.io/en/latest/content/fundamentals/ObjectiveFunction.html). Here, we use the [WeightedLeastSquares](myst:SimPEG#SimPEG.regularization.WeightedLeastSquares) regularization class to constrain the inversion result. Length scales along x and y are used to balance the smallness and smoothness terms. Here, length scales of 5 are used to more emphasis more smoothness in the recovered model. The reference model is only applied to the smallness term.\n",
    "\n",
    "By default, the regularization acts on the model parameters; which in the case are the chargeabilities of the active cells. So we need to specify which cells are active in the regularization. And if we wanted to apply the regularization to a function of the model parameters, we would need to set an approprate mapping object using the ``mapping`` keyword argument."
   ]
  },
  {
   "cell_type": "code",
   "execution_count": null,
   "metadata": {},
   "outputs": [],
   "source": [
    "reg_L2 = regularization.WeightedLeastSquares(\n",
    "    mesh,\n",
    "    active_cells=active_cells,\n",
    "    length_scale_x=5.,\n",
    "    length_scale_y=5.,\n",
    "    reference_model=reference_chargeability_model,\n",
    "    reference_model_in_smooth=False\n",
    ")"
   ]
  },
  {
   "cell_type": "markdown",
   "metadata": {},
   "source": [
    "### Define the Optimization Algorithm\n",
    "\n",
    "To understand the role of the optimization algorithm in the inversion, please visit this online resource. Here, we use the [ProjectedGNCG](myst:SimPEG#SimPEG.optimization.ProjectedGNCG) class to solve the optimization problem using projected Gauss-Newton with conjugate gradietn solver. Reasonable default values have generally been set for the properties of each optimization class. However, the user may choose to set custom values; e.g. the accuracy tolerance for the conjugate gradient solver or the number of line searches. Here, the `lower` property is set to 0 to ensure recovered chargeability values are positive."
   ]
  },
  {
   "cell_type": "code",
   "execution_count": null,
   "metadata": {},
   "outputs": [],
   "source": [
    "opt_L2 = optimization.ProjectedGNCG(\n",
    "    maxIter=40,\n",
    "    lower=0.,\n",
    "    maxIterLS=20,\n",
    "    maxIterCG=20,\n",
    "    tolCG=1e-2\n",
    ")"
   ]
  },
  {
   "cell_type": "markdown",
   "metadata": {},
   "source": [
    "### Define the Inverse Problem\n",
    "\n",
    "We use the [BaseInvProblem](myst:SimPEG#SimPEG.inverse_problem.BaseInvProblem) class to fully define the inverse problem that is solved at each beta (trade-off parameter) iteration. The inverse problem requires appropriate *data misfit*, *regularization* and *optimization* objects."
   ]
  },
  {
   "cell_type": "code",
   "execution_count": null,
   "metadata": {},
   "outputs": [],
   "source": [
    "inv_prob_L2 = inverse_problem.BaseInvProblem(dmis_L2, reg_L2, opt_L2)"
   ]
  },
  {
   "cell_type": "markdown",
   "metadata": {},
   "source": [
    "### Provide Inversion Directives\n",
    "\n",
    "Directives represent operations that are applied while the inversion is running. Here, we apply common directives for weighted least-squares inversion of DC resistivity data and describe their roles. These are:\n",
    "\n",
    "- [UpdateSensitivityWeights](myst:SimPEG#SimPEG.directives.UpdateSensitivityWeights): apply sensitivity weighting to counteract the natural tendancy of DC resistivity inversion to place materials near the electrodes. Since the problem is non-linear and the sensitivities are updated with every model, we set `every_iteration=True`.\n",
    "\n",
    "- [UpdatePreconditioner](myst:SimPEG#SimPEG.directives.UpdatePreconditioner): Apply Jacobi preconditioner when solving optimization problem to reduce the number of conjugate gradient iterations. We set `update_every_iteration=True` because the ideal preconditioner is model-dependent.\n",
    "\n",
    "- [BetaEstimate_ByEig](myst:SimPEG#SimPEG.directives.BetaEstimate_ByEig): Compute and set starting trade-off parameter (beta) based on largest eigenvalues.\n",
    "\n",
    "- [BetaSchedule](myst:SimPEG#SimPEG.directives.BetaSchedule): Size reduction of the trade-off parameter at every beta iteration, and the number of Gauss-Newton iterations for each beta. In general, a `coolingFactor` between 1.5 and 2.5, and `coolingRate` of 2 or 3 works well for DC resistivity inversion. Cooling beta too quickly will result in portions of the model getting trapped in local minima. And we will not be finding the solution that minimizes the optimization problem if the cooling rate is too small.\n",
    "\n",
    "- [TargetMisfit](myst:SimPEG#SimPEG.directives.TargetMisfit): Terminates the inversion when the data misfit equals the target misfit. A `chifact=1` terminates the inversion when the data misfit equals the number of data.\n",
    "\n",
    "\n",
    "The directive objects are organized in a ``list``. Upon starting the inversion or updating the recovered model at each iteration, the inversion will call each directive within the list **in order**. The order of the directives matters, and SimPEG will throw an error if directives are organized into an improper order. Some directives, like the ``BetaEstimate_ByEig`` are only used when starting the inversion. Other directives, like ``UpdatePreconditionner``, are used whenever the model is updated."
   ]
  },
  {
   "cell_type": "code",
   "execution_count": null,
   "metadata": {},
   "outputs": [],
   "source": [
    "sensitivity_weights = directives.UpdateSensitivityWeights(every_iteration=True)\n",
    "update_jacobi = directives.UpdatePreconditioner(update_every_iteration=True)\n",
    "starting_beta = directives.BetaEstimate_ByEig(beta0_ratio=20)\n",
    "beta_schedule = directives.BetaSchedule(coolingFactor=2., coolingRate=2)\n",
    "target_misfit = directives.TargetMisfit(chifact=1.0)\n",
    "\n",
    "directives_list_L2 = [\n",
    "    sensitivity_weights,\n",
    "    update_jacobi,\n",
    "    starting_beta,\n",
    "    beta_schedule,\n",
    "    target_misfit\n",
    "]"
   ]
  },
  {
   "cell_type": "markdown",
   "metadata": {},
   "source": [
    "### Define and Run the Inversion\n",
    "\n",
    "We define the inversion using the [BaseInversion](myst:SimPEG#SimPEG.inversion.BaseInversion) class. The inversion class must be instatiated with an appropriate *inverse problem* object and *directives list*. The ``run`` method, along with a starting model, is respondible for running the inversion. The output is a 1D numpy.ndarray containing the recovered model parameters"
   ]
  },
  {
   "cell_type": "code",
   "execution_count": null,
   "metadata": {},
   "outputs": [],
   "source": [
    "# Here we combine the inverse problem and the set of directives\n",
    "inv_L2 = inversion.BaseInversion(inv_prob_L2, directives_list_L2)\n",
    "\n",
    "# Run the inversion\n",
    "# recovered_model_L2 = inv_L2.run(np.log(0.01) * np.ones(n_param))\n",
    "recovered_chargeability_L2 = inv_L2.run(starting_chargeability_model)"
   ]
  },
  {
   "cell_type": "markdown",
   "metadata": {},
   "source": [
    "### Plot the Data Misfit\n",
    "\n",
    "This step is necessary for determining whether the recovered model accurately reproduces observed anomalies. Here, we plot the observed data, predicted data for the recovered model, and the data misfit. As we can see, the recovered model reproduces the observed data quite well. And the data misfit map indicates we are not overfitting certain electrodes relative to others. We applied a uniform floor uncertainty to all data. However, if the uncertainty on each datum is different, we may choose to plot the normalized data misfit; i.e. the misfit normalized by the uncertainties."
   ]
  },
  {
   "cell_type": "code",
   "execution_count": null,
   "metadata": {},
   "outputs": [],
   "source": [
    "# Predicted data from recovered model\n",
    "dpred = inv_prob_L2.dpred\n",
    "dobs = ip_data.dobs\n",
    "std = ip_data.standard_deviation\n",
    "\n",
    "# Plot\n",
    "fig = plt.figure(figsize=(9, 11))\n",
    "data_array = [np.abs(dobs), np.abs(dpred), (dobs - dpred)]\n",
    "plot_title = [\"Observed\", \"Predicted\", \"Data Misfit\"]\n",
    "plot_units = [\"V/V\", \"V/V\", \"V/V\"]\n",
    "scale = [\"linear\", \"linear\", \"lindear\"]\n",
    "cmap_list = [mpl.cm.plasma, mpl.cm.plasma, mpl.cm.RdYlBu_r]\n",
    "\n",
    "ax1 = 3 * [None]\n",
    "cax1 = 3 * [None]\n",
    "cbar = 3 * [None]\n",
    "cplot = 3 * [None]\n",
    "\n",
    "for ii in range(0, 3):\n",
    "    ax1[ii] = fig.add_axes([0.15, 0.72 - 0.33 * ii, 0.65, 0.21])\n",
    "    cax1[ii] = fig.add_axes([0.81, 0.72 - 0.33 * ii, 0.03, 0.21])\n",
    "    cplot[ii] = plot_pseudosection(\n",
    "        ip_data.survey,\n",
    "        data_array[ii],\n",
    "        \"contourf\",\n",
    "        ax=ax1[ii],\n",
    "        cax=cax1[ii],\n",
    "        scale=scale[ii],\n",
    "        cbar_label=plot_units[ii],\n",
    "        mask_topography=True,\n",
    "        contourf_opts={\"levels\": 25, \"cmap\": cmap_list[ii]},\n",
    "    )\n",
    "    ax1[ii].set_title(plot_title[ii])\n",
    "\n",
    "plt.show()"
   ]
  },
  {
   "cell_type": "markdown",
   "metadata": {},
   "source": [
    "### Plot the Recovered Model\n",
    "\n",
    "As we can see, the inversion recovers a smooth model. We recover a confined chargeable structure centered at (-160, 50). We also recover an extreme chargeable feature at depth at x < 0 m. Where sensitivity is low, we expect the inversion to default to the reference model values (i.e. zero) given the regularization we chose. As we will see, the second feature is an artifact of choosing an inappropriate background conductivity model"
   ]
  },
  {
   "cell_type": "code",
   "execution_count": null,
   "metadata": {},
   "outputs": [],
   "source": [
    "fig = plt.figure(figsize=(9, 4))\n",
    "\n",
    "norm = Normalize(vmin=0., vmax=0.2)\n",
    "\n",
    "ax1 = fig.add_axes([0.14, 0.17, 0.68, 0.7])\n",
    "mesh.plot_image(\n",
    "    plotting_map * recovered_chargeability_L2,\n",
    "    normal=\"Y\",\n",
    "    ax=ax1,\n",
    "    grid=False,\n",
    "    pcolor_opts={\"norm\": norm, \"cmap\": mpl.cm.plasma}\n",
    ")\n",
    "ax1.set_xlim(-500, 500)\n",
    "ax1.set_ylim(-300, 200)\n",
    "ax1.set_title(\"Recovered L2-Model (Halfspace Background Conductivity)\")\n",
    "ax1.set_xlabel(\"x (m)\")\n",
    "ax1.set_ylabel(\"z (m)\")\n",
    "\n",
    "ax2 = fig.add_axes([0.84, 0.17, 0.03, 0.7])\n",
    "cbar = mpl.colorbar.ColorbarBase(\n",
    "    ax2, norm=norm, orientation=\"vertical\", cmap=mpl.cm.plasma\n",
    ")\n",
    "cbar.set_label(\"V/V\", rotation=270, labelpad=15, size=12)\n",
    "\n",
    "plt.show()"
   ]
  },
  {
   "cell_type": "markdown",
   "metadata": {},
   "source": [
    "## Iteratively Re-weighted Least-Squares Inversion\n",
    "\n",
    "Here, we provide a step-by-step best-practices approach for IRLS inversion of apparent chargeability data on a tree mesh to recover a chargeability model. Many of the steps are the same as our previous approach. As a result, we will avoiding repeating information whenever possible. It should be noted that once the IRLS inversion is complete, we can extract the least-squares model the is recovered prior to performing the IRLS step. This will be done to compare least-squares inversion results for poor and appropriate background conductivity models. \n",
    "\n",
    "Because we are changing the background conductivity, the sensitivities used for the L2 inversion cannot be reused for the IRLS inversion. Here, we define the simulation that can be used for the IRLS inversion, where the true background conductivity is true."
   ]
  },
  {
   "cell_type": "code",
   "execution_count": null,
   "metadata": {},
   "outputs": [],
   "source": [
    "simulation_irls = ip.Simulation2DNodal(\n",
    "    mesh,\n",
    "    survey=ip_data.survey,\n",
    "    sigma=conductivity_map * true_conductivity_model,\n",
    "    etaMap=chargeability_map,\n",
    "    storeJ=True\n",
    ")"
   ]
  },
  {
   "cell_type": "markdown",
   "metadata": {},
   "source": [
    "### Define the Data Misfit"
   ]
  },
  {
   "cell_type": "code",
   "execution_count": null,
   "metadata": {},
   "outputs": [],
   "source": [
    "dmis_irls = data_misfit.L2DataMisfit(simulation=simulation_irls, data=ip_data)"
   ]
  },
  {
   "cell_type": "markdown",
   "metadata": {},
   "source": [
    "### Define the Regularization\n",
    "\n",
    "Here, we use the [Sparse](myst:SimPEG#SimPEG.regularization.Sparse) regularization class to constrain the inversion result using an IRLS approach. Length scales along x and y are used to balance the smallness and smoothness terms. We use the same length scales that were used in the weighted least-squares inversion. Here, we apply a 0-norm on the smallness and a 2-norm on the smoothness."
   ]
  },
  {
   "cell_type": "code",
   "execution_count": null,
   "metadata": {},
   "outputs": [],
   "source": [
    "reg_irls = regularization.Sparse(\n",
    "    mesh,\n",
    "    active_cells=active_cells,\n",
    "    length_scale_x=5.,\n",
    "    length_scale_y=5.,\n",
    "    norms=[0, 2, 2],\n",
    "    reference_model=reference_chargeability_model,\n",
    "    reference_model_in_smooth=False\n",
    ")"
   ]
  },
  {
   "cell_type": "markdown",
   "metadata": {},
   "source": [
    "### Define the Optimization"
   ]
  },
  {
   "cell_type": "code",
   "execution_count": null,
   "metadata": {},
   "outputs": [],
   "source": [
    "opt_irls = optimization.ProjectedGNCG(\n",
    "    maxIter=40,\n",
    "    lower=0.,\n",
    "    maxIterLS=20,\n",
    "    maxIterCG=20,\n",
    "    tolCG=1e-2\n",
    ")"
   ]
  },
  {
   "cell_type": "markdown",
   "metadata": {},
   "source": [
    "### Define the Inverse Problem"
   ]
  },
  {
   "cell_type": "code",
   "execution_count": null,
   "metadata": {},
   "outputs": [],
   "source": [
    "inv_prob_irls = inverse_problem.BaseInvProblem(dmis_irls, reg_irls, opt_irls)"
   ]
  },
  {
   "cell_type": "markdown",
   "metadata": {},
   "source": [
    "### Provide Inversion Directives\n",
    "\n",
    "Here, we create common directives for IRLS inversion of total magnetic intensity data and describe their roles. In additon to the [UpdateSensitivityWeights](myst:SimPEG#SimPEG.directives.UpdateSensitivityWeights), [UpdatePreconditioner](myst:SimPEG#SimPEG.directives.UpdatePreconditioner) and [BetaEstimate_ByEig](myst:SimPEG#SimPEG.directives.BetaEstimate_ByEig)  (described before), inversion with sparse-norms requires the [Update_IRLS](myst:SimPEG#SimPEG.directives.Update_IRLS) directive.\n",
    "\n",
    "You will notice that we don't use the [BetaSchedule](myst:SimPEG#SimPEG.directives.BetaSchedule) and [TargetMisfit](myst:SimPEG#SimPEG.directives.TargetMisfit) directives. Here, the beta cooling schedule is set in the [Update_IRLS](myst:SimPEG#SimPEG.directives.Update_IRLS) directive using the `coolingFactor` and `coolingRate` properties. The target misfit for the L2 portion of the IRLS approach is set with the `chifact_start` property. "
   ]
  },
  {
   "cell_type": "code",
   "execution_count": null,
   "metadata": {},
   "outputs": [],
   "source": [
    "sensitivity_weights_irls = directives.UpdateSensitivityWeights(every_iteration=True)\n",
    "update_irls = directives.Update_IRLS(\n",
    "    coolingFactor=2,\n",
    "    coolingRate=2,\n",
    "    f_min_change=1e-4,\n",
    "    max_irls_iterations=30,\n",
    "    chifact_start=1.0,\n",
    ")\n",
    "starting_beta_irls = directives.BetaEstimate_ByEig(beta0_ratio=20)\n",
    "update_jacobi_irls = directives.UpdatePreconditioner(update_every_iteration=True)\n",
    "\n",
    "directives_list_irls = [\n",
    "    update_irls,\n",
    "    sensitivity_weights_irls,\n",
    "    starting_beta_irls,\n",
    "    update_jacobi_irls\n",
    "]"
   ]
  },
  {
   "cell_type": "markdown",
   "metadata": {},
   "source": [
    "### Define and Run the Inversion"
   ]
  },
  {
   "cell_type": "code",
   "execution_count": null,
   "metadata": {
    "scrolled": false
   },
   "outputs": [],
   "source": [
    "inv_irls = inversion.BaseInversion(inv_prob_irls, directives_list_irls)\n",
    "recovered_chargeability_irls = inv_irls.run(starting_chargeability_model)"
   ]
  },
  {
   "cell_type": "markdown",
   "metadata": {},
   "source": [
    "## Plot True, L2 and IRLS Models\n",
    "\n",
    "Here, we compare the models recovered from weighted least-squares and iteratively re-weighted least-squares inversion to the true model. As we will see, the L2-model extracted from the IRLS inversion is a great improvement over the L2-model we recovered via weighted least-squares inversion. And the only difference is the background conductivity model."
   ]
  },
  {
   "cell_type": "code",
   "execution_count": null,
   "metadata": {},
   "outputs": [],
   "source": [
    "# Recreate True Model on a Tensor Mesh\n",
    "true_background_chargeability = 0.\n",
    "true_conductor_chargeability = 1e-1\n",
    "\n",
    "true_chargeability_model = true_background_chargeability * np.ones(n_active)\n",
    "\n",
    "ind_conductor = model_builder.get_indices_sphere(\n",
    "    np.r_[-120.0, 40.0], 60.0, mesh.cell_centers[active_cells, :]\n",
    ")\n",
    "true_chargeability_model[ind_conductor] = true_conductor_chargeability"
   ]
  },
  {
   "cell_type": "code",
   "execution_count": null,
   "metadata": {},
   "outputs": [],
   "source": [
    "# Extract the L2 Model from the IRLS Inversion\n",
    "recovered_chargeability_L2_good = inv_prob_irls.l2model"
   ]
  },
  {
   "cell_type": "code",
   "execution_count": null,
   "metadata": {},
   "outputs": [],
   "source": [
    "norm = Normalize(vmin=0., vmax=0.1)\n",
    "\n",
    "fig = plt.figure(figsize=(9, 16))\n",
    "ax1 = 4 * [None]\n",
    "ax2 = 4 * [None]\n",
    "title_str = [\n",
    "    \"True chargeability Model\",\n",
    "    \"Recovered L2-Model (halfspace background)\",\n",
    "    \"Recovered L2-Model (true background)\",\n",
    "    \"Recovered IRLS-Model (true background)\",\n",
    "]\n",
    "plotting_model = [\n",
    "    true_chargeability_model,\n",
    "    recovered_chargeability_L2,\n",
    "    recovered_chargeability_L2_good,\n",
    "    recovered_chargeability_irls,\n",
    "]\n",
    "\n",
    "for ii in range(0, 4):\n",
    "    ax1[ii] = fig.add_axes([0.14, 0.78 - 0.25 * ii, 0.68, 0.18])\n",
    "    mesh.plot_image(\n",
    "        plotting_map * plotting_model[ii],\n",
    "        ax=ax1[ii],\n",
    "        grid=False,\n",
    "        pcolor_opts={\"norm\": norm, \"cmap\": mpl.cm.plasma},\n",
    "    )\n",
    "    ax1[ii].set_xlim(-500, 500)\n",
    "    ax1[ii].set_ylim(-300, 200)\n",
    "    ax1[ii].set_title(title_str[ii])\n",
    "    ax1[ii].set_xlabel(\"x (m)\")\n",
    "    ax1[ii].set_ylabel(\"z (m)\")\n",
    "\n",
    "    ax2[ii] = fig.add_axes([0.84, 0.78 - 0.25 * ii, 0.03, 0.18])\n",
    "    cbar = mpl.colorbar.ColorbarBase(\n",
    "        ax2[ii], norm=norm, orientation=\"vertical\", cmap=mpl.cm.plasma\n",
    "    )\n",
    "    cbar.set_label(\"V/V\", rotation=270, labelpad=15, size=12)\n",
    "\n",
    "plt.show()"
   ]
  },
  {
   "cell_type": "code",
   "execution_count": null,
   "metadata": {},
   "outputs": [],
   "source": []
  }
 ],
 "metadata": {
  "kernelspec": {
   "display_name": "Python 3 (ipykernel)",
   "language": "python",
   "name": "python3"
  },
  "language_info": {
   "codemirror_mode": {
    "name": "ipython",
    "version": 3
   },
   "file_extension": ".py",
   "mimetype": "text/x-python",
   "name": "python",
   "nbconvert_exporter": "python",
   "pygments_lexer": "ipython3",
   "version": "3.10.9"
  }
 },
 "nbformat": 4,
 "nbformat_minor": 1
}
